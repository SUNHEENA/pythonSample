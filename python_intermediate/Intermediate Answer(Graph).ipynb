{
 "cells": [
  {
   "cell_type": "markdown",
   "id": "6387e72b",
   "metadata": {},
   "source": [
    "1번 답"
   ]
  },
  {
   "cell_type": "code",
   "execution_count": 1,
   "id": "5a716deb",
   "metadata": {},
   "outputs": [
    {
     "data": {
      "text/html": [
       "<div>\n",
       "<style scoped>\n",
       "    .dataframe tbody tr th:only-of-type {\n",
       "        vertical-align: middle;\n",
       "    }\n",
       "\n",
       "    .dataframe tbody tr th {\n",
       "        vertical-align: top;\n",
       "    }\n",
       "\n",
       "    .dataframe thead th {\n",
       "        text-align: right;\n",
       "    }\n",
       "</style>\n",
       "<table border=\"1\" class=\"dataframe\">\n",
       "  <thead>\n",
       "    <tr style=\"text-align: right;\">\n",
       "      <th></th>\n",
       "      <th>name</th>\n",
       "      <th>age</th>\n",
       "      <th>department</th>\n",
       "      <th>tel</th>\n",
       "      <th>판별</th>\n",
       "    </tr>\n",
       "  </thead>\n",
       "  <tbody>\n",
       "    <tr>\n",
       "      <th>0</th>\n",
       "      <td>SeeJin</td>\n",
       "      <td>25</td>\n",
       "      <td>IT</td>\n",
       "      <td>4040</td>\n",
       "      <td>Y</td>\n",
       "    </tr>\n",
       "    <tr>\n",
       "      <th>1</th>\n",
       "      <td>JeeHyun</td>\n",
       "      <td>30</td>\n",
       "      <td>R&amp;D</td>\n",
       "      <td>2278</td>\n",
       "      <td>Y</td>\n",
       "    </tr>\n",
       "    <tr>\n",
       "      <th>2</th>\n",
       "      <td>InKi</td>\n",
       "      <td>30</td>\n",
       "      <td>QA</td>\n",
       "      <td>4350</td>\n",
       "      <td>Y</td>\n",
       "    </tr>\n",
       "    <tr>\n",
       "      <th>3</th>\n",
       "      <td>JunHo</td>\n",
       "      <td>40</td>\n",
       "      <td>HR</td>\n",
       "      <td>4466</td>\n",
       "      <td>N</td>\n",
       "    </tr>\n",
       "    <tr>\n",
       "      <th>4</th>\n",
       "      <td>MinSu</td>\n",
       "      <td>45</td>\n",
       "      <td>TEST</td>\n",
       "      <td>3476</td>\n",
       "      <td>N</td>\n",
       "    </tr>\n",
       "    <tr>\n",
       "      <th>5</th>\n",
       "      <td>Chanho</td>\n",
       "      <td>25</td>\n",
       "      <td>PCS</td>\n",
       "      <td>2525</td>\n",
       "      <td>Y</td>\n",
       "    </tr>\n",
       "  </tbody>\n",
       "</table>\n",
       "</div>"
      ],
      "text/plain": [
       "      name  age department   tel 판별\n",
       "0   SeeJin   25         IT  4040  Y\n",
       "1  JeeHyun   30        R&D  2278  Y\n",
       "2     InKi   30         QA  4350  Y\n",
       "3    JunHo   40         HR  4466  N\n",
       "4    MinSu   45       TEST  3476  N\n",
       "5   Chanho   25        PCS  2525  Y"
      ]
     },
     "execution_count": 1,
     "metadata": {},
     "output_type": "execute_result"
    }
   ],
   "source": [
    "import pandas as pd\n",
    "#code를 바로 변경하여 답안을 완성 해 주세요.\n",
    "def ageDif(x):\n",
    "    if x<=36:\n",
    "        return \"Y\"\n",
    "    else:\n",
    "        return \"N\"\n",
    "\n",
    "excelDF = pd.read_csv('data/employee_list.csv')\n",
    "excelDF['판별']=''\n",
    "excelDF.판별= excelDF.age.apply(ageDif)\n",
    "excelDF"
   ]
  },
  {
   "cell_type": "code",
   "execution_count": 5,
   "id": "8b1db9d8",
   "metadata": {},
   "outputs": [
    {
     "data": {
      "text/html": [
       "<div>\n",
       "<style scoped>\n",
       "    .dataframe tbody tr th:only-of-type {\n",
       "        vertical-align: middle;\n",
       "    }\n",
       "\n",
       "    .dataframe tbody tr th {\n",
       "        vertical-align: top;\n",
       "    }\n",
       "\n",
       "    .dataframe thead th {\n",
       "        text-align: right;\n",
       "    }\n",
       "</style>\n",
       "<table border=\"1\" class=\"dataframe\">\n",
       "  <thead>\n",
       "    <tr style=\"text-align: right;\">\n",
       "      <th></th>\n",
       "      <th>NAME</th>\n",
       "      <th>TITLE</th>\n",
       "      <th>JOB</th>\n",
       "      <th>SALARY</th>\n",
       "    </tr>\n",
       "  </thead>\n",
       "  <tbody>\n",
       "    <tr>\n",
       "      <th>0</th>\n",
       "      <td>나서니</td>\n",
       "      <td>노비</td>\n",
       "      <td>개발자</td>\n",
       "      <td>100000</td>\n",
       "    </tr>\n",
       "    <tr>\n",
       "      <th>1</th>\n",
       "      <td>박성하</td>\n",
       "      <td>도비</td>\n",
       "      <td>RUN</td>\n",
       "      <td>200000</td>\n",
       "    </tr>\n",
       "    <tr>\n",
       "      <th>2</th>\n",
       "      <td>홍인기</td>\n",
       "      <td>사원</td>\n",
       "      <td>앰코스타</td>\n",
       "      <td>240000</td>\n",
       "    </tr>\n",
       "    <tr>\n",
       "      <th>3</th>\n",
       "      <td>김지현</td>\n",
       "      <td>우수사원</td>\n",
       "      <td>노동자</td>\n",
       "      <td>250000</td>\n",
       "    </tr>\n",
       "  </tbody>\n",
       "</table>\n",
       "</div>"
      ],
      "text/plain": [
       "  NAME TITLE   JOB  SALARY\n",
       "0  나서니    노비   개발자  100000\n",
       "1  박성하    도비   RUN  200000\n",
       "2  홍인기    사원  앰코스타  240000\n",
       "3  김지현  우수사원   노동자  250000"
      ]
     },
     "execution_count": 5,
     "metadata": {},
     "output_type": "execute_result"
    }
   ],
   "source": [
    "import pandas as pd\n",
    "df = pd.read_excel('C://Users//suhna//Desktop//IM_TEST_DF1.xlsx')\n",
    "df"
   ]
  },
  {
   "cell_type": "markdown",
   "id": "62e4d7fa",
   "metadata": {},
   "source": [
    "2번 답"
   ]
  },
  {
   "cell_type": "code",
   "execution_count": 3,
   "id": "75acae8e",
   "metadata": {
    "scrolled": true
   },
   "outputs": [
    {
     "data": {
      "text/html": [
       "<div>\n",
       "<style scoped>\n",
       "    .dataframe tbody tr th:only-of-type {\n",
       "        vertical-align: middle;\n",
       "    }\n",
       "\n",
       "    .dataframe tbody tr th {\n",
       "        vertical-align: top;\n",
       "    }\n",
       "\n",
       "    .dataframe thead th {\n",
       "        text-align: right;\n",
       "    }\n",
       "</style>\n",
       "<table border=\"1\" class=\"dataframe\">\n",
       "  <thead>\n",
       "    <tr style=\"text-align: right;\">\n",
       "      <th></th>\n",
       "      <th>NAME</th>\n",
       "      <th>TITLE</th>\n",
       "      <th>JOB</th>\n",
       "      <th>SALARY</th>\n",
       "    </tr>\n",
       "  </thead>\n",
       "  <tbody>\n",
       "    <tr>\n",
       "      <th>2</th>\n",
       "      <td>홍인기</td>\n",
       "      <td>사원</td>\n",
       "      <td>앰코스타</td>\n",
       "      <td>240000</td>\n",
       "    </tr>\n",
       "    <tr>\n",
       "      <th>3</th>\n",
       "      <td>김지현</td>\n",
       "      <td>우수사원</td>\n",
       "      <td>노동자</td>\n",
       "      <td>250000</td>\n",
       "    </tr>\n",
       "  </tbody>\n",
       "</table>\n",
       "</div>"
      ],
      "text/plain": [
       "  NAME TITLE   JOB  SALARY\n",
       "2  홍인기    사원  앰코스타  240000\n",
       "3  김지현  우수사원   노동자  250000"
      ]
     },
     "execution_count": 3,
     "metadata": {},
     "output_type": "execute_result"
    }
   ],
   "source": [
    "df = pd.read_excel('C://Users//suhna//Desktop//IM_TEST_DF1.xlsx')\n",
    "df.loc[df['SALARY']>=200000,:]\n",
    "df.loc[df['TITLE'].str.contains('사원')]"
   ]
  },
  {
   "cell_type": "markdown",
   "id": "a736f9f3",
   "metadata": {},
   "source": [
    "3번 답"
   ]
  },
  {
   "cell_type": "code",
   "execution_count": 37,
   "id": "7ed2e79f",
   "metadata": {
    "scrolled": false
   },
   "outputs": [
    {
     "data": {
      "text/html": [
       "<div>\n",
       "<style scoped>\n",
       "    .dataframe tbody tr th:only-of-type {\n",
       "        vertical-align: middle;\n",
       "    }\n",
       "\n",
       "    .dataframe tbody tr th {\n",
       "        vertical-align: top;\n",
       "    }\n",
       "\n",
       "    .dataframe thead th {\n",
       "        text-align: right;\n",
       "    }\n",
       "</style>\n",
       "<table border=\"1\" class=\"dataframe\">\n",
       "  <thead>\n",
       "    <tr style=\"text-align: right;\">\n",
       "      <th></th>\n",
       "      <th>NAME</th>\n",
       "      <th>TITLE</th>\n",
       "    </tr>\n",
       "  </thead>\n",
       "  <tbody>\n",
       "    <tr>\n",
       "      <th>0</th>\n",
       "      <td>나서니</td>\n",
       "      <td>노비</td>\n",
       "    </tr>\n",
       "    <tr>\n",
       "      <th>1</th>\n",
       "      <td>박성하</td>\n",
       "      <td>도비</td>\n",
       "    </tr>\n",
       "    <tr>\n",
       "      <th>2</th>\n",
       "      <td>홍인기</td>\n",
       "      <td>사원</td>\n",
       "    </tr>\n",
       "    <tr>\n",
       "      <th>1</th>\n",
       "      <td>윤성하</td>\n",
       "      <td>도비</td>\n",
       "    </tr>\n",
       "  </tbody>\n",
       "</table>\n",
       "</div>"
      ],
      "text/plain": [
       "  NAME TITLE\n",
       "0  나서니    노비\n",
       "1  박성하    도비\n",
       "2  홍인기    사원\n",
       "1  윤성하    도비"
      ]
     },
     "execution_count": 37,
     "metadata": {},
     "output_type": "execute_result"
    }
   ],
   "source": [
    "temp = pd.read_excel('C://Users//suhna//Desktop//IM_TEST_DF1.xlsx')\n",
    "temp2 = pd.read_excel('C://Users//suhna//Desktop//IM_TEST_DF2.xlsx')\n",
    "sumdf = pd.concat([temp,temp2])\n",
    "sumdf = sumdf.dropna(how='any')\n",
    "sumdf = sumdf[sumdf['SALARY']<=240000]\n",
    "sumdf = sumdf.drop_duplicates(['NAME'], keep = 'first')\n",
    "result = sumdf[['NAME','TITLE']]\n",
    "result"
   ]
  },
  {
   "cell_type": "code",
   "execution_count": null,
   "id": "5d360a30",
   "metadata": {},
   "outputs": [],
   "source": [
    "4번답"
   ]
  },
  {
   "cell_type": "code",
   "execution_count": 45,
   "id": "cca57c46",
   "metadata": {
    "scrolled": false
   },
   "outputs": [
    {
     "name": "stdout",
     "output_type": "stream",
     "text": [
      "기업을 입력 해 주세요-->하이닉스\n",
      "현재 하이닉스 주가는 106,000 입니다.\n"
     ]
    }
   ],
   "source": [
    "# 네이버 \n",
    "import requests # 사이트의 webpage 문서를 back ground 에서 down할 수 있도록\n",
    "from bs4 import BeautifulSoup\n",
    "ent = input(\"기업을 입력 해 주세요-->\")\n",
    "url = \"https://search.naver.com/search.naver?where=nexearch&sm=top_hty&fbm=1&ie=utf8&query=\" + ent + \" 주가\"\n",
    "html = requests.get(url).text\n",
    "soup = BeautifulSoup(html, 'html.parser')\n",
    "tempTxt = soup.find('span', \n",
    "        class_='spt_con up').text\n",
    "t = tempTxt.split(' ')\n",
    "print(f\"현재 {ent} 주가는 {t[2]} 입니다.\")"
   ]
  },
  {
   "cell_type": "code",
   "execution_count": null,
   "id": "b4a3c759",
   "metadata": {},
   "outputs": [],
   "source": [
    "5번답"
   ]
  },
  {
   "cell_type": "code",
   "execution_count": 51,
   "id": "16a3b90e",
   "metadata": {
    "scrolled": true
   },
   "outputs": [
    {
     "name": "stderr",
     "output_type": "stream",
     "text": [
      "\n",
      "\n",
      "====== WebDriver manager ======\n",
      "Current google-chrome version is 102.0.5005\n",
      "Get LATEST chromedriver version for 102.0.5005 google-chrome\n",
      "Driver [C:\\Users\\suhna\\.wdm\\drivers\\chromedriver\\win32\\102.0.5005.61\\chromedriver.exe] found in cache\n",
      "C:\\Users\\suhna\\AppData\\Local\\Temp\\4/ipykernel_10432/1101081550.py:5: DeprecationWarning: executable_path has been deprecated, please pass in a Service object\n",
      "  driver = webdriver.Chrome(ChromeDriverManager().install())\n",
      "C:\\Users\\suhna\\AppData\\Local\\Temp\\4/ipykernel_10432/1101081550.py:8: DeprecationWarning: find_elements_by_xpath is deprecated. Please use find_elements(by=By.XPATH, value=xpath) instead\n",
      "  title_list = driver.find_elements_by_xpath(\"//div[contains(@class,'ellipsis rank01')]\")\n",
      "C:\\Users\\suhna\\AppData\\Local\\Temp\\4/ipykernel_10432/1101081550.py:9: DeprecationWarning: find_elements_by_xpath is deprecated. Please use find_elements(by=By.XPATH, value=xpath) instead\n",
      "  singer_list = driver.find_elements_by_xpath(\"//div[contains(@class,'ellipsis rank02')]\")\n"
     ]
    },
    {
     "name": "stdout",
     "output_type": "stream",
     "text": [
      "가수:싸이 (PSY), 제목 :That That (prod. & feat. SUGA of BTS)\n",
      "가수:(여자)아이들, 제목 :TOMBOY\n",
      "가수:IVE (아이브), 제목 :LOVE DIVE\n",
      "가수:BIGBANG (빅뱅), 제목 :봄여름가을겨울 (Still Life)\n",
      "가수:멜로망스, 제목 :사랑인가 봐\n",
      "가수:임영웅, 제목 :사랑은 늘 도망가\n",
      "가수:BIG Naughty (서동현), 제목 :정이라고 하자 (Feat. 10CM)\n",
      "가수:임영웅, 제목 :우리들의 블루스\n",
      "가수:경서, 제목 :나의 X에게\n",
      "가수:Red Velvet (레드벨벳), 제목 :Feel My Rhythm\n",
      "가수:BE'O (비오), 제목 :LOVE me\n",
      "가수:임영웅, 제목 :다시 만날 수 있을까\n",
      "가수:LE SSERAFIM (르세라핌), 제목 :FEARLESS\n",
      "가수:김민석 (멜로망스), 제목 :취중고백\n",
      "가수:박재범, 제목 :GANADARA (Feat. 아이유)\n",
      "가수:임영웅, 제목 :이제 나만 믿어요\n",
      "가수:제시 (Jessi), 제목 :ZOOM\n",
      "가수:임영웅, 제목 :무지개\n",
      "가수:태연 (TAEYEON), 제목 :INVU\n",
      "가수:임영웅, 제목 :아버지\n",
      "가수:이무진, 제목 :신호등\n",
      "가수:임영웅, 제목 :손이 참 곱던 그대\n",
      "가수:IVE (아이브), 제목 :ELEVEN\n",
      "가수:MSG워너비(M.O.M), 제목 :듣고 싶을까\n",
      "가수:임영웅, 제목 :A bientot\n",
      "가수:경서예지, 전건호, 제목 :다정히 내 이름을 부르면\n",
      "가수:임영웅, 제목 :사랑해 진짜\n",
      "가수:(여자)아이들, 제목 :MY BAG\n",
      "가수:임영웅, 제목 :연애편지\n",
      "가수:임영웅, 제목 :인생찬가\n",
      "가수:The Kid LAROI, Justin Bieber, 제목 :STAY\n",
      "가수:임영웅, 제목 :사랑역\n",
      "가수:세븐틴, 제목 :HOT\n",
      "가수:Charlie Puth, 제목 :That's Hilarious\n",
      "가수:임영웅, 제목 :보금자리\n",
      "가수:임영웅, 제목 :사랑해요 그대를\n",
      "가수:aespa, 제목 :Next Level\n",
      "가수:태연 (TAEYEON), 제목 :Weekend\n",
      "가수:주호, 제목 :내가 아니라도\n",
      "가수:주시크 (Joosiq), 제목 :너를 생각해\n",
      "가수:케이시 (Kassy), 제목 :언제나 사랑해\n",
      "가수:YENA (최예나), 제목 :SMILEY (Feat. BIBI)\n",
      "가수:방탄소년단, 제목 :Dynamite\n",
      "가수:sokodomo, 제목 :회전목마 (Feat. Zion.T, 원슈타인) (Prod. Slom)\n",
      "가수:방탄소년단, 제목 :Butter\n",
      "가수:아이유, 제목 :드라마\n",
      "가수:아이유, 제목 :strawberry moon\n",
      "가수:성시경, 제목 :너의 모든 순간\n",
      "가수:BE'O (비오), 제목 :리무진 (Feat. MINO) (Prod. GRAY)\n",
      "가수:STAYC(스테이씨), 제목 :RUN2U\n",
      "가수:볼빨간사춘기, 제목 :Seoul\n",
      "가수:싸이 (PSY), 제목 :Celeb\n",
      "가수:방탄소년단, 제목 :Permission to Dance\n",
      "가수:아이유, 제목 :내 손을 잡아\n",
      "가수:아이유, 제목 :라일락\n",
      "가수:세븐틴, 제목 :Darl+ing\n",
      "가수:자우림, 제목 :스물다섯, 스물하나\n",
      "가수:주시크 (Joosiq), 제목 :아무래도 난\n",
      "가수:MSG워너비(M.O.M), 제목 :바라만 본다\n",
      "가수:이무진, 제목 :눈이 오잖아(Feat.헤이즈)\n",
      "가수:세븐틴, 제목 :DON QUIXOTE\n",
      "가수:디핵 (D-Hack), PATEKO (파테코), 제목 :OHAYO MY NIGHT\n",
      "가수:탑현, 제목 :호랑수월가\n",
      "가수:지민, 하성운, 제목 :With you\n",
      "가수:GOT the beat, 제목 :Step Back\n",
      "가수:BE'O (비오), 제목 :Counting Stars (Feat. Beenzino)\n",
      "가수:케이시 (Kassy), 제목 :늦은 밤 헤어지긴 너무 아쉬워\n",
      "가수:Ed Sheeran, 제목 :Bad Habits\n",
      "가수:aespa, 제목 :Savage\n",
      "가수:아이유, 제목 :Celebrity\n",
      "가수:원슈타인, 제목 :존재만으로\n",
      "가수:세븐틴, 제목 :March\n",
      "가수:Justin Bieber, 제목 :Off My Face\n",
      "가수:경서, 제목 :밤하늘의 별을(2020)\n",
      "가수:다비치, 제목 :팡파레\n",
      "가수:방탄소년단, 제목 :봄날\n",
      "가수:V.O.S, 제목 :미친 것처럼\n",
      "가수:아이유, 제목 :Blueming\n",
      "가수:BE'O (비오), 제목 :문득\n",
      "가수:멜로망스, 제목 :고백\n",
      "가수:호미들, 제목 :사이렌 Remix (Feat. UNEDUCATED KID, Paul Blanco)\n",
      "가수:세븐틴, 제목 :Domino\n",
      "가수:폴킴, 제목 :모든 날, 모든 순간 (Every day, Every Moment)\n",
      "가수:마크툽 (MAKTUB), 제목 :찰나가 영원이 될 때 (The Eternal Moment)\n",
      "가수:한동근, 제목 :사랑인걸\n",
      "가수:세븐틴, 제목 :Shadow\n",
      "가수:Coldplay, 방탄소년단, 제목 :My Universe\n",
      "가수:오마이걸 (OH MY GIRL), 제목 :Dun Dun Dance\n",
      "가수:헤이즈 (Heize), 제목 :헤픈 우연\n",
      "가수:브레이브걸스, 제목 :롤린 (Rollin')\n",
      "가수:싸이 (PSY), 제목 :감동이야 (feat. 성시경)\n",
      "가수:멜로망스, 제목 :초대\n",
      "가수:세븐틴, 제목 :노래해\n",
      "가수:휘인 (Whee In), 제목 :너, 너 (N번째 연애 X 휘인 (Whee In))\n",
      "가수:AKMU (악뮤), 제목 :어떻게 이별까지 사랑하겠어, 널 사랑하는 거지\n",
      "가수:aespa, 제목 :Dreams Come True\n",
      "가수:폴킴, 제목 :어제처럼\n",
      "가수:베이식 (Basick), 제목 :만남은 쉽고 이별은 어려워 (Feat. Leellamarz) (Prod. TOIL)\n",
      "가수:오마이걸 (OH MY GIRL), 제목 :Real Love\n",
      "가수:GAYLE, 제목 :abcdefu\n"
     ]
    }
   ],
   "source": [
    "#find_elements_by_xpath\n",
    "from selenium import webdriver\n",
    "from webdriver_manager.chrome import ChromeDriverManager\n",
    "\n",
    "driver = webdriver.Chrome(ChromeDriverManager().install())\n",
    "driver.get(\"https://www.melon.com/chart/\")\n",
    "\n",
    "title_list = driver.find_elements_by_xpath(\"//div[contains(@class,'ellipsis rank01')]\")\n",
    "singer_list = driver.find_elements_by_xpath(\"//div[contains(@class,'ellipsis rank02')]\")\n",
    "for i in range(0, len(title_list)):\n",
    "    print(\"가수:\"+singer_list[i].text+\", 제목 :\"+title_list[i].text)\n",
    "driver.quit()"
   ]
  },
  {
   "cell_type": "code",
   "execution_count": null,
   "id": "f52e1b1a",
   "metadata": {},
   "outputs": [],
   "source": [
    "6번 답안"
   ]
  },
  {
   "cell_type": "code",
   "execution_count": 1,
   "id": "83eb0534",
   "metadata": {
    "scrolled": true
   },
   "outputs": [
    {
     "name": "stdout",
     "output_type": "stream",
     "text": [
      "\n"
     ]
    },
    {
     "name": "stderr",
     "output_type": "stream",
     "text": [
      "[WDM] - ====== WebDriver manager ======\n",
      "[WDM] - Current google-chrome version is 103.0.5060\n",
      "[WDM] - Get LATEST chromedriver version for 103.0.5060 google-chrome\n",
      "[WDM] - Driver [C:\\Users\\suhna\\.wdm\\drivers\\chromedriver\\win32\\103.0.5060.53\\chromedriver.exe] found in cache\n",
      "C:\\Users\\suhna\\AppData\\Local\\Temp\\13\\ipykernel_7916\\2340434689.py:4: DeprecationWarning: executable_path has been deprecated, please pass in a Service object\n",
      "  driver = webdriver.Chrome(ChromeDriverManager().install())\n",
      "C:\\Users\\suhna\\AppData\\Local\\Temp\\13\\ipykernel_7916\\2340434689.py:7: DeprecationWarning: find_elements_by_xpath is deprecated. Please use find_elements(by=By.XPATH, value=xpath) instead\n",
      "  title_list = driver.find_elements_by_xpath(\"//div[contains(@class,'ellipsis rank01')]\")\n",
      "C:\\Users\\suhna\\AppData\\Local\\Temp\\13\\ipykernel_7916\\2340434689.py:8: DeprecationWarning: find_elements_by_xpath is deprecated. Please use find_elements(by=By.XPATH, value=xpath) instead\n",
      "  singer_list = driver.find_elements_by_xpath(\"//div[contains(@class,'ellipsis rank02')]\")\n"
     ]
    },
    {
     "data": {
      "text/html": [
       "<div>\n",
       "<style scoped>\n",
       "    .dataframe tbody tr th:only-of-type {\n",
       "        vertical-align: middle;\n",
       "    }\n",
       "\n",
       "    .dataframe tbody tr th {\n",
       "        vertical-align: top;\n",
       "    }\n",
       "\n",
       "    .dataframe thead th {\n",
       "        text-align: right;\n",
       "    }\n",
       "</style>\n",
       "<table border=\"1\" class=\"dataframe\">\n",
       "  <thead>\n",
       "    <tr style=\"text-align: right;\">\n",
       "      <th></th>\n",
       "      <th>제목</th>\n",
       "      <th>가수</th>\n",
       "    </tr>\n",
       "  </thead>\n",
       "  <tbody>\n",
       "    <tr>\n",
       "      <th>0</th>\n",
       "      <td>LOVE DIVE</td>\n",
       "      <td>IVE (아이브)</td>\n",
       "    </tr>\n",
       "    <tr>\n",
       "      <th>1</th>\n",
       "      <td>That That (prod. &amp; feat. SUGA of BTS)</td>\n",
       "      <td>싸이 (PSY)</td>\n",
       "    </tr>\n",
       "    <tr>\n",
       "      <th>2</th>\n",
       "      <td>TOMBOY</td>\n",
       "      <td>(여자)아이들</td>\n",
       "    </tr>\n",
       "    <tr>\n",
       "      <th>3</th>\n",
       "      <td>사랑인가 봐</td>\n",
       "      <td>멜로망스</td>\n",
       "    </tr>\n",
       "    <tr>\n",
       "      <th>4</th>\n",
       "      <td>정이라고 하자 (Feat. 10CM)</td>\n",
       "      <td>BIG Naughty (서동현)</td>\n",
       "    </tr>\n",
       "    <tr>\n",
       "      <th>...</th>\n",
       "      <td>...</td>\n",
       "      <td>...</td>\n",
       "    </tr>\n",
       "    <tr>\n",
       "      <th>95</th>\n",
       "      <td>Darl+ing</td>\n",
       "      <td>세븐틴</td>\n",
       "    </tr>\n",
       "    <tr>\n",
       "      <th>96</th>\n",
       "      <td>찰나가 영원이 될 때 (The Eternal Moment)</td>\n",
       "      <td>마크툽 (MAKTUB)</td>\n",
       "    </tr>\n",
       "    <tr>\n",
       "      <th>97</th>\n",
       "      <td>Beatbox</td>\n",
       "      <td>NCT DREAM</td>\n",
       "    </tr>\n",
       "    <tr>\n",
       "      <th>98</th>\n",
       "      <td>참고사항</td>\n",
       "      <td>이무진</td>\n",
       "    </tr>\n",
       "    <tr>\n",
       "      <th>99</th>\n",
       "      <td>Seoul</td>\n",
       "      <td>볼빨간사춘기</td>\n",
       "    </tr>\n",
       "  </tbody>\n",
       "</table>\n",
       "<p>100 rows × 2 columns</p>\n",
       "</div>"
      ],
      "text/plain": [
       "                                       제목                 가수\n",
       "0                               LOVE DIVE          IVE (아이브)\n",
       "1   That That (prod. & feat. SUGA of BTS)           싸이 (PSY)\n",
       "2                                  TOMBOY            (여자)아이들\n",
       "3                                  사랑인가 봐               멜로망스\n",
       "4                    정이라고 하자 (Feat. 10CM)  BIG Naughty (서동현)\n",
       "..                                    ...                ...\n",
       "95                               Darl+ing                세븐틴\n",
       "96       찰나가 영원이 될 때 (The Eternal Moment)       마크툽 (MAKTUB)\n",
       "97                                Beatbox          NCT DREAM\n",
       "98                                   참고사항                이무진\n",
       "99                                  Seoul             볼빨간사춘기\n",
       "\n",
       "[100 rows x 2 columns]"
      ]
     },
     "execution_count": 1,
     "metadata": {},
     "output_type": "execute_result"
    }
   ],
   "source": [
    "from selenium import webdriver\n",
    "from webdriver_manager.chrome import ChromeDriverManager\n",
    "import pandas as pd\n",
    "driver = webdriver.Chrome(ChromeDriverManager().install())\n",
    "driver.get(\"https://www.melon.com/chart/\")\n",
    "\n",
    "title_list = driver.find_elements_by_xpath(\"//div[contains(@class,'ellipsis rank01')]\")\n",
    "singer_list = driver.find_elements_by_xpath(\"//div[contains(@class,'ellipsis rank02')]\")\n",
    "titleList=list()\n",
    "nameList=list()\n",
    "for i in range(0, len(title_list)):\n",
    "    #print(\"가수:\"+singer_list[i].text+\", 제목 :\"+title_list[i].text)\n",
    "    titleList.append(title_list[i].text)\n",
    "    nameList.append(singer_list[i].text)\n",
    "driver.quit()\n",
    "data = {\n",
    "        '제목': titleList,\n",
    "        '가수': nameList\n",
    "        }\n",
    "df = pd.DataFrame(data,columns=['제목','가수'])\n",
    "df"
   ]
  },
  {
   "cell_type": "code",
   "execution_count": 2,
   "id": "4aea1e22",
   "metadata": {},
   "outputs": [
    {
     "name": "stdout",
     "output_type": "stream",
     "text": [
      "\n"
     ]
    },
    {
     "name": "stderr",
     "output_type": "stream",
     "text": [
      "[WDM] - ====== WebDriver manager ======\n",
      "[WDM] - Current google-chrome version is 103.0.5060\n",
      "[WDM] - Get LATEST chromedriver version for 103.0.5060 google-chrome\n",
      "[WDM] - Driver [C:\\Users\\suhna\\.wdm\\drivers\\chromedriver\\win32\\103.0.5060.53\\chromedriver.exe] found in cache\n",
      "C:\\Users\\suhna\\AppData\\Local\\Temp\\13\\ipykernel_7916\\2538232895.py:1: DeprecationWarning: executable_path has been deprecated, please pass in a Service object\n",
      "  driver = webdriver.Chrome(ChromeDriverManager().install())\n"
     ]
    }
   ],
   "source": [
    "driver = webdriver.Chrome(ChromeDriverManager().install())\n",
    "driver.get(\"https://www.melon.com/chart/\")"
   ]
  },
  {
   "cell_type": "code",
   "execution_count": null,
   "id": "94abc0ce",
   "metadata": {},
   "outputs": [],
   "source": [
    "7번 정답\n"
   ]
  },
  {
   "cell_type": "code",
   "execution_count": 2,
   "id": "f4024756",
   "metadata": {
    "scrolled": true
   },
   "outputs": [
    {
     "data": {
      "text/plain": [
       "Text(0.5, 1.0, '파트별 나이현황')"
      ]
     },
     "execution_count": 2,
     "metadata": {},
     "output_type": "execute_result"
    },
    {
     "data": {
      "image/png": "[encoded data removed]",
      "text/plain": [
       "<Figure size 504x360 with 1 Axes>"
      ]
     },
     "metadata": {},
     "output_type": "display_data"
    }
   ],
   "source": [
    "import matplotlib.pyplot as plt\n",
    "import matplotlib\n",
    "import pandas as pd\n",
    "import numpy as np\n",
    "excelG = pd.read_csv('im_test_문서/employee_list_g.csv')\n",
    "matplotlib.rcParams['font.family'] = 'Malgun Gothic'\n",
    "matplotlib.rcParams['font.size'] = 15\n",
    "matplotlib.rcParams['axes.unicode_minus'] = False\n",
    "matplotlib.rcParams['axes.titlecolor']='#FFFFFF'\n",
    "fig = plt.figure(figsize=(7, 5))\n",
    "fig.patch.set_facecolor('#3b3b3b')\n",
    "plt.bar(excelG['department'],excelG['age'])\n",
    "plt.xticks(color='#FFFFFF')\n",
    "plt.yticks(color='#FFFFFF')\n",
    "plt.title('파트별 나이현황')"
   ]
  },
  {
   "cell_type": "code",
   "execution_count": null,
   "id": "99b8c801",
   "metadata": {},
   "outputs": [],
   "source": [
    "8번 정답"
   ]
  },
  {
   "cell_type": "code",
   "execution_count": 3,
   "id": "459f7cb1",
   "metadata": {},
   "outputs": [
    {
     "name": "stdout",
     "output_type": "stream",
     "text": [
      "     20대  30대  40대  50대  70대\n",
      "cnt    4    4    2    2    1\n"
     ]
    },
    {
     "data": {
      "image/png": "[encoded data removed]",
      "text/plain": [
       "<Figure size 504x360 with 1 Axes>"
      ]
     },
     "metadata": {},
     "output_type": "display_data"
    }
   ],
   "source": [
    "excelG = pd.read_csv('im_test_문서/employee_list_g.csv')\n",
    "\n",
    "ageRange=list()\n",
    "ageList = {}\n",
    "\n",
    "for i in excelG['age']:\n",
    "    ageRange.append(str(i)[0:1])\n",
    "ageRange = set(ageRange)\n",
    "ageRange = sorted(ageRange, key=int)\n",
    "\n",
    "for i in ageRange:\n",
    "    ageList[i+'0대']=0   \n",
    "    \n",
    "for age in excelG['age']:\n",
    "    age = str(age)[0:1]\n",
    "    ageList[age+'0대'] = ageList[age+'0대']+1\n",
    "    \n",
    "df = pd.DataFrame(ageList,index = ['cnt'])\n",
    "print(df)\n",
    "x = np.arange(len(ageList))\n",
    "    # 그래프 밖의 색\n",
    "fig = plt.figure(figsize=(7, 5))\n",
    "fig.patch.set_facecolor('#3b3b3b')\n",
    "age = df\n",
    "count = df\n",
    "plt.grid(zorder=0)\n",
    "plt.scatter(x, count, color='#d9534f')\n",
    "plt.xticks(x, age)\n",
    "#plt.ylim([0, 10])\n",
    "plt.title('연령대별 현황',color='white', size='22')\n",
    "# plt.legend(loc=(0.5, 0.5))\n",
    "#plt.legend()\n",
    "# legend = plt.legend(facecolor='#3b3b3b', framealpha=1,loc='upper center', ncol=1, fontsize=8, bbox_to_anchor=(1.05, 1.0))\n",
    "# plt.setp(legend.get_texts(), color='white')\n",
    "ax = plt.gca()\n",
    "ax.spines[\"bottom\"].set_color(\"gray\")\n",
    "ax.spines[\"left\"].set_color(\"gray\")\n",
    "ax.spines[\"right\"].set_color(\"gray\")\n",
    "ax.spines[\"top\"].set_color(\"gray\")\n",
    "#그래프 안에 색\n",
    "ax.set_facecolor('#3b3b3b')\n",
    "plt.grid(True, axis='y', color='gray', alpha=0.5, linestyle='--')\n",
    "plt.grid(True, axis='x', color='#3b3b3b', alpha=0.5, linestyle='--')\n",
    "plt.tick_params(axis='both', direction='in', length=3, pad=6, labelsize=14)\n",
    "ax.tick_params(axis='x', colors='white')\n",
    "ax.tick_params(axis='y', colors='white')"
   ]
  },
  {
   "cell_type": "code",
   "execution_count": null,
   "id": "d3fb408c",
   "metadata": {},
   "outputs": [],
   "source": []
  }
 ],
 "metadata": {
  "kernelspec": {
   "display_name": "Python 3 (ipykernel)",
   "language": "python",
   "name": "python3"
  },
  "language_info": {
   "codemirror_mode": {
    "name": "ipython",
    "version": 3
   },
   "file_extension": ".py",
   "mimetype": "text/x-python",
   "name": "python",
   "nbconvert_exporter": "python",
   "pygments_lexer": "ipython3",
   "version": "3.9.13"
  },
  "toc": {
   "base_numbering": 1,
   "nav_menu": {},
   "number_sections": true,
   "sideBar": true,
   "skip_h1_title": false,
   "title_cell": "Table of Contents",
   "title_sidebar": "Contents",
   "toc_cell": false,
   "toc_position": {},
   "toc_section_display": true,
   "toc_window_display": false
  }
 },
 "nbformat": 4,
 "nbformat_minor": 5
}
