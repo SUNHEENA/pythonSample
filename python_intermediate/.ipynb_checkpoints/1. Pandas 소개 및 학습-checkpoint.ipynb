{
 "cells": [
  {
   "cell_type": "markdown",
   "id": "146a0273",
   "metadata": {},
   "source": [
    "# ✅ Pandas 라이브러리와 Dataframe, Series의 이해\n",
    "\n",
    "## 🎯 Pandas 라이브러리\n",
    "\n",
    "- 데이터 수정 및 변경에 유용한 파이썬 라이브러리\n",
    "- 엑셀이나 csv 형식의 파일을 보고 수정하는데 특화되어 있습니다.\n",
    "- dataframe, series를 사용합니다.\n",
    "series = list, dict, tuple 형태의 DF의 하위 자료형<br>\n",
    "dataframe 👉 series가 여러개 합쳐진 자료형\n",
    "\n",
    "- 라이브러리 공식문서 참조\n",
    "👀 https://pandas.pydata.org/docs/reference/api/pandas.DataFrame.html"
   ]
  },
  {
   "cell_type": "code",
   "execution_count": 48,
   "id": "c89a6618",
   "metadata": {
    "ExecuteTime": {
     "end_time": "2022-06-30T04:37:16.308255Z",
     "start_time": "2022-06-30T04:37:15.545432Z"
    }
   },
   "outputs": [],
   "source": [
    "#as는 pandas라는 모듈.을 pd라고 별칭으로 줄여서 사용하겠다는 의미\n",
    "import pandas as pd\n"
   ]
  },
  {
   "cell_type": "code",
   "execution_count": 47,
   "id": "f2d6f3bf",
   "metadata": {
    "ExecuteTime": {
     "end_time": "2022-06-19T02:38:00.550456Z",
     "start_time": "2022-06-19T02:37:57.868510Z"
    }
   },
   "outputs": [
    {
     "name": "stdout",
     "output_type": "stream",
     "text": [
      "Requirement already satisfied: pandas in c:\\users\\suhna\\appdata\\local\\programs\\python\\python39\\lib\\site-packages (1.4.2)\n",
      "Requirement already satisfied: numpy>=1.18.5 in c:\\users\\suhna\\appdata\\local\\programs\\python\\python39\\lib\\site-packages (from pandas) (1.22.4)\n",
      "Requirement already satisfied: python-dateutil>=2.8.1 in c:\\users\\suhna\\appdata\\local\\programs\\python\\python39\\lib\\site-packages (from pandas) (2.8.2)\n",
      "Requirement already satisfied: pytz>=2020.1 in c:\\users\\suhna\\appdata\\local\\programs\\python\\python39\\lib\\site-packages (from pandas) (2022.1)\n",
      "Requirement already satisfied: six>=1.5 in c:\\users\\suhna\\appdata\\local\\programs\\python\\python39\\lib\\site-packages (from python-dateutil>=2.8.1->pandas) (1.16.0)\n",
      "\n",
      "[notice] A new release of pip available: 22.1.2 -> 22.2.2\n",
      "[notice] To update, run: python.exe -m pip install --upgrade pip\n"
     ]
    }
   ],
   "source": [
    "#pandas 라이브러리 설치\n",
    "!pip install pandas"
   ]
  },
  {
   "cell_type": "code",
   "execution_count": null,
   "id": "d4b77266",
   "metadata": {},
   "outputs": [],
   "source": [
    "df = pd."
   ]
  },
  {
   "cell_type": "code",
   "execution_count": 51,
   "id": "dfc96715",
   "metadata": {
    "ExecuteTime": {
     "end_time": "2022-06-30T04:37:18.162268Z",
     "start_time": "2022-06-30T04:37:18.112906Z"
    },
    "scrolled": true
   },
   "outputs": [
    {
     "data": {
      "text/html": [
       "<div>\n",
       "<style scoped>\n",
       "    .dataframe tbody tr th:only-of-type {\n",
       "        vertical-align: middle;\n",
       "    }\n",
       "\n",
       "    .dataframe tbody tr th {\n",
       "        vertical-align: top;\n",
       "    }\n",
       "\n",
       "    .dataframe thead th {\n",
       "        text-align: right;\n",
       "    }\n",
       "</style>\n",
       "<table border=\"1\" class=\"dataframe\">\n",
       "  <thead>\n",
       "    <tr style=\"text-align: right;\">\n",
       "      <th></th>\n",
       "      <th>name</th>\n",
       "      <th>age</th>\n",
       "      <th>department</th>\n",
       "      <th>tel</th>\n",
       "    </tr>\n",
       "  </thead>\n",
       "  <tbody>\n",
       "    <tr>\n",
       "      <th>0</th>\n",
       "      <td>SeeJin</td>\n",
       "      <td>25</td>\n",
       "      <td>IT</td>\n",
       "      <td>4040</td>\n",
       "    </tr>\n",
       "    <tr>\n",
       "      <th>1</th>\n",
       "      <td>JeeHyun</td>\n",
       "      <td>30</td>\n",
       "      <td>R&amp;D</td>\n",
       "      <td>2278</td>\n",
       "    </tr>\n",
       "    <tr>\n",
       "      <th>2</th>\n",
       "      <td>InKi</td>\n",
       "      <td>30</td>\n",
       "      <td>QA</td>\n",
       "      <td>4350</td>\n",
       "    </tr>\n",
       "    <tr>\n",
       "      <th>3</th>\n",
       "      <td>JunHo</td>\n",
       "      <td>40</td>\n",
       "      <td>HR</td>\n",
       "      <td>4466</td>\n",
       "    </tr>\n",
       "    <tr>\n",
       "      <th>4</th>\n",
       "      <td>MinSu</td>\n",
       "      <td>45</td>\n",
       "      <td>TEST</td>\n",
       "      <td>3476</td>\n",
       "    </tr>\n",
       "    <tr>\n",
       "      <th>5</th>\n",
       "      <td>Chanho</td>\n",
       "      <td>25</td>\n",
       "      <td>PCS</td>\n",
       "      <td>2525</td>\n",
       "    </tr>\n",
       "  </tbody>\n",
       "</table>\n",
       "</div>"
      ],
      "text/plain": [
       "      name  age department   tel\n",
       "0   SeeJin   25         IT  4040\n",
       "1  JeeHyun   30        R&D  2278\n",
       "2     InKi   30         QA  4350\n",
       "3    JunHo   40         HR  4466\n",
       "4    MinSu   45       TEST  3476\n",
       "5   Chanho   25        PCS  2525"
      ]
     },
     "execution_count": 51,
     "metadata": {},
     "output_type": "execute_result"
    }
   ],
   "source": [
    "#read_csv는 csv 파일 형식의 엑셀 데이터를 읽어올때 사용합니다.\n",
    "df = pd.read_csv(\"data/employee_list.csv\")\n"
   ]
  },
  {
   "cell_type": "code",
   "execution_count": 52,
   "id": "91ba0a85",
   "metadata": {
    "scrolled": true
   },
   "outputs": [
    {
     "data": {
      "text/html": [
       "<div>\n",
       "<style scoped>\n",
       "    .dataframe tbody tr th:only-of-type {\n",
       "        vertical-align: middle;\n",
       "    }\n",
       "\n",
       "    .dataframe tbody tr th {\n",
       "        vertical-align: top;\n",
       "    }\n",
       "\n",
       "    .dataframe thead th {\n",
       "        text-align: right;\n",
       "    }\n",
       "</style>\n",
       "<table border=\"1\" class=\"dataframe\">\n",
       "  <thead>\n",
       "    <tr style=\"text-align: right;\">\n",
       "      <th></th>\n",
       "      <th>name</th>\n",
       "      <th>age</th>\n",
       "      <th>department</th>\n",
       "      <th>tel</th>\n",
       "    </tr>\n",
       "  </thead>\n",
       "  <tbody>\n",
       "    <tr>\n",
       "      <th>0</th>\n",
       "      <td>SeeJin</td>\n",
       "      <td>25</td>\n",
       "      <td>IT</td>\n",
       "      <td>4040</td>\n",
       "    </tr>\n",
       "    <tr>\n",
       "      <th>1</th>\n",
       "      <td>JeeHyun</td>\n",
       "      <td>30</td>\n",
       "      <td>R&amp;D</td>\n",
       "      <td>2278</td>\n",
       "    </tr>\n",
       "  </tbody>\n",
       "</table>\n",
       "</div>"
      ],
      "text/plain": [
       "      name  age department   tel\n",
       "0   SeeJin   25         IT  4040\n",
       "1  JeeHyun   30        R&D  2278"
      ]
     },
     "execution_count": 52,
     "metadata": {},
     "output_type": "execute_result"
    }
   ],
   "source": [
    "df.head(2)"
   ]
  },
  {
   "cell_type": "code",
   "execution_count": 5,
   "id": "4320609f",
   "metadata": {
    "ExecuteTime": {
     "end_time": "2022-06-19T02:40:49.075105Z",
     "start_time": "2022-06-19T02:40:49.062149Z"
    }
   },
   "outputs": [
    {
     "name": "stdout",
     "output_type": "stream",
     "text": [
      "<class 'pandas.core.frame.DataFrame'>\n",
      "<class 'pandas.core.series.Series'>\n",
      "<class 'pandas.core.series.Series'>\n"
     ]
    }
   ],
   "source": [
    "# dataframe >> series 구조\n",
    "print(type(df))\n",
    "print(type(df.age))\n",
    "print(type(df['age']))"
   ]
  },
  {
   "cell_type": "markdown",
   "id": "84c6e48c",
   "metadata": {},
   "source": [
    "## 🎯 Series\n",
    "\n",
    "- 파이썬 리스트로 만들 수 있습니다.\n",
    "- 데이터프레임을 이루고 있는 하나의 열(리스트)\n",
    "- 시리즈*n 👉 데이터프레임"
   ]
  },
  {
   "cell_type": "code",
   "execution_count": 57,
   "id": "d2fe0e51",
   "metadata": {},
   "outputs": [],
   "source": [
    "list_tmp = [1, 2, 3] "
   ]
  },
  {
   "cell_type": "code",
   "execution_count": 59,
   "id": "f4307760",
   "metadata": {
    "ExecuteTime": {
     "end_time": "2022-06-26T03:17:12.032542Z",
     "start_time": "2022-06-26T03:17:12.001869Z"
    }
   },
   "outputs": [
    {
     "data": {
      "text/plain": [
       "0    1\n",
       "1    2\n",
       "2    3\n",
       "dtype: int64"
      ]
     },
     "execution_count": 59,
     "metadata": {},
     "output_type": "execute_result"
    }
   ],
   "source": [
    "#pd.Series()는 list를 series로 변환해준다.\n",
    "s1 = pd.Series( [1, 2, 3] )\n",
    "s1"
   ]
  },
  {
   "cell_type": "code",
   "execution_count": 66,
   "id": "6a8a1af6",
   "metadata": {
    "ExecuteTime": {
     "end_time": "2022-06-26T03:17:12.640749Z",
     "start_time": "2022-06-26T03:17:12.626080Z"
    }
   },
   "outputs": [
    {
     "data": {
      "text/plain": [
       "0      one\n",
       "1      two\n",
       "2    three\n",
       "dtype: object"
      ]
     },
     "execution_count": 66,
     "metadata": {},
     "output_type": "execute_result"
    }
   ],
   "source": [
    "s2 = pd.Series( ['one', 'two', 'three'])\n",
    "s2"
   ]
  },
  {
   "cell_type": "code",
   "execution_count": 67,
   "id": "f6084b1f",
   "metadata": {
    "ExecuteTime": {
     "end_time": "2022-06-26T03:17:26.780079Z",
     "start_time": "2022-06-26T03:17:26.762497Z"
    }
   },
   "outputs": [
    {
     "data": {
      "text/html": [
       "<div>\n",
       "<style scoped>\n",
       "    .dataframe tbody tr th:only-of-type {\n",
       "        vertical-align: middle;\n",
       "    }\n",
       "\n",
       "    .dataframe tbody tr th {\n",
       "        vertical-align: top;\n",
       "    }\n",
       "\n",
       "    .dataframe thead th {\n",
       "        text-align: right;\n",
       "    }\n",
       "</style>\n",
       "<table border=\"1\" class=\"dataframe\">\n",
       "  <thead>\n",
       "    <tr style=\"text-align: right;\">\n",
       "      <th></th>\n",
       "      <th>필드명1</th>\n",
       "      <th>필드명2</th>\n",
       "      <th>필드명3</th>\n",
       "    </tr>\n",
       "  </thead>\n",
       "  <tbody>\n",
       "    <tr>\n",
       "      <th>0</th>\n",
       "      <td>1</td>\n",
       "      <td>one</td>\n",
       "      <td>one</td>\n",
       "    </tr>\n",
       "    <tr>\n",
       "      <th>1</th>\n",
       "      <td>2</td>\n",
       "      <td>two</td>\n",
       "      <td>two</td>\n",
       "    </tr>\n",
       "    <tr>\n",
       "      <th>2</th>\n",
       "      <td>3</td>\n",
       "      <td>three</td>\n",
       "      <td>three</td>\n",
       "    </tr>\n",
       "  </tbody>\n",
       "</table>\n",
       "</div>"
      ],
      "text/plain": [
       "   필드명1   필드명2   필드명3\n",
       "0     1    one    one\n",
       "1     2    two    two\n",
       "2     3  three  three"
      ]
     },
     "execution_count": 67,
     "metadata": {},
     "output_type": "execute_result"
    }
   ],
   "source": [
    "#1. dict 형태로 series를 묶는다.\n",
    "#2. series로 묶인 dict를 dataframe 형태로 변환한다.\n",
    "hi = pd.DataFrame(data = dict(필드명1=s1, 필드명2=s2, 필드명3=s2))\n",
    "hi"
   ]
  },
  {
   "cell_type": "markdown",
   "id": "98e257fa",
   "metadata": {},
   "source": [
    "## ⏺ 실습: Series 만들기\n",
    "\n",
    "- Name, Age 이름을 가진 Series 두개를 만든 다음 dataframe으로 변환해보자\n",
    "    - Name: ['Jinsu', 'InKi', 'JeeHyun', 'Happy', 'SunHee', 'John']\n",
    "    - Age: [20, 30, 35, 20 ,10, 20]"
   ]
  },
  {
   "cell_type": "code",
   "execution_count": 70,
   "id": "c65b53a2",
   "metadata": {
    "ExecuteTime": {
     "end_time": "2022-06-26T03:27:18.584101Z",
     "start_time": "2022-06-26T03:27:18.562706Z"
    },
    "code_folding": []
   },
   "outputs": [
    {
     "data": {
      "text/html": [
       "<div>\n",
       "<style scoped>\n",
       "    .dataframe tbody tr th:only-of-type {\n",
       "        vertical-align: middle;\n",
       "    }\n",
       "\n",
       "    .dataframe tbody tr th {\n",
       "        vertical-align: top;\n",
       "    }\n",
       "\n",
       "    .dataframe thead th {\n",
       "        text-align: right;\n",
       "    }\n",
       "</style>\n",
       "<table border=\"1\" class=\"dataframe\">\n",
       "  <thead>\n",
       "    <tr style=\"text-align: right;\">\n",
       "      <th></th>\n",
       "      <th>Name</th>\n",
       "      <th>Age</th>\n",
       "    </tr>\n",
       "  </thead>\n",
       "  <tbody>\n",
       "    <tr>\n",
       "      <th>0</th>\n",
       "      <td>Jinsu</td>\n",
       "      <td>20</td>\n",
       "    </tr>\n",
       "    <tr>\n",
       "      <th>1</th>\n",
       "      <td>InKi</td>\n",
       "      <td>30</td>\n",
       "    </tr>\n",
       "    <tr>\n",
       "      <th>2</th>\n",
       "      <td>JeeHyun</td>\n",
       "      <td>35</td>\n",
       "    </tr>\n",
       "    <tr>\n",
       "      <th>3</th>\n",
       "      <td>Happy</td>\n",
       "      <td>20</td>\n",
       "    </tr>\n",
       "    <tr>\n",
       "      <th>4</th>\n",
       "      <td>SunHee</td>\n",
       "      <td>10</td>\n",
       "    </tr>\n",
       "    <tr>\n",
       "      <th>5</th>\n",
       "      <td>NaN</td>\n",
       "      <td>20</td>\n",
       "    </tr>\n",
       "  </tbody>\n",
       "</table>\n",
       "</div>"
      ],
      "text/plain": [
       "      Name  Age\n",
       "0    Jinsu   20\n",
       "1     InKi   30\n",
       "2  JeeHyun   35\n",
       "3    Happy   20\n",
       "4   SunHee   10\n",
       "5      NaN   20"
      ]
     },
     "execution_count": 70,
     "metadata": {},
     "output_type": "execute_result"
    }
   ],
   "source": [
    "#way1\n",
    "Name = ['Jinsu', 'InKi', 'JeeHyun', 'Happy', 'SunHee']\n",
    "Age = [20, 30, 35, 20 ,10, 20]\n",
    "\n",
    "seriesName = pd.Series(Name)\n",
    "seriesAge = pd.Series(Age)\n",
    "\n",
    "df = pd.DataFrame(dict(Name= seriesName, Age=seriesAge))\n",
    "df"
   ]
  },
  {
   "cell_type": "code",
   "execution_count": 19,
   "id": "a8df4bc1",
   "metadata": {
    "ExecuteTime": {
     "end_time": "2022-06-26T03:27:35.679079Z",
     "start_time": "2022-06-26T03:27:35.657710Z"
    },
    "code_folding": []
   },
   "outputs": [
    {
     "data": {
      "text/html": [
       "<div>\n",
       "<style scoped>\n",
       "    .dataframe tbody tr th:only-of-type {\n",
       "        vertical-align: middle;\n",
       "    }\n",
       "\n",
       "    .dataframe tbody tr th {\n",
       "        vertical-align: top;\n",
       "    }\n",
       "\n",
       "    .dataframe thead th {\n",
       "        text-align: right;\n",
       "    }\n",
       "</style>\n",
       "<table border=\"1\" class=\"dataframe\">\n",
       "  <thead>\n",
       "    <tr style=\"text-align: right;\">\n",
       "      <th></th>\n",
       "      <th>Name</th>\n",
       "      <th>Age</th>\n",
       "    </tr>\n",
       "  </thead>\n",
       "  <tbody>\n",
       "    <tr>\n",
       "      <th>0</th>\n",
       "      <td>Jinsu</td>\n",
       "      <td>20</td>\n",
       "    </tr>\n",
       "    <tr>\n",
       "      <th>1</th>\n",
       "      <td>InKi</td>\n",
       "      <td>30</td>\n",
       "    </tr>\n",
       "    <tr>\n",
       "      <th>2</th>\n",
       "      <td>JeeHyun</td>\n",
       "      <td>35</td>\n",
       "    </tr>\n",
       "    <tr>\n",
       "      <th>3</th>\n",
       "      <td>Happy</td>\n",
       "      <td>20</td>\n",
       "    </tr>\n",
       "    <tr>\n",
       "      <th>4</th>\n",
       "      <td>SunHee</td>\n",
       "      <td>10</td>\n",
       "    </tr>\n",
       "    <tr>\n",
       "      <th>5</th>\n",
       "      <td>John</td>\n",
       "      <td>20</td>\n",
       "    </tr>\n",
       "  </tbody>\n",
       "</table>\n",
       "</div>"
      ],
      "text/plain": [
       "      Name  Age\n",
       "0    Jinsu   20\n",
       "1     InKi   30\n",
       "2  JeeHyun   35\n",
       "3    Happy   20\n",
       "4   SunHee   10\n",
       "5     John   20"
      ]
     },
     "execution_count": 19,
     "metadata": {},
     "output_type": "execute_result"
    }
   ],
   "source": [
    "#way2: dataframe으로 한번에 선언\n",
    "Name = ['Jinsu', 'InKi', 'JeeHyun', 'Happy', 'SunHee', 'John']\n",
    "Age = [20, 30, 35, 20 ,10, 20]\n",
    "\n",
    "df = pd.DataFrame({'Name': Name, 'Age': Age})\n",
    "df"
   ]
  },
  {
   "cell_type": "markdown",
   "id": "8e73a2fa",
   "metadata": {},
   "source": [
    "---"
   ]
  },
  {
   "cell_type": "markdown",
   "id": "829f4ae2",
   "metadata": {},
   "source": [
    "# ✅ 파일에서 데이터 불러오기\n",
    "\n",
    "- csv, xlsx, txt 등 다양한 확장자 파일로부터 데이터를 불러올 수 있습니다."
   ]
  },
  {
   "cell_type": "code",
   "execution_count": 15,
   "id": "763c2833",
   "metadata": {
    "ExecuteTime": {
     "end_time": "2022-05-08T13:00:36.492220Z",
     "start_time": "2022-05-08T13:00:35.591124Z"
    }
   },
   "outputs": [],
   "source": [
    "import pandas as pd"
   ]
  },
  {
   "cell_type": "markdown",
   "id": "ec31ba7d",
   "metadata": {},
   "source": [
    "## 🎯 일반적인 형태의 파일 불러오기"
   ]
  },
  {
   "cell_type": "code",
   "execution_count": 32,
   "id": "2eaf8da9",
   "metadata": {
    "ExecuteTime": {
     "end_time": "2022-06-27T05:01:54.657241Z",
     "start_time": "2022-06-27T05:01:54.544368Z"
    }
   },
   "outputs": [],
   "source": [
    "df = pd.read_csv(\"data/employee_list.csv\")"
   ]
  },
  {
   "cell_type": "code",
   "execution_count": 33,
   "id": "511ff2ee",
   "metadata": {
    "ExecuteTime": {
     "end_time": "2022-06-27T05:01:57.062157Z",
     "start_time": "2022-06-27T05:01:57.026694Z"
    }
   },
   "outputs": [
    {
     "data": {
      "text/html": [
       "<div>\n",
       "<style scoped>\n",
       "    .dataframe tbody tr th:only-of-type {\n",
       "        vertical-align: middle;\n",
       "    }\n",
       "\n",
       "    .dataframe tbody tr th {\n",
       "        vertical-align: top;\n",
       "    }\n",
       "\n",
       "    .dataframe thead th {\n",
       "        text-align: right;\n",
       "    }\n",
       "</style>\n",
       "<table border=\"1\" class=\"dataframe\">\n",
       "  <thead>\n",
       "    <tr style=\"text-align: right;\">\n",
       "      <th></th>\n",
       "      <th>name</th>\n",
       "      <th>age</th>\n",
       "      <th>department</th>\n",
       "      <th>tel</th>\n",
       "    </tr>\n",
       "  </thead>\n",
       "  <tbody>\n",
       "    <tr>\n",
       "      <th>0</th>\n",
       "      <td>SeeJin</td>\n",
       "      <td>25</td>\n",
       "      <td>IT</td>\n",
       "      <td>4040</td>\n",
       "    </tr>\n",
       "    <tr>\n",
       "      <th>1</th>\n",
       "      <td>JeeHyun</td>\n",
       "      <td>30</td>\n",
       "      <td>R&amp;D</td>\n",
       "      <td>2278</td>\n",
       "    </tr>\n",
       "    <tr>\n",
       "      <th>2</th>\n",
       "      <td>InKi</td>\n",
       "      <td>30</td>\n",
       "      <td>QA</td>\n",
       "      <td>4350</td>\n",
       "    </tr>\n",
       "    <tr>\n",
       "      <th>3</th>\n",
       "      <td>JunHo</td>\n",
       "      <td>40</td>\n",
       "      <td>HR</td>\n",
       "      <td>4466</td>\n",
       "    </tr>\n",
       "    <tr>\n",
       "      <th>4</th>\n",
       "      <td>MinSu</td>\n",
       "      <td>45</td>\n",
       "      <td>TEST</td>\n",
       "      <td>3476</td>\n",
       "    </tr>\n",
       "    <tr>\n",
       "      <th>5</th>\n",
       "      <td>Chanho</td>\n",
       "      <td>25</td>\n",
       "      <td>PCS</td>\n",
       "      <td>2525</td>\n",
       "    </tr>\n",
       "  </tbody>\n",
       "</table>\n",
       "</div>"
      ],
      "text/plain": [
       "      name  age department   tel\n",
       "0   SeeJin   25         IT  4040\n",
       "1  JeeHyun   30        R&D  2278\n",
       "2     InKi   30         QA  4350\n",
       "3    JunHo   40         HR  4466\n",
       "4    MinSu   45       TEST  3476\n",
       "5   Chanho   25        PCS  2525"
      ]
     },
     "execution_count": 33,
     "metadata": {},
     "output_type": "execute_result"
    }
   ],
   "source": [
    "df"
   ]
  },
  {
   "cell_type": "markdown",
   "id": "5fb5261f",
   "metadata": {},
   "source": [
    "## 🎯 delimeter를 사용하여 파일 불러오기"
   ]
  },
  {
   "cell_type": "code",
   "execution_count": 73,
   "id": "cbfe1526",
   "metadata": {
    "ExecuteTime": {
     "end_time": "2022-06-30T04:45:13.444461Z",
     "start_time": "2022-06-30T04:45:13.416126Z"
    }
   },
   "outputs": [
    {
     "data": {
      "text/html": [
       "<div>\n",
       "<style scoped>\n",
       "    .dataframe tbody tr th:only-of-type {\n",
       "        vertical-align: middle;\n",
       "    }\n",
       "\n",
       "    .dataframe tbody tr th {\n",
       "        vertical-align: top;\n",
       "    }\n",
       "\n",
       "    .dataframe thead th {\n",
       "        text-align: right;\n",
       "    }\n",
       "</style>\n",
       "<table border=\"1\" class=\"dataframe\">\n",
       "  <thead>\n",
       "    <tr style=\"text-align: right;\">\n",
       "      <th></th>\n",
       "      <th>name</th>\n",
       "      <th>age</th>\n",
       "      <th>department</th>\n",
       "      <th>tel</th>\n",
       "    </tr>\n",
       "  </thead>\n",
       "  <tbody>\n",
       "    <tr>\n",
       "      <th>0</th>\n",
       "      <td>SeeJin</td>\n",
       "      <td>25</td>\n",
       "      <td>IT</td>\n",
       "      <td>4040</td>\n",
       "    </tr>\n",
       "    <tr>\n",
       "      <th>1</th>\n",
       "      <td>JeeHyun</td>\n",
       "      <td>30</td>\n",
       "      <td>R&amp;D</td>\n",
       "      <td>2278</td>\n",
       "    </tr>\n",
       "    <tr>\n",
       "      <th>2</th>\n",
       "      <td>InKi</td>\n",
       "      <td>30</td>\n",
       "      <td>QA</td>\n",
       "      <td>4350</td>\n",
       "    </tr>\n",
       "    <tr>\n",
       "      <th>3</th>\n",
       "      <td>JunHo</td>\n",
       "      <td>40</td>\n",
       "      <td>HR</td>\n",
       "      <td>4466</td>\n",
       "    </tr>\n",
       "    <tr>\n",
       "      <th>4</th>\n",
       "      <td>MinSu</td>\n",
       "      <td>45</td>\n",
       "      <td>TEST</td>\n",
       "      <td>3476</td>\n",
       "    </tr>\n",
       "    <tr>\n",
       "      <th>5</th>\n",
       "      <td>Chanho</td>\n",
       "      <td>25</td>\n",
       "      <td>PCS</td>\n",
       "      <td>2525</td>\n",
       "    </tr>\n",
       "  </tbody>\n",
       "</table>\n",
       "</div>"
      ],
      "text/plain": [
       "      name  age department   tel\n",
       "0   SeeJin   25         IT  4040\n",
       "1  JeeHyun   30        R&D  2278\n",
       "2     InKi   30         QA  4350\n",
       "3    JunHo   40         HR  4466\n",
       "4    MinSu   45       TEST  3476\n",
       "5   Chanho   25        PCS  2525"
      ]
     },
     "execution_count": 73,
     "metadata": {},
     "output_type": "execute_result"
    }
   ],
   "source": [
    "#delimiter는 구분자로 해당 문자를 기준으로 열을 나눈다.\n",
    "df = pd.read_csv(\"data/employee_list_tab.txt\", delimiter = '\\t')\n",
    "df"
   ]
  },
  {
   "cell_type": "markdown",
   "id": "0da353d7",
   "metadata": {},
   "source": [
    "## 🎯 Column 정보가 없는 파일 불러오기"
   ]
  },
  {
   "cell_type": "code",
   "execution_count": 74,
   "id": "e86067aa",
   "metadata": {},
   "outputs": [],
   "source": [
    "df = pd.read_csv('data/employee_list_no_head.csv')"
   ]
  },
  {
   "cell_type": "code",
   "execution_count": 77,
   "id": "b5e6f0bb",
   "metadata": {},
   "outputs": [
    {
     "data": {
      "text/html": [
       "<div>\n",
       "<style scoped>\n",
       "    .dataframe tbody tr th:only-of-type {\n",
       "        vertical-align: middle;\n",
       "    }\n",
       "\n",
       "    .dataframe tbody tr th {\n",
       "        vertical-align: top;\n",
       "    }\n",
       "\n",
       "    .dataframe thead th {\n",
       "        text-align: right;\n",
       "    }\n",
       "</style>\n",
       "<table border=\"1\" class=\"dataframe\">\n",
       "  <thead>\n",
       "    <tr style=\"text-align: right;\">\n",
       "      <th></th>\n",
       "      <th>SeeJin</th>\n",
       "      <th>25</th>\n",
       "      <th>IT</th>\n",
       "      <th>4040</th>\n",
       "    </tr>\n",
       "  </thead>\n",
       "  <tbody>\n",
       "    <tr>\n",
       "      <th>0</th>\n",
       "      <td>JeeHyun</td>\n",
       "      <td>30</td>\n",
       "      <td>R&amp;D</td>\n",
       "      <td>2278</td>\n",
       "    </tr>\n",
       "    <tr>\n",
       "      <th>1</th>\n",
       "      <td>InKi</td>\n",
       "      <td>30</td>\n",
       "      <td>QA</td>\n",
       "      <td>4350</td>\n",
       "    </tr>\n",
       "    <tr>\n",
       "      <th>2</th>\n",
       "      <td>JunHo</td>\n",
       "      <td>40</td>\n",
       "      <td>HR</td>\n",
       "      <td>4466</td>\n",
       "    </tr>\n",
       "    <tr>\n",
       "      <th>3</th>\n",
       "      <td>MinSu</td>\n",
       "      <td>45</td>\n",
       "      <td>TEST</td>\n",
       "      <td>3476</td>\n",
       "    </tr>\n",
       "    <tr>\n",
       "      <th>4</th>\n",
       "      <td>Chanho</td>\n",
       "      <td>25</td>\n",
       "      <td>PCS</td>\n",
       "      <td>2525</td>\n",
       "    </tr>\n",
       "  </tbody>\n",
       "</table>\n",
       "</div>"
      ],
      "text/plain": [
       "    SeeJin  25    IT  4040\n",
       "0  JeeHyun  30   R&D  2278\n",
       "1     InKi  30    QA  4350\n",
       "2    JunHo  40    HR  4466\n",
       "3    MinSu  45  TEST  3476\n",
       "4   Chanho  25   PCS  2525"
      ]
     },
     "execution_count": 77,
     "metadata": {},
     "output_type": "execute_result"
    }
   ],
   "source": [
    "#이런식으로 헤더에 데이터가 들어가버린다.\n",
    "df"
   ]
  },
  {
   "cell_type": "code",
   "execution_count": 81,
   "id": "60ecf3f5",
   "metadata": {},
   "outputs": [
    {
     "data": {
      "text/html": [
       "<div>\n",
       "<style scoped>\n",
       "    .dataframe tbody tr th:only-of-type {\n",
       "        vertical-align: middle;\n",
       "    }\n",
       "\n",
       "    .dataframe tbody tr th {\n",
       "        vertical-align: top;\n",
       "    }\n",
       "\n",
       "    .dataframe thead th {\n",
       "        text-align: right;\n",
       "    }\n",
       "</style>\n",
       "<table border=\"1\" class=\"dataframe\">\n",
       "  <thead>\n",
       "    <tr style=\"text-align: right;\">\n",
       "      <th></th>\n",
       "      <th>0</th>\n",
       "      <th>1</th>\n",
       "      <th>2</th>\n",
       "      <th>3</th>\n",
       "    </tr>\n",
       "  </thead>\n",
       "  <tbody>\n",
       "    <tr>\n",
       "      <th>0</th>\n",
       "      <td>SeeJin</td>\n",
       "      <td>25</td>\n",
       "      <td>IT</td>\n",
       "      <td>4040</td>\n",
       "    </tr>\n",
       "    <tr>\n",
       "      <th>1</th>\n",
       "      <td>JeeHyun</td>\n",
       "      <td>30</td>\n",
       "      <td>R&amp;D</td>\n",
       "      <td>2278</td>\n",
       "    </tr>\n",
       "    <tr>\n",
       "      <th>2</th>\n",
       "      <td>InKi</td>\n",
       "      <td>30</td>\n",
       "      <td>QA</td>\n",
       "      <td>4350</td>\n",
       "    </tr>\n",
       "    <tr>\n",
       "      <th>3</th>\n",
       "      <td>JunHo</td>\n",
       "      <td>40</td>\n",
       "      <td>HR</td>\n",
       "      <td>4466</td>\n",
       "    </tr>\n",
       "    <tr>\n",
       "      <th>4</th>\n",
       "      <td>MinSu</td>\n",
       "      <td>45</td>\n",
       "      <td>TEST</td>\n",
       "      <td>3476</td>\n",
       "    </tr>\n",
       "    <tr>\n",
       "      <th>5</th>\n",
       "      <td>Chanho</td>\n",
       "      <td>25</td>\n",
       "      <td>PCS</td>\n",
       "      <td>2525</td>\n",
       "    </tr>\n",
       "  </tbody>\n",
       "</table>\n",
       "</div>"
      ],
      "text/plain": [
       "         0   1     2     3\n",
       "0   SeeJin  25    IT  4040\n",
       "1  JeeHyun  30   R&D  2278\n",
       "2     InKi  30    QA  4350\n",
       "3    JunHo  40    HR  4466\n",
       "4    MinSu  45  TEST  3476\n",
       "5   Chanho  25   PCS  2525"
      ]
     },
     "execution_count": 81,
     "metadata": {},
     "output_type": "execute_result"
    }
   ],
   "source": [
    "#header = None 을 통해서 column 헤더가 없음을 알려준다.\n",
    "df = pd.read_csv('data/employee_list_no_head.csv', header = None)\n",
    "df"
   ]
  },
  {
   "cell_type": "code",
   "execution_count": 130,
   "id": "e3bd9d98",
   "metadata": {},
   "outputs": [
    {
     "data": {
      "text/html": [
       "<div>\n",
       "<style scoped>\n",
       "    .dataframe tbody tr th:only-of-type {\n",
       "        vertical-align: middle;\n",
       "    }\n",
       "\n",
       "    .dataframe tbody tr th {\n",
       "        vertical-align: top;\n",
       "    }\n",
       "\n",
       "    .dataframe thead th {\n",
       "        text-align: right;\n",
       "    }\n",
       "</style>\n",
       "<table border=\"1\" class=\"dataframe\">\n",
       "  <thead>\n",
       "    <tr style=\"text-align: right;\">\n",
       "      <th></th>\n",
       "      <th>0</th>\n",
       "      <th>1</th>\n",
       "      <th>2</th>\n",
       "      <th>3</th>\n",
       "    </tr>\n",
       "  </thead>\n",
       "  <tbody>\n",
       "    <tr>\n",
       "      <th>0</th>\n",
       "      <td>SeeJin</td>\n",
       "      <td>25</td>\n",
       "      <td>IT</td>\n",
       "      <td>4040</td>\n",
       "    </tr>\n",
       "    <tr>\n",
       "      <th>1</th>\n",
       "      <td>JeeHyun</td>\n",
       "      <td>30</td>\n",
       "      <td>R&amp;D</td>\n",
       "      <td>2278</td>\n",
       "    </tr>\n",
       "    <tr>\n",
       "      <th>2</th>\n",
       "      <td>InKi</td>\n",
       "      <td>30</td>\n",
       "      <td>QA</td>\n",
       "      <td>4350</td>\n",
       "    </tr>\n",
       "    <tr>\n",
       "      <th>3</th>\n",
       "      <td>JunHo</td>\n",
       "      <td>40</td>\n",
       "      <td>HR</td>\n",
       "      <td>4466</td>\n",
       "    </tr>\n",
       "    <tr>\n",
       "      <th>4</th>\n",
       "      <td>MinSu</td>\n",
       "      <td>45</td>\n",
       "      <td>TEST</td>\n",
       "      <td>3476</td>\n",
       "    </tr>\n",
       "    <tr>\n",
       "      <th>5</th>\n",
       "      <td>Chanho</td>\n",
       "      <td>25</td>\n",
       "      <td>PCS</td>\n",
       "      <td>2525</td>\n",
       "    </tr>\n",
       "  </tbody>\n",
       "</table>\n",
       "</div>"
      ],
      "text/plain": [
       "         0   1     2     3\n",
       "0   SeeJin  25    IT  4040\n",
       "1  JeeHyun  30   R&D  2278\n",
       "2     InKi  30    QA  4350\n",
       "3    JunHo  40    HR  4466\n",
       "4    MinSu  45  TEST  3476\n",
       "5   Chanho  25   PCS  2525"
      ]
     },
     "execution_count": 130,
     "metadata": {},
     "output_type": "execute_result"
    }
   ],
   "source": [
    "df"
   ]
  },
  {
   "cell_type": "code",
   "execution_count": 83,
   "id": "65f941c2",
   "metadata": {},
   "outputs": [
    {
     "data": {
      "text/html": [
       "<div>\n",
       "<style scoped>\n",
       "    .dataframe tbody tr th:only-of-type {\n",
       "        vertical-align: middle;\n",
       "    }\n",
       "\n",
       "    .dataframe tbody tr th {\n",
       "        vertical-align: top;\n",
       "    }\n",
       "\n",
       "    .dataframe thead th {\n",
       "        text-align: right;\n",
       "    }\n",
       "</style>\n",
       "<table border=\"1\" class=\"dataframe\">\n",
       "  <thead>\n",
       "    <tr style=\"text-align: right;\">\n",
       "      <th></th>\n",
       "      <th>이름</th>\n",
       "      <th>나이</th>\n",
       "      <th>직업</th>\n",
       "      <th>전화</th>\n",
       "    </tr>\n",
       "  </thead>\n",
       "  <tbody>\n",
       "    <tr>\n",
       "      <th>0</th>\n",
       "      <td>SeeJin</td>\n",
       "      <td>25</td>\n",
       "      <td>IT</td>\n",
       "      <td>4040</td>\n",
       "    </tr>\n",
       "    <tr>\n",
       "      <th>1</th>\n",
       "      <td>JeeHyun</td>\n",
       "      <td>30</td>\n",
       "      <td>R&amp;D</td>\n",
       "      <td>2278</td>\n",
       "    </tr>\n",
       "    <tr>\n",
       "      <th>2</th>\n",
       "      <td>InKi</td>\n",
       "      <td>30</td>\n",
       "      <td>QA</td>\n",
       "      <td>4350</td>\n",
       "    </tr>\n",
       "    <tr>\n",
       "      <th>3</th>\n",
       "      <td>JunHo</td>\n",
       "      <td>40</td>\n",
       "      <td>HR</td>\n",
       "      <td>4466</td>\n",
       "    </tr>\n",
       "    <tr>\n",
       "      <th>4</th>\n",
       "      <td>MinSu</td>\n",
       "      <td>45</td>\n",
       "      <td>TEST</td>\n",
       "      <td>3476</td>\n",
       "    </tr>\n",
       "    <tr>\n",
       "      <th>5</th>\n",
       "      <td>Chanho</td>\n",
       "      <td>25</td>\n",
       "      <td>PCS</td>\n",
       "      <td>2525</td>\n",
       "    </tr>\n",
       "  </tbody>\n",
       "</table>\n",
       "</div>"
      ],
      "text/plain": [
       "        이름  나이    직업    전화\n",
       "0   SeeJin  25    IT  4040\n",
       "1  JeeHyun  30   R&D  2278\n",
       "2     InKi  30    QA  4350\n",
       "3    JunHo  40    HR  4466\n",
       "4    MinSu  45  TEST  3476\n",
       "5   Chanho  25   PCS  2525"
      ]
     },
     "execution_count": 83,
     "metadata": {},
     "output_type": "execute_result"
    }
   ],
   "source": [
    "# dataframe에 column 제목 넣어주기\n",
    "df.columns = ['이름','나이','직업','전화']\n",
    "df"
   ]
  },
  {
   "cell_type": "code",
   "execution_count": 132,
   "id": "e5fe8b2c",
   "metadata": {},
   "outputs": [
    {
     "data": {
      "text/html": [
       "<div>\n",
       "<style scoped>\n",
       "    .dataframe tbody tr th:only-of-type {\n",
       "        vertical-align: middle;\n",
       "    }\n",
       "\n",
       "    .dataframe tbody tr th {\n",
       "        vertical-align: top;\n",
       "    }\n",
       "\n",
       "    .dataframe thead th {\n",
       "        text-align: right;\n",
       "    }\n",
       "</style>\n",
       "<table border=\"1\" class=\"dataframe\">\n",
       "  <thead>\n",
       "    <tr style=\"text-align: right;\">\n",
       "      <th></th>\n",
       "      <th>name</th>\n",
       "      <th>age</th>\n",
       "      <th>job</th>\n",
       "      <th>tel</th>\n",
       "    </tr>\n",
       "  </thead>\n",
       "  <tbody>\n",
       "    <tr>\n",
       "      <th>0</th>\n",
       "      <td>SeeJin</td>\n",
       "      <td>25</td>\n",
       "      <td>IT</td>\n",
       "      <td>4040</td>\n",
       "    </tr>\n",
       "    <tr>\n",
       "      <th>1</th>\n",
       "      <td>JeeHyun</td>\n",
       "      <td>30</td>\n",
       "      <td>R&amp;D</td>\n",
       "      <td>2278</td>\n",
       "    </tr>\n",
       "    <tr>\n",
       "      <th>2</th>\n",
       "      <td>InKi</td>\n",
       "      <td>30</td>\n",
       "      <td>QA</td>\n",
       "      <td>4350</td>\n",
       "    </tr>\n",
       "    <tr>\n",
       "      <th>3</th>\n",
       "      <td>JunHo</td>\n",
       "      <td>40</td>\n",
       "      <td>HR</td>\n",
       "      <td>4466</td>\n",
       "    </tr>\n",
       "    <tr>\n",
       "      <th>4</th>\n",
       "      <td>MinSu</td>\n",
       "      <td>45</td>\n",
       "      <td>TEST</td>\n",
       "      <td>3476</td>\n",
       "    </tr>\n",
       "    <tr>\n",
       "      <th>5</th>\n",
       "      <td>Chanho</td>\n",
       "      <td>25</td>\n",
       "      <td>PCS</td>\n",
       "      <td>2525</td>\n",
       "    </tr>\n",
       "  </tbody>\n",
       "</table>\n",
       "</div>"
      ],
      "text/plain": [
       "      name  age   job   tel\n",
       "0   SeeJin   25    IT  4040\n",
       "1  JeeHyun   30   R&D  2278\n",
       "2     InKi   30    QA  4350\n",
       "3    JunHo   40    HR  4466\n",
       "4    MinSu   45  TEST  3476\n",
       "5   Chanho   25   PCS  2525"
      ]
     },
     "execution_count": 132,
     "metadata": {},
     "output_type": "execute_result"
    }
   ],
   "source": [
    "df"
   ]
  },
  {
   "cell_type": "code",
   "execution_count": 84,
   "id": "cc1c1a6c",
   "metadata": {},
   "outputs": [
    {
     "data": {
      "text/html": [
       "<div>\n",
       "<style scoped>\n",
       "    .dataframe tbody tr th:only-of-type {\n",
       "        vertical-align: middle;\n",
       "    }\n",
       "\n",
       "    .dataframe tbody tr th {\n",
       "        vertical-align: top;\n",
       "    }\n",
       "\n",
       "    .dataframe thead th {\n",
       "        text-align: right;\n",
       "    }\n",
       "</style>\n",
       "<table border=\"1\" class=\"dataframe\">\n",
       "  <thead>\n",
       "    <tr style=\"text-align: right;\">\n",
       "      <th></th>\n",
       "      <th>name</th>\n",
       "      <th>age</th>\n",
       "      <th>job</th>\n",
       "      <th>tel</th>\n",
       "    </tr>\n",
       "  </thead>\n",
       "  <tbody>\n",
       "    <tr>\n",
       "      <th>0</th>\n",
       "      <td>SeeJin</td>\n",
       "      <td>25</td>\n",
       "      <td>IT</td>\n",
       "      <td>4040</td>\n",
       "    </tr>\n",
       "    <tr>\n",
       "      <th>1</th>\n",
       "      <td>JeeHyun</td>\n",
       "      <td>30</td>\n",
       "      <td>R&amp;D</td>\n",
       "      <td>2278</td>\n",
       "    </tr>\n",
       "    <tr>\n",
       "      <th>2</th>\n",
       "      <td>InKi</td>\n",
       "      <td>30</td>\n",
       "      <td>QA</td>\n",
       "      <td>4350</td>\n",
       "    </tr>\n",
       "    <tr>\n",
       "      <th>3</th>\n",
       "      <td>JunHo</td>\n",
       "      <td>40</td>\n",
       "      <td>HR</td>\n",
       "      <td>4466</td>\n",
       "    </tr>\n",
       "    <tr>\n",
       "      <th>4</th>\n",
       "      <td>MinSu</td>\n",
       "      <td>45</td>\n",
       "      <td>TEST</td>\n",
       "      <td>3476</td>\n",
       "    </tr>\n",
       "    <tr>\n",
       "      <th>5</th>\n",
       "      <td>Chanho</td>\n",
       "      <td>25</td>\n",
       "      <td>PCS</td>\n",
       "      <td>2525</td>\n",
       "    </tr>\n",
       "  </tbody>\n",
       "</table>\n",
       "</div>"
      ],
      "text/plain": [
       "      name  age   job   tel\n",
       "0   SeeJin   25    IT  4040\n",
       "1  JeeHyun   30   R&D  2278\n",
       "2     InKi   30    QA  4350\n",
       "3    JunHo   40    HR  4466\n",
       "4    MinSu   45  TEST  3476\n",
       "5   Chanho   25   PCS  2525"
      ]
     },
     "execution_count": 84,
     "metadata": {},
     "output_type": "execute_result"
    }
   ],
   "source": [
    "# 위에 과정들을 1 step으로 하기\n",
    "df = pd.read_csv('data/employee_list_no_head.csv',\n",
    "                 header = None, names=['name', 'age', 'job','tel'])\n",
    "df"
   ]
  },
  {
   "cell_type": "code",
   "execution_count": 134,
   "id": "155a70b9",
   "metadata": {},
   "outputs": [
    {
     "data": {
      "text/html": [
       "<div>\n",
       "<style scoped>\n",
       "    .dataframe tbody tr th:only-of-type {\n",
       "        vertical-align: middle;\n",
       "    }\n",
       "\n",
       "    .dataframe tbody tr th {\n",
       "        vertical-align: top;\n",
       "    }\n",
       "\n",
       "    .dataframe thead th {\n",
       "        text-align: right;\n",
       "    }\n",
       "</style>\n",
       "<table border=\"1\" class=\"dataframe\">\n",
       "  <thead>\n",
       "    <tr style=\"text-align: right;\">\n",
       "      <th></th>\n",
       "      <th>name</th>\n",
       "      <th>age</th>\n",
       "      <th>job</th>\n",
       "      <th>tel</th>\n",
       "    </tr>\n",
       "  </thead>\n",
       "  <tbody>\n",
       "    <tr>\n",
       "      <th>0</th>\n",
       "      <td>SeeJin</td>\n",
       "      <td>25</td>\n",
       "      <td>IT</td>\n",
       "      <td>4040</td>\n",
       "    </tr>\n",
       "    <tr>\n",
       "      <th>1</th>\n",
       "      <td>JeeHyun</td>\n",
       "      <td>30</td>\n",
       "      <td>R&amp;D</td>\n",
       "      <td>2278</td>\n",
       "    </tr>\n",
       "    <tr>\n",
       "      <th>2</th>\n",
       "      <td>InKi</td>\n",
       "      <td>30</td>\n",
       "      <td>QA</td>\n",
       "      <td>4350</td>\n",
       "    </tr>\n",
       "    <tr>\n",
       "      <th>3</th>\n",
       "      <td>JunHo</td>\n",
       "      <td>40</td>\n",
       "      <td>HR</td>\n",
       "      <td>4466</td>\n",
       "    </tr>\n",
       "    <tr>\n",
       "      <th>4</th>\n",
       "      <td>MinSu</td>\n",
       "      <td>45</td>\n",
       "      <td>TEST</td>\n",
       "      <td>3476</td>\n",
       "    </tr>\n",
       "    <tr>\n",
       "      <th>5</th>\n",
       "      <td>Chanho</td>\n",
       "      <td>25</td>\n",
       "      <td>PCS</td>\n",
       "      <td>2525</td>\n",
       "    </tr>\n",
       "  </tbody>\n",
       "</table>\n",
       "</div>"
      ],
      "text/plain": [
       "      name  age   job   tel\n",
       "0   SeeJin   25    IT  4040\n",
       "1  JeeHyun   30   R&D  2278\n",
       "2     InKi   30    QA  4350\n",
       "3    JunHo   40    HR  4466\n",
       "4    MinSu   45  TEST  3476\n",
       "5   Chanho   25   PCS  2525"
      ]
     },
     "execution_count": 134,
     "metadata": {},
     "output_type": "execute_result"
    }
   ],
   "source": [
    "df"
   ]
  },
  {
   "attachments": {
    "image.png": {
     "image/png": "[encoded data removed]"
    }
   },
   "cell_type": "markdown",
   "id": "e8e5620c",
   "metadata": {},
   "source": [
    "## ⏺ 실습: 엑셀 데이터 불러오기\n",
    "\n",
    "- data 경로에 있는 employee_list_no_head.xlsx 엑셀파일을 불러옵시다.\n",
    "![image.png](attachment:image.png)\n",
    "\n",
    "- 단, df 불러올 때 name, age, job, tel 열 이름(헤더) 넣어줍시다."
   ]
  },
  {
   "cell_type": "code",
   "execution_count": null,
   "id": "9e3a394c",
   "metadata": {},
   "outputs": [],
   "source": [
    "!pip install openpyxl\n",
    "pd.read_excel(\"경로\", engine='openpyxl')"
   ]
  },
  {
   "cell_type": "code",
   "execution_count": 25,
   "id": "a9f7ce7c",
   "metadata": {
    "ExecuteTime": {
     "end_time": "2022-06-26T03:44:36.474564Z",
     "start_time": "2022-06-26T03:44:36.442898Z"
    },
    "code_folding": []
   },
   "outputs": [
    {
     "data": {
      "text/html": [
       "<div>\n",
       "<style scoped>\n",
       "    .dataframe tbody tr th:only-of-type {\n",
       "        vertical-align: middle;\n",
       "    }\n",
       "\n",
       "    .dataframe tbody tr th {\n",
       "        vertical-align: top;\n",
       "    }\n",
       "\n",
       "    .dataframe thead th {\n",
       "        text-align: right;\n",
       "    }\n",
       "</style>\n",
       "<table border=\"1\" class=\"dataframe\">\n",
       "  <thead>\n",
       "    <tr style=\"text-align: right;\">\n",
       "      <th></th>\n",
       "      <th>name</th>\n",
       "      <th>age</th>\n",
       "      <th>job</th>\n",
       "      <th>tel</th>\n",
       "    </tr>\n",
       "  </thead>\n",
       "  <tbody>\n",
       "    <tr>\n",
       "      <th>0</th>\n",
       "      <td>SeeJin</td>\n",
       "      <td>25</td>\n",
       "      <td>IT</td>\n",
       "      <td>4040</td>\n",
       "    </tr>\n",
       "    <tr>\n",
       "      <th>1</th>\n",
       "      <td>JeeHyun</td>\n",
       "      <td>30</td>\n",
       "      <td>R&amp;D</td>\n",
       "      <td>2278</td>\n",
       "    </tr>\n",
       "    <tr>\n",
       "      <th>2</th>\n",
       "      <td>InKi</td>\n",
       "      <td>30</td>\n",
       "      <td>QA</td>\n",
       "      <td>4350</td>\n",
       "    </tr>\n",
       "    <tr>\n",
       "      <th>3</th>\n",
       "      <td>JunHo</td>\n",
       "      <td>40</td>\n",
       "      <td>HR</td>\n",
       "      <td>4466</td>\n",
       "    </tr>\n",
       "    <tr>\n",
       "      <th>4</th>\n",
       "      <td>MinSu</td>\n",
       "      <td>45</td>\n",
       "      <td>TEST</td>\n",
       "      <td>3476</td>\n",
       "    </tr>\n",
       "    <tr>\n",
       "      <th>5</th>\n",
       "      <td>Chanho</td>\n",
       "      <td>25</td>\n",
       "      <td>PCS</td>\n",
       "      <td>2525</td>\n",
       "    </tr>\n",
       "  </tbody>\n",
       "</table>\n",
       "</div>"
      ],
      "text/plain": [
       "      name  age   job   tel\n",
       "0   SeeJin   25    IT  4040\n",
       "1  JeeHyun   30   R&D  2278\n",
       "2     InKi   30    QA  4350\n",
       "3    JunHo   40    HR  4466\n",
       "4    MinSu   45  TEST  3476\n",
       "5   Chanho   25   PCS  2525"
      ]
     },
     "execution_count": 25,
     "metadata": {},
     "output_type": "execute_result"
    }
   ],
   "source": [
    "#\n",
    "df = pd.read_excel(\"data/employee_list_no_head.xlsx\", header=None, names=['name', 'age', 'job', 'tel'], engine='openpyxl')\n",
    "df"
   ]
  },
  {
   "cell_type": "markdown",
   "id": "0d176e2e",
   "metadata": {},
   "source": [
    "----\n",
    "\n",
    "\n",
    "# ✅ Dataframe 생성하기"
   ]
  },
  {
   "cell_type": "markdown",
   "id": "13e010c7",
   "metadata": {},
   "source": [
    "## 🎯 Dataframe 정의하기\n",
    "\n",
    "- Dataframe을 정의하기 위해서는 들어갈 데이터를 정해줘야 합니다.\n",
    "- 이는 python의 dictionary 또는 numpy의 array로 정의할 수 있습니다."
   ]
  },
  {
   "cell_type": "code",
   "execution_count": 85,
   "id": "aa4d5246",
   "metadata": {},
   "outputs": [
    {
     "data": {
      "text/html": [
       "<div>\n",
       "<style scoped>\n",
       "    .dataframe tbody tr th:only-of-type {\n",
       "        vertical-align: middle;\n",
       "    }\n",
       "\n",
       "    .dataframe tbody tr th {\n",
       "        vertical-align: top;\n",
       "    }\n",
       "\n",
       "    .dataframe thead th {\n",
       "        text-align: right;\n",
       "    }\n",
       "</style>\n",
       "<table border=\"1\" class=\"dataframe\">\n",
       "  <thead>\n",
       "    <tr style=\"text-align: right;\">\n",
       "      <th></th>\n",
       "      <th>name</th>\n",
       "      <th>year</th>\n",
       "      <th>points</th>\n",
       "    </tr>\n",
       "  </thead>\n",
       "  <tbody>\n",
       "    <tr>\n",
       "      <th>0</th>\n",
       "      <td>Beomwoo</td>\n",
       "      <td>2013</td>\n",
       "      <td>1.5</td>\n",
       "    </tr>\n",
       "    <tr>\n",
       "      <th>1</th>\n",
       "      <td>Beomwoo</td>\n",
       "      <td>2014</td>\n",
       "      <td>1.7</td>\n",
       "    </tr>\n",
       "    <tr>\n",
       "      <th>2</th>\n",
       "      <td>Beomwoo</td>\n",
       "      <td>2015</td>\n",
       "      <td>3.6</td>\n",
       "    </tr>\n",
       "    <tr>\n",
       "      <th>3</th>\n",
       "      <td>Kim</td>\n",
       "      <td>2016</td>\n",
       "      <td>2.4</td>\n",
       "    </tr>\n",
       "    <tr>\n",
       "      <th>4</th>\n",
       "      <td>Park</td>\n",
       "      <td>2015</td>\n",
       "      <td>2.9</td>\n",
       "    </tr>\n",
       "  </tbody>\n",
       "</table>\n",
       "</div>"
      ],
      "text/plain": [
       "      name  year  points\n",
       "0  Beomwoo  2013     1.5\n",
       "1  Beomwoo  2014     1.7\n",
       "2  Beomwoo  2015     3.6\n",
       "3      Kim  2016     2.4\n",
       "4     Park  2015     2.9"
      ]
     },
     "execution_count": 85,
     "metadata": {},
     "output_type": "execute_result"
    }
   ],
   "source": [
    "#dictionary로 dataframe 정의하기,\n",
    "\n",
    "data = {\n",
    "        'name': ['Beomwoo', 'Beomwoo', 'Beomwoo', 'Kim', 'Park'],\n",
    "        'year': [2013, 2014, 2015, 2016, 2015],\n",
    "        'points': [1.5, 1.7, 3.6, 2.4, 2.9]\n",
    "        }\n",
    "df = pd.DataFrame(data)\n",
    "df"
   ]
  },
  {
   "cell_type": "code",
   "execution_count": 13,
   "id": "d809c302",
   "metadata": {},
   "outputs": [
    {
     "data": {
      "text/html": [
       "<div>\n",
       "<style scoped>\n",
       "    .dataframe tbody tr th:only-of-type {\n",
       "        vertical-align: middle;\n",
       "    }\n",
       "\n",
       "    .dataframe tbody tr th {\n",
       "        vertical-align: top;\n",
       "    }\n",
       "\n",
       "    .dataframe thead th {\n",
       "        text-align: right;\n",
       "    }\n",
       "</style>\n",
       "<table border=\"1\" class=\"dataframe\">\n",
       "  <thead>\n",
       "    <tr style=\"text-align: right;\">\n",
       "      <th></th>\n",
       "      <th>name</th>\n",
       "      <th>year</th>\n",
       "      <th>points</th>\n",
       "    </tr>\n",
       "  </thead>\n",
       "  <tbody>\n",
       "    <tr>\n",
       "      <th>0</th>\n",
       "      <td>Beomwoo</td>\n",
       "      <td>2013</td>\n",
       "      <td>1.5</td>\n",
       "    </tr>\n",
       "    <tr>\n",
       "      <th>1</th>\n",
       "      <td>Beomwoo</td>\n",
       "      <td>2014</td>\n",
       "      <td>1.7</td>\n",
       "    </tr>\n",
       "    <tr>\n",
       "      <th>2</th>\n",
       "      <td>Beomwoo</td>\n",
       "      <td>2015</td>\n",
       "      <td>3.6</td>\n",
       "    </tr>\n",
       "    <tr>\n",
       "      <th>3</th>\n",
       "      <td>Kim</td>\n",
       "      <td>2016</td>\n",
       "      <td>2.4</td>\n",
       "    </tr>\n",
       "    <tr>\n",
       "      <th>4</th>\n",
       "      <td>Park</td>\n",
       "      <td>2015</td>\n",
       "      <td>2.9</td>\n",
       "    </tr>\n",
       "  </tbody>\n",
       "</table>\n",
       "</div>"
      ],
      "text/plain": [
       "      name  year  points\n",
       "0  Beomwoo  2013     1.5\n",
       "1  Beomwoo  2014     1.7\n",
       "2  Beomwoo  2015     3.6\n",
       "3      Kim  2016     2.4\n",
       "4     Park  2015     2.9"
      ]
     },
     "execution_count": 13,
     "metadata": {},
     "output_type": "execute_result"
    }
   ],
   "source": [
    "# List로 dataframe 정의하기\n",
    "data = [ ['Beomwoo',2013,1.5],['Beomwoo',2014,1.7],['Beomwoo',2015,3.6],['Kim',2016,2.4],['Park',2015,2.9] ]\n",
    "column_name = ['name', 'year', 'points']\n",
    "df = pd.DataFrame(data, columns=column_name)\n",
    "df"
   ]
  },
  {
   "cell_type": "markdown",
   "id": "6052382f",
   "metadata": {},
   "source": [
    "## 🎯 Dataframe indexing"
   ]
  },
  {
   "cell_type": "code",
   "execution_count": 91,
   "id": "3654809b",
   "metadata": {
    "ExecuteTime": {
     "end_time": "2022-06-27T05:17:08.402462Z",
     "start_time": "2022-06-27T05:17:08.370549Z"
    }
   },
   "outputs": [
    {
     "data": {
      "text/plain": [
       "2015"
      ]
     },
     "execution_count": 91,
     "metadata": {},
     "output_type": "execute_result"
    }
   ],
   "source": [
    "data = {\n",
    "        'name': ['Beomwoo', 'Beomwoo', 'Beomwoo', 'Kim', 'Park'],\n",
    "        'year': [2013, 2014, 2015, 2016, 2015],\n",
    "        'points': [1.5, 1.7, 3.6, 2.4, 2.9]\n",
    "        }\n",
    "\n",
    "# df = pd.DataFrame(data, columns=[\"year\", \"name\", \"points\", \"penalty\"])\n",
    "# df\n",
    "df = pd.DataFrame(data, columns=[\"year\", \"name\", \"points\", \"penalty\"],\n",
    "                          index=[\"one\", \"two\", \"three\", \"four\", \"five\"])\n",
    "\n"
   ]
  },
  {
   "cell_type": "markdown",
   "id": "816da524",
   "metadata": {},
   "source": [
    "---\n",
    "\n",
    "# ✅ Dataframe 파일로 저장하기"
   ]
  },
  {
   "cell_type": "code",
   "execution_count": 38,
   "id": "db968f2e",
   "metadata": {
    "ExecuteTime": {
     "end_time": "2022-06-27T05:18:25.369503Z",
     "start_time": "2022-06-27T05:18:25.344984Z"
    }
   },
   "outputs": [],
   "source": [
    "data = {\n",
    "        'name': ['Beomwoo', 'Beomwoo', 'Beomwoo', 'Kim', 'Park'],\n",
    "        'year': [2013, 2014, 2015, 2016, 2015],\n",
    "        'points': [1.5, 1.7, 3.6, 2.4, 2.9]\n",
    "        }\n",
    "df = pd.DataFrame(data)\n",
    "df.to_csv(\"data/example/test_0627.csv\")\n",
    "df.to_excel(\"data/example/test_0523.xlsx\")"
   ]
  },
  {
   "attachments": {
    "image.png": {
     "image/png": "[encoded data removed]"
    }
   },
   "cell_type": "markdown",
   "id": "29a18b65",
   "metadata": {},
   "source": [
    "## 🎯 생성되는 파일\n",
    "![image.png](attachment:image.png)"
   ]
  },
  {
   "cell_type": "markdown",
   "id": "f1d99066",
   "metadata": {},
   "source": [
    "## 🎯 Index, header props(properties)설정하기"
   ]
  },
  {
   "cell_type": "code",
   "execution_count": 1,
   "id": "ae71aa69",
   "metadata": {
    "ExecuteTime": {
     "end_time": "2022-06-27T05:19:53.301276Z",
     "start_time": "2022-06-27T05:19:53.280204Z"
    }
   },
   "outputs": [
    {
     "ename": "NameError",
     "evalue": "name 'df' is not defined",
     "output_type": "error",
     "traceback": [
      "\u001b[1;31m---------------------------------------------------------------------------\u001b[0m",
      "\u001b[1;31mNameError\u001b[0m                                 Traceback (most recent call last)",
      "Input \u001b[1;32mIn [1]\u001b[0m, in \u001b[0;36m<cell line: 2>\u001b[1;34m()\u001b[0m\n\u001b[0;32m      1\u001b[0m \u001b[38;5;66;03m# header는 column의 제목들, index는 row의 번호를 의미한다.\u001b[39;00m\n\u001b[1;32m----> 2\u001b[0m \u001b[43mdf\u001b[49m\u001b[38;5;241m.\u001b[39mto_csv(\u001b[38;5;124m\"\u001b[39m\u001b[38;5;124mdata/example/test_noheadr_noindex_0627.csv\u001b[39m\u001b[38;5;124m\"\u001b[39m, header \u001b[38;5;241m=\u001b[39m \u001b[38;5;28;01mFalse\u001b[39;00m, index \u001b[38;5;241m=\u001b[39m \u001b[38;5;28;01mFalse\u001b[39;00m)\n",
      "\u001b[1;31mNameError\u001b[0m: name 'df' is not defined"
     ]
    }
   ],
   "source": [
    "# header는 column의 제목들, index는 row의 번호를 의미한다.\n",
    "df.to_csv(\"data/example/test_noheadr_noindex_0627.csv\", header = False, index = False)"
   ]
  },
  {
   "attachments": {
    "image.png": {
     "image/png": "[encoded data removed]"
    }
   },
   "cell_type": "markdown",
   "id": "62cbca5a",
   "metadata": {},
   "source": [
    "![image.png](attachment:image.png)"
   ]
  },
  {
   "cell_type": "markdown",
   "id": "c41a8332",
   "metadata": {},
   "source": [
    "## 🎯 Header 설정하여 저장"
   ]
  },
  {
   "cell_type": "code",
   "execution_count": 51,
   "id": "1065019f",
   "metadata": {
    "ExecuteTime": {
     "end_time": "2022-06-19T03:57:29.685494Z",
     "start_time": "2022-06-19T03:57:29.669705Z"
    }
   },
   "outputs": [],
   "source": [
    "df.to_csv(\"data/example/test_setheadr.csv\", header = ['NAME', 'YEAR', 'POINT'], index = False)"
   ]
  },
  {
   "attachments": {
    "image.png": {
     "image/png": "[encoded data removed]"
    }
   },
   "cell_type": "markdown",
   "id": "b06c7805",
   "metadata": {},
   "source": [
    "![image.png](attachment:image.png)"
   ]
  },
  {
   "attachments": {
    "image.png": {
     "image/png": "[encoded data removed]"
    }
   },
   "cell_type": "markdown",
   "id": "e430b0f5",
   "metadata": {},
   "source": [
    "## ⏺ 실습: Dataframe 생성하고 excel 파일 저장하기\n",
    "\n",
    "- 다음과 같은 데이터가 최종적으로 저장되게 하자.\n",
    "![image.png](attachment:image.png)"
   ]
  },
  {
   "cell_type": "code",
   "execution_count": 57,
   "id": "df44090b",
   "metadata": {
    "ExecuteTime": {
     "end_time": "2022-06-19T04:07:16.787792Z",
     "start_time": "2022-06-19T04:07:16.757522Z"
    },
    "code_folding": []
   },
   "outputs": [],
   "source": [
    "#\n",
    "df = pd.DataFrame({\n",
    "    'Name' : ['Andy', 'Brad', 'Candy', 'Dean'],\n",
    "    'Age' : [10, 7, 8, 12]\n",
    "})\n",
    "\n",
    "df.to_excel('data/example/testdf.xlsx', engine='openpyxl', index=False)"
   ]
  },
  {
   "cell_type": "markdown",
   "id": "1672f9b8",
   "metadata": {},
   "source": [
    "---\n",
    "\n",
    "# ✅ 데이터 프레임 행, 열 접근하기"
   ]
  },
  {
   "cell_type": "markdown",
   "id": "d6763a65",
   "metadata": {},
   "source": [
    "## 🎯 열 접근 및 조작"
   ]
  },
  {
   "cell_type": "code",
   "execution_count": 109,
   "id": "8d45d459",
   "metadata": {
    "ExecuteTime": {
     "end_time": "2022-07-11T06:10:13.256180Z",
     "start_time": "2022-07-11T06:10:12.134996Z"
    }
   },
   "outputs": [
    {
     "data": {
      "text/html": [
       "<div>\n",
       "<style scoped>\n",
       "    .dataframe tbody tr th:only-of-type {\n",
       "        vertical-align: middle;\n",
       "    }\n",
       "\n",
       "    .dataframe tbody tr th {\n",
       "        vertical-align: top;\n",
       "    }\n",
       "\n",
       "    .dataframe thead th {\n",
       "        text-align: right;\n",
       "    }\n",
       "</style>\n",
       "<table border=\"1\" class=\"dataframe\">\n",
       "  <thead>\n",
       "    <tr style=\"text-align: right;\">\n",
       "      <th></th>\n",
       "      <th>name</th>\n",
       "      <th>year</th>\n",
       "      <th>points</th>\n",
       "    </tr>\n",
       "  </thead>\n",
       "  <tbody>\n",
       "    <tr>\n",
       "      <th>0</th>\n",
       "      <td>Steven</td>\n",
       "      <td>2013</td>\n",
       "      <td>1.5</td>\n",
       "    </tr>\n",
       "    <tr>\n",
       "      <th>1</th>\n",
       "      <td>Andy</td>\n",
       "      <td>2014</td>\n",
       "      <td>1.7</td>\n",
       "    </tr>\n",
       "    <tr>\n",
       "      <th>2</th>\n",
       "      <td>Brad</td>\n",
       "      <td>2015</td>\n",
       "      <td>3.6</td>\n",
       "    </tr>\n",
       "    <tr>\n",
       "      <th>3</th>\n",
       "      <td>Kim</td>\n",
       "      <td>2016</td>\n",
       "      <td>2.4</td>\n",
       "    </tr>\n",
       "    <tr>\n",
       "      <th>4</th>\n",
       "      <td>Park</td>\n",
       "      <td>2015</td>\n",
       "      <td>2.9</td>\n",
       "    </tr>\n",
       "  </tbody>\n",
       "</table>\n",
       "</div>"
      ],
      "text/plain": [
       "     name  year  points\n",
       "0  Steven  2013     1.5\n",
       "1    Andy  2014     1.7\n",
       "2    Brad  2015     3.6\n",
       "3     Kim  2016     2.4\n",
       "4    Park  2015     2.9"
      ]
     },
     "execution_count": 109,
     "metadata": {},
     "output_type": "execute_result"
    }
   ],
   "source": [
    "import pandas as pd\n",
    "data = {\n",
    "        'name': ['Steven', 'Andy', 'Brad', 'Kim', 'Park'],\n",
    "        'year': [2013, 2014, 2015, 2016, 2015],\n",
    "        'points': [1.5, 1.7, 3.6, 2.4, 2.9]\n",
    "        }\n",
    "df = pd.DataFrame(data)\n",
    "df"
   ]
  },
  {
   "cell_type": "markdown",
   "id": "92922972",
   "metadata": {},
   "source": [
    "### 📑 1. 열 이름을 통해 접근하기"
   ]
  },
  {
   "cell_type": "code",
   "execution_count": 97,
   "id": "9ba809c1",
   "metadata": {
    "ExecuteTime": {
     "end_time": "2022-07-11T06:11:18.090156Z",
     "start_time": "2022-07-11T06:11:18.077613Z"
    }
   },
   "outputs": [
    {
     "data": {
      "text/plain": [
       "0    Steven\n",
       "1       나선희\n",
       "2      Brad\n",
       "3       Kim\n",
       "4      Park\n",
       "Name: name, dtype: object"
      ]
     },
     "execution_count": 97,
     "metadata": {},
     "output_type": "execute_result"
    }
   ],
   "source": [
    "# name 열만 가져오기\n",
    "sample=df.name.copy()\n",
    "# sample = df.name.copy()\n",
    "\n",
    "sample[1]='나선희'\n",
    "sample\n"
   ]
  },
  {
   "cell_type": "code",
   "execution_count": 96,
   "id": "90c46ed4",
   "metadata": {
    "ExecuteTime": {
     "end_time": "2022-06-19T04:14:33.984946Z",
     "start_time": "2022-06-19T04:14:33.971710Z"
    }
   },
   "outputs": [
    {
     "data": {
      "text/plain": [
       "0    2013\n",
       "1    2014\n",
       "2    2015\n",
       "3    2016\n",
       "4    2015\n",
       "Name: year, dtype: int64"
      ]
     },
     "execution_count": 96,
     "metadata": {},
     "output_type": "execute_result"
    }
   ],
   "source": [
    "# 동일한 의미를 가지는 다른 방법\n",
    "df['year']\n",
    "df.year"
   ]
  },
  {
   "cell_type": "code",
   "execution_count": 101,
   "id": "ea808392",
   "metadata": {
    "ExecuteTime": {
     "end_time": "2022-06-27T05:44:14.942210Z",
     "start_time": "2022-06-27T05:44:14.930020Z"
    }
   },
   "outputs": [
    {
     "data": {
      "text/html": [
       "<div>\n",
       "<style scoped>\n",
       "    .dataframe tbody tr th:only-of-type {\n",
       "        vertical-align: middle;\n",
       "    }\n",
       "\n",
       "    .dataframe tbody tr th {\n",
       "        vertical-align: top;\n",
       "    }\n",
       "\n",
       "    .dataframe thead th {\n",
       "        text-align: right;\n",
       "    }\n",
       "</style>\n",
       "<table border=\"1\" class=\"dataframe\">\n",
       "  <thead>\n",
       "    <tr style=\"text-align: right;\">\n",
       "      <th></th>\n",
       "      <th>year</th>\n",
       "      <th>name</th>\n",
       "    </tr>\n",
       "  </thead>\n",
       "  <tbody>\n",
       "    <tr>\n",
       "      <th>0</th>\n",
       "      <td>2013</td>\n",
       "      <td>Steven</td>\n",
       "    </tr>\n",
       "    <tr>\n",
       "      <th>1</th>\n",
       "      <td>2014</td>\n",
       "      <td>Andy</td>\n",
       "    </tr>\n",
       "    <tr>\n",
       "      <th>2</th>\n",
       "      <td>2015</td>\n",
       "      <td>Brad</td>\n",
       "    </tr>\n",
       "    <tr>\n",
       "      <th>3</th>\n",
       "      <td>2016</td>\n",
       "      <td>Kim</td>\n",
       "    </tr>\n",
       "    <tr>\n",
       "      <th>4</th>\n",
       "      <td>2015</td>\n",
       "      <td>Park</td>\n",
       "    </tr>\n",
       "  </tbody>\n",
       "</table>\n",
       "</div>"
      ],
      "text/plain": [
       "   year    name\n",
       "0  2013  Steven\n",
       "1  2014    Andy\n",
       "2  2015    Brad\n",
       "3  2016     Kim\n",
       "4  2015    Park"
      ]
     },
     "execution_count": 101,
     "metadata": {},
     "output_type": "execute_result"
    }
   ],
   "source": [
    "# 원하는 열만 떼서 볼 수 있다.\n",
    "df[['year', 'points', 'name']]"
   ]
  },
  {
   "cell_type": "markdown",
   "id": "048c1c48",
   "metadata": {},
   "source": [
    "### 📑 2. 열 인덱스를 통해 접근하기 (loc, iloc)"
   ]
  },
  {
   "cell_type": "code",
   "execution_count": 107,
   "id": "daa31e34",
   "metadata": {
    "ExecuteTime": {
     "end_time": "2022-07-11T06:13:32.097182Z",
     "start_time": "2022-07-11T06:13:32.084184Z"
    }
   },
   "outputs": [
    {
     "data": {
      "text/html": [
       "<div>\n",
       "<style scoped>\n",
       "    .dataframe tbody tr th:only-of-type {\n",
       "        vertical-align: middle;\n",
       "    }\n",
       "\n",
       "    .dataframe tbody tr th {\n",
       "        vertical-align: top;\n",
       "    }\n",
       "\n",
       "    .dataframe thead th {\n",
       "        text-align: right;\n",
       "    }\n",
       "</style>\n",
       "<table border=\"1\" class=\"dataframe\">\n",
       "  <thead>\n",
       "    <tr style=\"text-align: right;\">\n",
       "      <th></th>\n",
       "      <th>name</th>\n",
       "      <th>year</th>\n",
       "    </tr>\n",
       "  </thead>\n",
       "  <tbody>\n",
       "    <tr>\n",
       "      <th>0</th>\n",
       "      <td>Steven</td>\n",
       "      <td>2013</td>\n",
       "    </tr>\n",
       "    <tr>\n",
       "      <th>1</th>\n",
       "      <td>Andy</td>\n",
       "      <td>2014</td>\n",
       "    </tr>\n",
       "    <tr>\n",
       "      <th>2</th>\n",
       "      <td>Brad</td>\n",
       "      <td>2015</td>\n",
       "    </tr>\n",
       "    <tr>\n",
       "      <th>3</th>\n",
       "      <td>Kim</td>\n",
       "      <td>2016</td>\n",
       "    </tr>\n",
       "    <tr>\n",
       "      <th>4</th>\n",
       "      <td>Park</td>\n",
       "      <td>2015</td>\n",
       "    </tr>\n",
       "  </tbody>\n",
       "</table>\n",
       "</div>"
      ],
      "text/plain": [
       "     name  year\n",
       "0  Steven  2013\n",
       "1    Andy  2014\n",
       "2    Brad  2015\n",
       "3     Kim  2016\n",
       "4    Park  2015"
      ]
     },
     "execution_count": 107,
     "metadata": {},
     "output_type": "execute_result"
    }
   ],
   "source": [
    "#모든 행을 선택, name~year의 이름을 가진 열만 선택해서 보여준다.\n",
    "df\n",
    "df.loc[:, 'name':'year']"
   ]
  },
  {
   "cell_type": "code",
   "execution_count": 72,
   "id": "7a02b4e4",
   "metadata": {
    "ExecuteTime": {
     "end_time": "2022-06-19T04:19:03.176868Z",
     "start_time": "2022-06-19T04:19:03.164050Z"
    }
   },
   "outputs": [
    {
     "data": {
      "text/html": [
       "<div>\n",
       "<style scoped>\n",
       "    .dataframe tbody tr th:only-of-type {\n",
       "        vertical-align: middle;\n",
       "    }\n",
       "\n",
       "    .dataframe tbody tr th {\n",
       "        vertical-align: top;\n",
       "    }\n",
       "\n",
       "    .dataframe thead th {\n",
       "        text-align: right;\n",
       "    }\n",
       "</style>\n",
       "<table border=\"1\" class=\"dataframe\">\n",
       "  <thead>\n",
       "    <tr style=\"text-align: right;\">\n",
       "      <th></th>\n",
       "      <th>name</th>\n",
       "      <th>year</th>\n",
       "    </tr>\n",
       "  </thead>\n",
       "  <tbody>\n",
       "    <tr>\n",
       "      <th>0</th>\n",
       "      <td>Steven</td>\n",
       "      <td>2013</td>\n",
       "    </tr>\n",
       "    <tr>\n",
       "      <th>1</th>\n",
       "      <td>Andy</td>\n",
       "      <td>2014</td>\n",
       "    </tr>\n",
       "    <tr>\n",
       "      <th>2</th>\n",
       "      <td>Brad</td>\n",
       "      <td>2015</td>\n",
       "    </tr>\n",
       "    <tr>\n",
       "      <th>3</th>\n",
       "      <td>Kim</td>\n",
       "      <td>2016</td>\n",
       "    </tr>\n",
       "    <tr>\n",
       "      <th>4</th>\n",
       "      <td>Park</td>\n",
       "      <td>2015</td>\n",
       "    </tr>\n",
       "  </tbody>\n",
       "</table>\n",
       "</div>"
      ],
      "text/plain": [
       "     name  year\n",
       "0  Steven  2013\n",
       "1    Andy  2014\n",
       "2    Brad  2015\n",
       "3     Kim  2016\n",
       "4    Park  2015"
      ]
     },
     "execution_count": 72,
     "metadata": {},
     "output_type": "execute_result"
    }
   ],
   "source": [
    "#모든 행을 선택, 0~1번째 열만 선택해서 보여준다.\n",
    "df.iloc[:, 0:2]"
   ]
  },
  {
   "cell_type": "markdown",
   "id": "04f85fe7",
   "metadata": {},
   "source": [
    "### 📑 3.  열의 값 조작하기 "
   ]
  },
  {
   "cell_type": "code",
   "execution_count": 115,
   "id": "629bab93",
   "metadata": {},
   "outputs": [
    {
     "data": {
      "text/html": [
       "<div>\n",
       "<style scoped>\n",
       "    .dataframe tbody tr th:only-of-type {\n",
       "        vertical-align: middle;\n",
       "    }\n",
       "\n",
       "    .dataframe tbody tr th {\n",
       "        vertical-align: top;\n",
       "    }\n",
       "\n",
       "    .dataframe thead th {\n",
       "        text-align: right;\n",
       "    }\n",
       "</style>\n",
       "<table border=\"1\" class=\"dataframe\">\n",
       "  <thead>\n",
       "    <tr style=\"text-align: right;\">\n",
       "      <th></th>\n",
       "      <th>name</th>\n",
       "      <th>year</th>\n",
       "      <th>points</th>\n",
       "    </tr>\n",
       "  </thead>\n",
       "  <tbody>\n",
       "    <tr>\n",
       "      <th>0</th>\n",
       "      <td>Steven</td>\n",
       "      <td>2013</td>\n",
       "      <td>10</td>\n",
       "    </tr>\n",
       "    <tr>\n",
       "      <th>1</th>\n",
       "      <td>Andy</td>\n",
       "      <td>2014</td>\n",
       "      <td>2</td>\n",
       "    </tr>\n",
       "    <tr>\n",
       "      <th>2</th>\n",
       "      <td>Brad</td>\n",
       "      <td>2015</td>\n",
       "      <td>3</td>\n",
       "    </tr>\n",
       "    <tr>\n",
       "      <th>3</th>\n",
       "      <td>Kim</td>\n",
       "      <td>2016</td>\n",
       "      <td>4</td>\n",
       "    </tr>\n",
       "    <tr>\n",
       "      <th>4</th>\n",
       "      <td>Park</td>\n",
       "      <td>2015</td>\n",
       "      <td>5</td>\n",
       "    </tr>\n",
       "  </tbody>\n",
       "</table>\n",
       "</div>"
      ],
      "text/plain": [
       "     name  year  points\n",
       "0  Steven  2013      10\n",
       "1    Andy  2014       2\n",
       "2    Brad  2015       3\n",
       "3     Kim  2016       4\n",
       "4    Park  2015       5"
      ]
     },
     "execution_count": 115,
     "metadata": {},
     "output_type": "execute_result"
    }
   ],
   "source": [
    "# 특정 열을 선택하고 원하는 값을 대입할 수 있다.\n",
    "listTemp= [10,2,3,4,5]\n",
    "df['points'] = listTemp\n",
    "df\n"
   ]
  },
  {
   "cell_type": "code",
   "execution_count": 11,
   "id": "6eb5d0ef",
   "metadata": {
    "ExecuteTime": {
     "end_time": "2022-06-27T01:23:39.110771Z",
     "start_time": "2022-06-27T01:23:39.097226Z"
    }
   },
   "outputs": [
    {
     "data": {
      "text/html": [
       "<div>\n",
       "<style scoped>\n",
       "    .dataframe tbody tr th:only-of-type {\n",
       "        vertical-align: middle;\n",
       "    }\n",
       "\n",
       "    .dataframe tbody tr th {\n",
       "        vertical-align: top;\n",
       "    }\n",
       "\n",
       "    .dataframe thead th {\n",
       "        text-align: right;\n",
       "    }\n",
       "</style>\n",
       "<table border=\"1\" class=\"dataframe\">\n",
       "  <thead>\n",
       "    <tr style=\"text-align: right;\">\n",
       "      <th></th>\n",
       "      <th>name</th>\n",
       "      <th>year</th>\n",
       "      <th>points</th>\n",
       "      <th>penalty</th>\n",
       "    </tr>\n",
       "  </thead>\n",
       "  <tbody>\n",
       "    <tr>\n",
       "      <th>0</th>\n",
       "      <td>Steven</td>\n",
       "      <td>2013</td>\n",
       "      <td>1.5</td>\n",
       "      <td>0.1</td>\n",
       "    </tr>\n",
       "    <tr>\n",
       "      <th>1</th>\n",
       "      <td>Andy</td>\n",
       "      <td>2014</td>\n",
       "      <td>1.7</td>\n",
       "      <td>0.2</td>\n",
       "    </tr>\n",
       "    <tr>\n",
       "      <th>2</th>\n",
       "      <td>Brad</td>\n",
       "      <td>2015</td>\n",
       "      <td>3.6</td>\n",
       "      <td>0.3</td>\n",
       "    </tr>\n",
       "    <tr>\n",
       "      <th>3</th>\n",
       "      <td>Kim</td>\n",
       "      <td>2016</td>\n",
       "      <td>2.4</td>\n",
       "      <td>0.4</td>\n",
       "    </tr>\n",
       "    <tr>\n",
       "      <th>4</th>\n",
       "      <td>Park</td>\n",
       "      <td>2015</td>\n",
       "      <td>2.9</td>\n",
       "      <td>0.5</td>\n",
       "    </tr>\n",
       "  </tbody>\n",
       "</table>\n",
       "</div>"
      ],
      "text/plain": [
       "     name  year  points  penalty\n",
       "0  Steven  2013     1.5      0.1\n",
       "1    Andy  2014     1.7      0.2\n",
       "2    Brad  2015     3.6      0.3\n",
       "3     Kim  2016     2.4      0.4\n",
       "4    Park  2015     2.9      0.5"
      ]
     },
     "execution_count": 11,
     "metadata": {},
     "output_type": "execute_result"
    }
   ],
   "source": [
    "# 또는\n",
    "df['penalty'] = [0.1, 0.2, 0.3, 0.4, 0.5] # python의 List나 numpy의 array\n",
    "df"
   ]
  },
  {
   "cell_type": "code",
   "execution_count": 122,
   "id": "a19db739",
   "metadata": {
    "ExecuteTime": {
     "end_time": "2022-06-19T04:19:55.302948Z",
     "start_time": "2022-06-19T04:19:55.279979Z"
    }
   },
   "outputs": [
    {
     "data": {
      "text/html": [
       "<div>\n",
       "<style scoped>\n",
       "    .dataframe tbody tr th:only-of-type {\n",
       "        vertical-align: middle;\n",
       "    }\n",
       "\n",
       "    .dataframe tbody tr th {\n",
       "        vertical-align: top;\n",
       "    }\n",
       "\n",
       "    .dataframe thead th {\n",
       "        text-align: right;\n",
       "    }\n",
       "</style>\n",
       "<table border=\"1\" class=\"dataframe\">\n",
       "  <thead>\n",
       "    <tr style=\"text-align: right;\">\n",
       "      <th></th>\n",
       "      <th>name</th>\n",
       "      <th>year</th>\n",
       "      <th>points</th>\n",
       "      <th>zeros</th>\n",
       "      <th>spare</th>\n",
       "    </tr>\n",
       "  </thead>\n",
       "  <tbody>\n",
       "    <tr>\n",
       "      <th>0</th>\n",
       "      <td>Steven</td>\n",
       "      <td>2013</td>\n",
       "      <td>10</td>\n",
       "      <td>값넣기</td>\n",
       "      <td></td>\n",
       "    </tr>\n",
       "    <tr>\n",
       "      <th>1</th>\n",
       "      <td>Andy</td>\n",
       "      <td>2014</td>\n",
       "      <td>2</td>\n",
       "      <td>값넣기</td>\n",
       "      <td></td>\n",
       "    </tr>\n",
       "    <tr>\n",
       "      <th>2</th>\n",
       "      <td>Brad</td>\n",
       "      <td>2015</td>\n",
       "      <td>3</td>\n",
       "      <td>값넣기</td>\n",
       "      <td></td>\n",
       "    </tr>\n",
       "    <tr>\n",
       "      <th>3</th>\n",
       "      <td>Kim</td>\n",
       "      <td>2016</td>\n",
       "      <td>4</td>\n",
       "      <td>값넣기</td>\n",
       "      <td></td>\n",
       "    </tr>\n",
       "    <tr>\n",
       "      <th>4</th>\n",
       "      <td>Park</td>\n",
       "      <td>2015</td>\n",
       "      <td>5</td>\n",
       "      <td>값넣기</td>\n",
       "      <td></td>\n",
       "    </tr>\n",
       "  </tbody>\n",
       "</table>\n",
       "</div>"
      ],
      "text/plain": [
       "     name  year  points zeros spare\n",
       "0  Steven  2013      10   값넣기      \n",
       "1    Andy  2014       2   값넣기      \n",
       "2    Brad  2015       3   값넣기      \n",
       "3     Kim  2016       4   값넣기      \n",
       "4    Park  2015       5   값넣기      "
      ]
     },
     "execution_count": 122,
     "metadata": {},
     "output_type": "execute_result"
    }
   ],
   "source": [
    "# 새로운 열을 추가하기\n",
    "df['zeros'] = '값넣기'\n",
    "df['spare'] = ''\n",
    "df"
   ]
  },
  {
   "cell_type": "code",
   "execution_count": 124,
   "id": "07270040",
   "metadata": {},
   "outputs": [
    {
     "data": {
      "text/html": [
       "<div>\n",
       "<style scoped>\n",
       "    .dataframe tbody tr th:only-of-type {\n",
       "        vertical-align: middle;\n",
       "    }\n",
       "\n",
       "    .dataframe tbody tr th {\n",
       "        vertical-align: top;\n",
       "    }\n",
       "\n",
       "    .dataframe thead th {\n",
       "        text-align: right;\n",
       "    }\n",
       "</style>\n",
       "<table border=\"1\" class=\"dataframe\">\n",
       "  <thead>\n",
       "    <tr style=\"text-align: right;\">\n",
       "      <th></th>\n",
       "      <th>name</th>\n",
       "      <th>year</th>\n",
       "      <th>points</th>\n",
       "      <th>zeros</th>\n",
       "      <th>spare</th>\n",
       "      <th>debt</th>\n",
       "    </tr>\n",
       "  </thead>\n",
       "  <tbody>\n",
       "    <tr>\n",
       "      <th>0</th>\n",
       "      <td>Steven</td>\n",
       "      <td>2013</td>\n",
       "      <td>10</td>\n",
       "      <td>값넣기</td>\n",
       "      <td></td>\n",
       "      <td>-1.2</td>\n",
       "    </tr>\n",
       "    <tr>\n",
       "      <th>1</th>\n",
       "      <td>Andy</td>\n",
       "      <td>2014</td>\n",
       "      <td>2</td>\n",
       "      <td>값넣기</td>\n",
       "      <td></td>\n",
       "      <td>NaN</td>\n",
       "    </tr>\n",
       "    <tr>\n",
       "      <th>2</th>\n",
       "      <td>Brad</td>\n",
       "      <td>2015</td>\n",
       "      <td>3</td>\n",
       "      <td>값넣기</td>\n",
       "      <td></td>\n",
       "      <td>NaN</td>\n",
       "    </tr>\n",
       "    <tr>\n",
       "      <th>3</th>\n",
       "      <td>Kim</td>\n",
       "      <td>2016</td>\n",
       "      <td>4</td>\n",
       "      <td>값넣기</td>\n",
       "      <td></td>\n",
       "      <td>-1.5</td>\n",
       "    </tr>\n",
       "    <tr>\n",
       "      <th>4</th>\n",
       "      <td>Park</td>\n",
       "      <td>2015</td>\n",
       "      <td>5</td>\n",
       "      <td>값넣기</td>\n",
       "      <td></td>\n",
       "      <td>-1.7</td>\n",
       "    </tr>\n",
       "  </tbody>\n",
       "</table>\n",
       "</div>"
      ],
      "text/plain": [
       "     name  year  points zeros spare  debt\n",
       "0  Steven  2013      10   값넣기        -1.2\n",
       "1    Andy  2014       2   값넣기         NaN\n",
       "2    Brad  2015       3   값넣기         NaN\n",
       "3     Kim  2016       4   값넣기        -1.5\n",
       "4    Park  2015       5   값넣기        -1.7"
      ]
     },
     "execution_count": 124,
     "metadata": {},
     "output_type": "execute_result"
    }
   ],
   "source": [
    "# Series를 추가할 수도 있다.\n",
    "val = pd.Series([-1.2, -1.5, -1.7], index=[0,3,4])\n",
    "df['debt'] = val\n",
    "df"
   ]
  },
  {
   "cell_type": "code",
   "execution_count": 125,
   "id": "e7724540",
   "metadata": {},
   "outputs": [
    {
     "data": {
      "text/html": [
       "<div>\n",
       "<style scoped>\n",
       "    .dataframe tbody tr th:only-of-type {\n",
       "        vertical-align: middle;\n",
       "    }\n",
       "\n",
       "    .dataframe tbody tr th {\n",
       "        vertical-align: top;\n",
       "    }\n",
       "\n",
       "    .dataframe thead th {\n",
       "        text-align: right;\n",
       "    }\n",
       "</style>\n",
       "<table border=\"1\" class=\"dataframe\">\n",
       "  <thead>\n",
       "    <tr style=\"text-align: right;\">\n",
       "      <th></th>\n",
       "      <th>name</th>\n",
       "      <th>year</th>\n",
       "      <th>points</th>\n",
       "      <th>zeros</th>\n",
       "      <th>spare</th>\n",
       "      <th>debt</th>\n",
       "      <th>penalty</th>\n",
       "      <th>net_points</th>\n",
       "    </tr>\n",
       "  </thead>\n",
       "  <tbody>\n",
       "    <tr>\n",
       "      <th>0</th>\n",
       "      <td>Steven</td>\n",
       "      <td>2013</td>\n",
       "      <td>10</td>\n",
       "      <td>값넣기</td>\n",
       "      <td></td>\n",
       "      <td>-1.2</td>\n",
       "      <td>1</td>\n",
       "      <td>9</td>\n",
       "    </tr>\n",
       "    <tr>\n",
       "      <th>1</th>\n",
       "      <td>Andy</td>\n",
       "      <td>2014</td>\n",
       "      <td>2</td>\n",
       "      <td>값넣기</td>\n",
       "      <td></td>\n",
       "      <td>NaN</td>\n",
       "      <td>1</td>\n",
       "      <td>1</td>\n",
       "    </tr>\n",
       "    <tr>\n",
       "      <th>2</th>\n",
       "      <td>Brad</td>\n",
       "      <td>2015</td>\n",
       "      <td>3</td>\n",
       "      <td>값넣기</td>\n",
       "      <td></td>\n",
       "      <td>NaN</td>\n",
       "      <td>1</td>\n",
       "      <td>2</td>\n",
       "    </tr>\n",
       "    <tr>\n",
       "      <th>3</th>\n",
       "      <td>Kim</td>\n",
       "      <td>2016</td>\n",
       "      <td>4</td>\n",
       "      <td>값넣기</td>\n",
       "      <td></td>\n",
       "      <td>-1.5</td>\n",
       "      <td>1</td>\n",
       "      <td>3</td>\n",
       "    </tr>\n",
       "    <tr>\n",
       "      <th>4</th>\n",
       "      <td>Park</td>\n",
       "      <td>2015</td>\n",
       "      <td>5</td>\n",
       "      <td>값넣기</td>\n",
       "      <td></td>\n",
       "      <td>-1.7</td>\n",
       "      <td>1</td>\n",
       "      <td>4</td>\n",
       "    </tr>\n",
       "  </tbody>\n",
       "</table>\n",
       "</div>"
      ],
      "text/plain": [
       "     name  year  points zeros spare  debt  penalty  net_points\n",
       "0  Steven  2013      10   값넣기        -1.2        1           9\n",
       "1    Andy  2014       2   값넣기         NaN        1           1\n",
       "2    Brad  2015       3   값넣기         NaN        1           2\n",
       "3     Kim  2016       4   값넣기        -1.5        1           3\n",
       "4    Park  2015       5   값넣기        -1.7        1           4"
      ]
     },
     "execution_count": 125,
     "metadata": {},
     "output_type": "execute_result"
    }
   ],
   "source": [
    "#Series로 넣을 때는 val와 같이 넣으려는 data의 index에 맞춰서 데이터가 들어간다.\n",
    "df['penalty'] = 1\n",
    "df['net_points'] = df['points'] - df['penalty']\n",
    "df"
   ]
  },
  {
   "cell_type": "code",
   "execution_count": 73,
   "id": "9587f09f",
   "metadata": {},
   "outputs": [
    {
     "data": {
      "text/html": [
       "<div>\n",
       "<style scoped>\n",
       "    .dataframe tbody tr th:only-of-type {\n",
       "        vertical-align: middle;\n",
       "    }\n",
       "\n",
       "    .dataframe tbody tr th {\n",
       "        vertical-align: top;\n",
       "    }\n",
       "\n",
       "    .dataframe thead th {\n",
       "        text-align: right;\n",
       "    }\n",
       "</style>\n",
       "<table border=\"1\" class=\"dataframe\">\n",
       "  <thead>\n",
       "    <tr style=\"text-align: right;\">\n",
       "      <th></th>\n",
       "      <th>name</th>\n",
       "      <th>year</th>\n",
       "      <th>points</th>\n",
       "      <th>penalty</th>\n",
       "      <th>zeros</th>\n",
       "      <th>debt</th>\n",
       "      <th>net_points</th>\n",
       "      <th>high_points</th>\n",
       "    </tr>\n",
       "  </thead>\n",
       "  <tbody>\n",
       "    <tr>\n",
       "      <th>0</th>\n",
       "      <td>Steven</td>\n",
       "      <td>2013</td>\n",
       "      <td>1.5</td>\n",
       "      <td>1</td>\n",
       "      <td>10</td>\n",
       "      <td>NaN</td>\n",
       "      <td>0.5</td>\n",
       "      <td>False</td>\n",
       "    </tr>\n",
       "    <tr>\n",
       "      <th>1</th>\n",
       "      <td>Andy</td>\n",
       "      <td>2014</td>\n",
       "      <td>1.7</td>\n",
       "      <td>1</td>\n",
       "      <td>10</td>\n",
       "      <td>-1.2</td>\n",
       "      <td>0.7</td>\n",
       "      <td>False</td>\n",
       "    </tr>\n",
       "    <tr>\n",
       "      <th>2</th>\n",
       "      <td>Brad</td>\n",
       "      <td>2015</td>\n",
       "      <td>3.6</td>\n",
       "      <td>1</td>\n",
       "      <td>10</td>\n",
       "      <td>NaN</td>\n",
       "      <td>2.6</td>\n",
       "      <td>True</td>\n",
       "    </tr>\n",
       "    <tr>\n",
       "      <th>3</th>\n",
       "      <td>Kim</td>\n",
       "      <td>2016</td>\n",
       "      <td>2.4</td>\n",
       "      <td>1</td>\n",
       "      <td>10</td>\n",
       "      <td>-1.5</td>\n",
       "      <td>1.4</td>\n",
       "      <td>True</td>\n",
       "    </tr>\n",
       "    <tr>\n",
       "      <th>4</th>\n",
       "      <td>Park</td>\n",
       "      <td>2015</td>\n",
       "      <td>2.9</td>\n",
       "      <td>1</td>\n",
       "      <td>10</td>\n",
       "      <td>-1.7</td>\n",
       "      <td>1.9</td>\n",
       "      <td>True</td>\n",
       "    </tr>\n",
       "  </tbody>\n",
       "</table>\n",
       "</div>"
      ],
      "text/plain": [
       "     name  year  points  penalty  zeros  debt  net_points  high_points\n",
       "0  Steven  2013     1.5        1     10   NaN         0.5        False\n",
       "1    Andy  2014     1.7        1     10  -1.2         0.7        False\n",
       "2    Brad  2015     3.6        1     10   NaN         2.6         True\n",
       "3     Kim  2016     2.4        1     10  -1.5         1.4         True\n",
       "4    Park  2015     2.9        1     10  -1.7         1.9         True"
      ]
     },
     "execution_count": 73,
     "metadata": {},
     "output_type": "execute_result"
    }
   ],
   "source": [
    "# net_points가 1.0보다 높으면 True, 미만이면 False 값을 가지는 high_points 열을 추가한다.\n",
    "df['high_points'] = df['net_points'] > 1.0\n",
    "df"
   ]
  },
  {
   "cell_type": "code",
   "execution_count": 135,
   "id": "069bc53b",
   "metadata": {
    "ExecuteTime": {
     "end_time": "2022-06-27T05:54:23.048293Z",
     "start_time": "2022-06-27T05:54:23.022434Z"
    }
   },
   "outputs": [
    {
     "data": {
      "text/html": [
       "<div>\n",
       "<style scoped>\n",
       "    .dataframe tbody tr th:only-of-type {\n",
       "        vertical-align: middle;\n",
       "    }\n",
       "\n",
       "    .dataframe tbody tr th {\n",
       "        vertical-align: top;\n",
       "    }\n",
       "\n",
       "    .dataframe thead th {\n",
       "        text-align: right;\n",
       "    }\n",
       "</style>\n",
       "<table border=\"1\" class=\"dataframe\">\n",
       "  <thead>\n",
       "    <tr style=\"text-align: right;\">\n",
       "      <th></th>\n",
       "      <th>name</th>\n",
       "      <th>year</th>\n",
       "      <th>points</th>\n",
       "    </tr>\n",
       "  </thead>\n",
       "  <tbody>\n",
       "    <tr>\n",
       "      <th>0</th>\n",
       "      <td>Steven</td>\n",
       "      <td>2013</td>\n",
       "      <td>1.5</td>\n",
       "    </tr>\n",
       "    <tr>\n",
       "      <th>1</th>\n",
       "      <td>Andy</td>\n",
       "      <td>2014</td>\n",
       "      <td>1.7</td>\n",
       "    </tr>\n",
       "    <tr>\n",
       "      <th>3</th>\n",
       "      <td>Kim</td>\n",
       "      <td>2016</td>\n",
       "      <td>2.4</td>\n",
       "    </tr>\n",
       "    <tr>\n",
       "      <th>4</th>\n",
       "      <td>Park</td>\n",
       "      <td>2015</td>\n",
       "      <td>2.9</td>\n",
       "    </tr>\n",
       "  </tbody>\n",
       "</table>\n",
       "</div>"
      ],
      "text/plain": [
       "     name  year  points\n",
       "0  Steven  2013     1.5\n",
       "1    Andy  2014     1.7\n",
       "3     Kim  2016     2.4\n",
       "4    Park  2015     2.9"
      ]
     },
     "execution_count": 135,
     "metadata": {},
     "output_type": "execute_result"
    }
   ],
   "source": [
    "# 열 삭제하기\n",
    "data = {\n",
    "        'name': ['Steven', 'Andy', 'Brad', 'Kim', 'Park'],\n",
    "        'year': [2013, 2014, 2015, 2016, 2015],\n",
    "        'points': [1.5, 1.7, 3.6, 2.4, 2.9]\n",
    "        }\n",
    "df = pd.DataFrame(data)\n",
    "df\n",
    "df.drop('points', axis=1) \n",
    "df.drop(labels=0,axis=0)"
   ]
  },
  {
   "cell_type": "code",
   "execution_count": 133,
   "id": "9ee52672",
   "metadata": {},
   "outputs": [
    {
     "ename": "KeyError",
     "evalue": "'[0] not found in axis'",
     "output_type": "error",
     "traceback": [
      "\u001b[1;31m---------------------------------------------------------------------------\u001b[0m",
      "\u001b[1;31mKeyError\u001b[0m                                  Traceback (most recent call last)",
      "Input \u001b[1;32mIn [133]\u001b[0m, in \u001b[0;36m<cell line: 9>\u001b[1;34m()\u001b[0m\n\u001b[0;32m      7\u001b[0m df \u001b[38;5;241m=\u001b[39m pd\u001b[38;5;241m.\u001b[39mDataFrame(data)\n\u001b[0;32m      8\u001b[0m \u001b[38;5;28;01mdel\u001b[39;00m df[\u001b[38;5;124m'\u001b[39m\u001b[38;5;124mname\u001b[39m\u001b[38;5;124m'\u001b[39m]\n\u001b[1;32m----> 9\u001b[0m \u001b[43mdf\u001b[49m\u001b[38;5;241;43m.\u001b[39;49m\u001b[43mdrop\u001b[49m\u001b[43m(\u001b[49m\u001b[38;5;241;43m0\u001b[39;49m\u001b[43m,\u001b[49m\u001b[43m \u001b[49m\u001b[43maxis\u001b[49m\u001b[38;5;241;43m=\u001b[39;49m\u001b[38;5;241;43m1\u001b[39;49m\u001b[43m)\u001b[49m\n\u001b[0;32m     10\u001b[0m df\n",
      "File \u001b[1;32m~\\AppData\\Local\\Programs\\Python\\Python39\\lib\\site-packages\\pandas\\util\\_decorators.py:311\u001b[0m, in \u001b[0;36mdeprecate_nonkeyword_arguments.<locals>.decorate.<locals>.wrapper\u001b[1;34m(*args, **kwargs)\u001b[0m\n\u001b[0;32m    305\u001b[0m \u001b[38;5;28;01mif\u001b[39;00m \u001b[38;5;28mlen\u001b[39m(args) \u001b[38;5;241m>\u001b[39m num_allow_args:\n\u001b[0;32m    306\u001b[0m     warnings\u001b[38;5;241m.\u001b[39mwarn(\n\u001b[0;32m    307\u001b[0m         msg\u001b[38;5;241m.\u001b[39mformat(arguments\u001b[38;5;241m=\u001b[39marguments),\n\u001b[0;32m    308\u001b[0m         \u001b[38;5;167;01mFutureWarning\u001b[39;00m,\n\u001b[0;32m    309\u001b[0m         stacklevel\u001b[38;5;241m=\u001b[39mstacklevel,\n\u001b[0;32m    310\u001b[0m     )\n\u001b[1;32m--> 311\u001b[0m \u001b[38;5;28;01mreturn\u001b[39;00m func(\u001b[38;5;241m*\u001b[39margs, \u001b[38;5;241m*\u001b[39m\u001b[38;5;241m*\u001b[39mkwargs)\n",
      "File \u001b[1;32m~\\AppData\\Local\\Programs\\Python\\Python39\\lib\\site-packages\\pandas\\core\\frame.py:4954\u001b[0m, in \u001b[0;36mDataFrame.drop\u001b[1;34m(self, labels, axis, index, columns, level, inplace, errors)\u001b[0m\n\u001b[0;32m   4806\u001b[0m \u001b[38;5;129m@deprecate_nonkeyword_arguments\u001b[39m(version\u001b[38;5;241m=\u001b[39m\u001b[38;5;28;01mNone\u001b[39;00m, allowed_args\u001b[38;5;241m=\u001b[39m[\u001b[38;5;124m\"\u001b[39m\u001b[38;5;124mself\u001b[39m\u001b[38;5;124m\"\u001b[39m, \u001b[38;5;124m\"\u001b[39m\u001b[38;5;124mlabels\u001b[39m\u001b[38;5;124m\"\u001b[39m])\n\u001b[0;32m   4807\u001b[0m \u001b[38;5;28;01mdef\u001b[39;00m \u001b[38;5;21mdrop\u001b[39m(\n\u001b[0;32m   4808\u001b[0m     \u001b[38;5;28mself\u001b[39m,\n\u001b[1;32m   (...)\u001b[0m\n\u001b[0;32m   4815\u001b[0m     errors: \u001b[38;5;28mstr\u001b[39m \u001b[38;5;241m=\u001b[39m \u001b[38;5;124m\"\u001b[39m\u001b[38;5;124mraise\u001b[39m\u001b[38;5;124m\"\u001b[39m,\n\u001b[0;32m   4816\u001b[0m ):\n\u001b[0;32m   4817\u001b[0m     \u001b[38;5;124;03m\"\"\"\u001b[39;00m\n\u001b[0;32m   4818\u001b[0m \u001b[38;5;124;03m    Drop specified labels from rows or columns.\u001b[39;00m\n\u001b[0;32m   4819\u001b[0m \n\u001b[1;32m   (...)\u001b[0m\n\u001b[0;32m   4952\u001b[0m \u001b[38;5;124;03m            weight  1.0     0.8\u001b[39;00m\n\u001b[0;32m   4953\u001b[0m \u001b[38;5;124;03m    \"\"\"\u001b[39;00m\n\u001b[1;32m-> 4954\u001b[0m     \u001b[38;5;28;01mreturn\u001b[39;00m \u001b[38;5;28;43msuper\u001b[39;49m\u001b[43m(\u001b[49m\u001b[43m)\u001b[49m\u001b[38;5;241;43m.\u001b[39;49m\u001b[43mdrop\u001b[49m\u001b[43m(\u001b[49m\n\u001b[0;32m   4955\u001b[0m \u001b[43m        \u001b[49m\u001b[43mlabels\u001b[49m\u001b[38;5;241;43m=\u001b[39;49m\u001b[43mlabels\u001b[49m\u001b[43m,\u001b[49m\n\u001b[0;32m   4956\u001b[0m \u001b[43m        \u001b[49m\u001b[43maxis\u001b[49m\u001b[38;5;241;43m=\u001b[39;49m\u001b[43maxis\u001b[49m\u001b[43m,\u001b[49m\n\u001b[0;32m   4957\u001b[0m \u001b[43m        \u001b[49m\u001b[43mindex\u001b[49m\u001b[38;5;241;43m=\u001b[39;49m\u001b[43mindex\u001b[49m\u001b[43m,\u001b[49m\n\u001b[0;32m   4958\u001b[0m \u001b[43m        \u001b[49m\u001b[43mcolumns\u001b[49m\u001b[38;5;241;43m=\u001b[39;49m\u001b[43mcolumns\u001b[49m\u001b[43m,\u001b[49m\n\u001b[0;32m   4959\u001b[0m \u001b[43m        \u001b[49m\u001b[43mlevel\u001b[49m\u001b[38;5;241;43m=\u001b[39;49m\u001b[43mlevel\u001b[49m\u001b[43m,\u001b[49m\n\u001b[0;32m   4960\u001b[0m \u001b[43m        \u001b[49m\u001b[43minplace\u001b[49m\u001b[38;5;241;43m=\u001b[39;49m\u001b[43minplace\u001b[49m\u001b[43m,\u001b[49m\n\u001b[0;32m   4961\u001b[0m \u001b[43m        \u001b[49m\u001b[43merrors\u001b[49m\u001b[38;5;241;43m=\u001b[39;49m\u001b[43merrors\u001b[49m\u001b[43m,\u001b[49m\n\u001b[0;32m   4962\u001b[0m \u001b[43m    \u001b[49m\u001b[43m)\u001b[49m\n",
      "File \u001b[1;32m~\\AppData\\Local\\Programs\\Python\\Python39\\lib\\site-packages\\pandas\\core\\generic.py:4267\u001b[0m, in \u001b[0;36mNDFrame.drop\u001b[1;34m(self, labels, axis, index, columns, level, inplace, errors)\u001b[0m\n\u001b[0;32m   4265\u001b[0m \u001b[38;5;28;01mfor\u001b[39;00m axis, labels \u001b[38;5;129;01min\u001b[39;00m axes\u001b[38;5;241m.\u001b[39mitems():\n\u001b[0;32m   4266\u001b[0m     \u001b[38;5;28;01mif\u001b[39;00m labels \u001b[38;5;129;01mis\u001b[39;00m \u001b[38;5;129;01mnot\u001b[39;00m \u001b[38;5;28;01mNone\u001b[39;00m:\n\u001b[1;32m-> 4267\u001b[0m         obj \u001b[38;5;241m=\u001b[39m \u001b[43mobj\u001b[49m\u001b[38;5;241;43m.\u001b[39;49m\u001b[43m_drop_axis\u001b[49m\u001b[43m(\u001b[49m\u001b[43mlabels\u001b[49m\u001b[43m,\u001b[49m\u001b[43m \u001b[49m\u001b[43maxis\u001b[49m\u001b[43m,\u001b[49m\u001b[43m \u001b[49m\u001b[43mlevel\u001b[49m\u001b[38;5;241;43m=\u001b[39;49m\u001b[43mlevel\u001b[49m\u001b[43m,\u001b[49m\u001b[43m \u001b[49m\u001b[43merrors\u001b[49m\u001b[38;5;241;43m=\u001b[39;49m\u001b[43merrors\u001b[49m\u001b[43m)\u001b[49m\n\u001b[0;32m   4269\u001b[0m \u001b[38;5;28;01mif\u001b[39;00m inplace:\n\u001b[0;32m   4270\u001b[0m     \u001b[38;5;28mself\u001b[39m\u001b[38;5;241m.\u001b[39m_update_inplace(obj)\n",
      "File \u001b[1;32m~\\AppData\\Local\\Programs\\Python\\Python39\\lib\\site-packages\\pandas\\core\\generic.py:4311\u001b[0m, in \u001b[0;36mNDFrame._drop_axis\u001b[1;34m(self, labels, axis, level, errors, consolidate, only_slice)\u001b[0m\n\u001b[0;32m   4309\u001b[0m         new_axis \u001b[38;5;241m=\u001b[39m axis\u001b[38;5;241m.\u001b[39mdrop(labels, level\u001b[38;5;241m=\u001b[39mlevel, errors\u001b[38;5;241m=\u001b[39merrors)\n\u001b[0;32m   4310\u001b[0m     \u001b[38;5;28;01melse\u001b[39;00m:\n\u001b[1;32m-> 4311\u001b[0m         new_axis \u001b[38;5;241m=\u001b[39m \u001b[43maxis\u001b[49m\u001b[38;5;241;43m.\u001b[39;49m\u001b[43mdrop\u001b[49m\u001b[43m(\u001b[49m\u001b[43mlabels\u001b[49m\u001b[43m,\u001b[49m\u001b[43m \u001b[49m\u001b[43merrors\u001b[49m\u001b[38;5;241;43m=\u001b[39;49m\u001b[43merrors\u001b[49m\u001b[43m)\u001b[49m\n\u001b[0;32m   4312\u001b[0m     indexer \u001b[38;5;241m=\u001b[39m axis\u001b[38;5;241m.\u001b[39mget_indexer(new_axis)\n\u001b[0;32m   4314\u001b[0m \u001b[38;5;66;03m# Case for non-unique axis\u001b[39;00m\n\u001b[0;32m   4315\u001b[0m \u001b[38;5;28;01melse\u001b[39;00m:\n",
      "File \u001b[1;32m~\\AppData\\Local\\Programs\\Python\\Python39\\lib\\site-packages\\pandas\\core\\indexes\\base.py:6644\u001b[0m, in \u001b[0;36mIndex.drop\u001b[1;34m(self, labels, errors)\u001b[0m\n\u001b[0;32m   6642\u001b[0m \u001b[38;5;28;01mif\u001b[39;00m mask\u001b[38;5;241m.\u001b[39many():\n\u001b[0;32m   6643\u001b[0m     \u001b[38;5;28;01mif\u001b[39;00m errors \u001b[38;5;241m!=\u001b[39m \u001b[38;5;124m\"\u001b[39m\u001b[38;5;124mignore\u001b[39m\u001b[38;5;124m\"\u001b[39m:\n\u001b[1;32m-> 6644\u001b[0m         \u001b[38;5;28;01mraise\u001b[39;00m \u001b[38;5;167;01mKeyError\u001b[39;00m(\u001b[38;5;124mf\u001b[39m\u001b[38;5;124m\"\u001b[39m\u001b[38;5;132;01m{\u001b[39;00m\u001b[38;5;28mlist\u001b[39m(labels[mask])\u001b[38;5;132;01m}\u001b[39;00m\u001b[38;5;124m not found in axis\u001b[39m\u001b[38;5;124m\"\u001b[39m)\n\u001b[0;32m   6645\u001b[0m     indexer \u001b[38;5;241m=\u001b[39m indexer[\u001b[38;5;241m~\u001b[39mmask]\n\u001b[0;32m   6646\u001b[0m \u001b[38;5;28;01mreturn\u001b[39;00m \u001b[38;5;28mself\u001b[39m\u001b[38;5;241m.\u001b[39mdelete(indexer)\n",
      "\u001b[1;31mKeyError\u001b[0m: '[0] not found in axis'"
     ]
    }
   ],
   "source": [
    "# 혹은 \n",
    "data = {\n",
    "        'name': ['Steven', 'Andy', 'Brad', 'Kim', 'Park'],\n",
    "        'year': [2013, 2014, 2015, 2016, 2015],\n",
    "        'points': [1.5, 1.7, 3.6, 2.4, 2.9]\n",
    "        }\n",
    "df = pd.DataFrame(data)\n",
    "del df['name']\n",
    "df.drop(0, axis=1)\n",
    "df"
   ]
  },
  {
   "cell_type": "code",
   "execution_count": 7,
   "id": "fd34c6a3",
   "metadata": {
    "ExecuteTime": {
     "end_time": "2022-07-11T06:21:12.067261Z",
     "start_time": "2022-07-11T06:21:12.050830Z"
    }
   },
   "outputs": [],
   "source": [
    "# 여러 개의 열 삭제하기\n",
    "data = {\n",
    "        'name': ['Steven', 'Andy', 'Brad', 'Kim', 'Park'],\n",
    "        'year': [2013, 2014, 2015, 2016, 2015],\n",
    "        'points': [1.5, 1.7, 3.6, 2.4, 2.9]\n",
    "        }\n",
    "df = pd.DataFrame(data)\n",
    "#axis = 0 👉 인덱스 삭제\n",
    "#axis = 1 👉 컬럼 삭제\n",
    "# df\n",
    "# df.drop(['name', 'year'], axis=1)"
   ]
  },
  {
   "cell_type": "markdown",
   "id": "93e34c29",
   "metadata": {},
   "source": [
    "## 🎯 행 접근 및 조작"
   ]
  },
  {
   "cell_type": "markdown",
   "id": "8258ee59",
   "metadata": {},
   "source": [
    "### 📑 1. 행의 이름을 통해 접근하기"
   ]
  },
  {
   "cell_type": "code",
   "execution_count": 139,
   "id": "9f1f3c98",
   "metadata": {
    "ExecuteTime": {
     "end_time": "2022-07-11T06:21:14.944029Z",
     "start_time": "2022-07-11T06:21:14.927616Z"
    }
   },
   "outputs": [
    {
     "data": {
      "text/html": [
       "<div>\n",
       "<style scoped>\n",
       "    .dataframe tbody tr th:only-of-type {\n",
       "        vertical-align: middle;\n",
       "    }\n",
       "\n",
       "    .dataframe tbody tr th {\n",
       "        vertical-align: top;\n",
       "    }\n",
       "\n",
       "    .dataframe thead th {\n",
       "        text-align: right;\n",
       "    }\n",
       "</style>\n",
       "<table border=\"1\" class=\"dataframe\">\n",
       "  <thead>\n",
       "    <tr style=\"text-align: right;\">\n",
       "      <th></th>\n",
       "      <th>name</th>\n",
       "      <th>year</th>\n",
       "      <th>points</th>\n",
       "    </tr>\n",
       "  </thead>\n",
       "  <tbody>\n",
       "    <tr>\n",
       "      <th>0</th>\n",
       "      <td>Steven</td>\n",
       "      <td>2013</td>\n",
       "      <td>1.5</td>\n",
       "    </tr>\n",
       "    <tr>\n",
       "      <th>1</th>\n",
       "      <td>Andy</td>\n",
       "      <td>2014</td>\n",
       "      <td>1.7</td>\n",
       "    </tr>\n",
       "    <tr>\n",
       "      <th>2</th>\n",
       "      <td>Brad</td>\n",
       "      <td>2015</td>\n",
       "      <td>3.6</td>\n",
       "    </tr>\n",
       "    <tr>\n",
       "      <th>3</th>\n",
       "      <td>Kim</td>\n",
       "      <td>2016</td>\n",
       "      <td>2.4</td>\n",
       "    </tr>\n",
       "  </tbody>\n",
       "</table>\n",
       "</div>"
      ],
      "text/plain": [
       "     name  year  points\n",
       "0  Steven  2013     1.5\n",
       "1    Andy  2014     1.7\n",
       "2    Brad  2015     3.6\n",
       "3     Kim  2016     2.4"
      ]
     },
     "execution_count": 139,
     "metadata": {},
     "output_type": "execute_result"
    }
   ],
   "source": [
    "# 0번 행 ~ 2(3-1)번 행까지 가져온다\n",
    "df[0:4]"
   ]
  },
  {
   "cell_type": "code",
   "execution_count": 141,
   "id": "f2e736c0",
   "metadata": {
    "ExecuteTime": {
     "end_time": "2022-06-27T01:31:36.731026Z",
     "start_time": "2022-06-27T01:31:36.712692Z"
    }
   },
   "outputs": [
    {
     "data": {
      "text/html": [
       "<div>\n",
       "<style scoped>\n",
       "    .dataframe tbody tr th:only-of-type {\n",
       "        vertical-align: middle;\n",
       "    }\n",
       "\n",
       "    .dataframe tbody tr th {\n",
       "        vertical-align: top;\n",
       "    }\n",
       "\n",
       "    .dataframe thead th {\n",
       "        text-align: right;\n",
       "    }\n",
       "</style>\n",
       "<table border=\"1\" class=\"dataframe\">\n",
       "  <thead>\n",
       "    <tr style=\"text-align: right;\">\n",
       "      <th></th>\n",
       "      <th>name</th>\n",
       "      <th>year</th>\n",
       "      <th>points</th>\n",
       "    </tr>\n",
       "  </thead>\n",
       "  <tbody>\n",
       "    <tr>\n",
       "      <th>one</th>\n",
       "      <td>Steven</td>\n",
       "      <td>2013</td>\n",
       "      <td>1.5</td>\n",
       "    </tr>\n",
       "    <tr>\n",
       "      <th>two</th>\n",
       "      <td>Andy</td>\n",
       "      <td>2014</td>\n",
       "      <td>1.7</td>\n",
       "    </tr>\n",
       "    <tr>\n",
       "      <th>three</th>\n",
       "      <td>Brad</td>\n",
       "      <td>2015</td>\n",
       "      <td>3.6</td>\n",
       "    </tr>\n",
       "  </tbody>\n",
       "</table>\n",
       "</div>"
      ],
      "text/plain": [
       "         name  year  points\n",
       "one    Steven  2013     1.5\n",
       "two      Andy  2014     1.7\n",
       "three    Brad  2015     3.6"
      ]
     },
     "execution_count": 141,
     "metadata": {},
     "output_type": "execute_result"
    }
   ],
   "source": [
    "# 그러나 숫자가 아니라 문자로 indexing 했을시에는 \n",
    "# one 행 ~ four 행까지 온전히 가져온다. \n",
    "df.index = ['one', 'two', 'three', 'four', 'five']\n",
    "\n",
    "df['one':'three'] "
   ]
  },
  {
   "cell_type": "markdown",
   "id": "cf364c87",
   "metadata": {},
   "source": [
    "### 📑 2. 행의 인덱스를 통해 접근하기 (loc, iloc)"
   ]
  },
  {
   "cell_type": "code",
   "execution_count": 150,
   "id": "886c0514",
   "metadata": {
    "ExecuteTime": {
     "end_time": "2022-07-11T06:23:01.807295Z",
     "start_time": "2022-07-11T06:23:01.795381Z"
    }
   },
   "outputs": [
    {
     "data": {
      "text/html": [
       "<div>\n",
       "<style scoped>\n",
       "    .dataframe tbody tr th:only-of-type {\n",
       "        vertical-align: middle;\n",
       "    }\n",
       "\n",
       "    .dataframe tbody tr th {\n",
       "        vertical-align: top;\n",
       "    }\n",
       "\n",
       "    .dataframe thead th {\n",
       "        text-align: right;\n",
       "    }\n",
       "</style>\n",
       "<table border=\"1\" class=\"dataframe\">\n",
       "  <thead>\n",
       "    <tr style=\"text-align: right;\">\n",
       "      <th></th>\n",
       "      <th>name</th>\n",
       "      <th>year</th>\n",
       "      <th>points</th>\n",
       "      <th>penalty</th>\n",
       "    </tr>\n",
       "  </thead>\n",
       "  <tbody>\n",
       "    <tr>\n",
       "      <th>one</th>\n",
       "      <td>Steven</td>\n",
       "      <td>2013</td>\n",
       "      <td>1.5</td>\n",
       "      <td>0.1</td>\n",
       "    </tr>\n",
       "    <tr>\n",
       "      <th>two</th>\n",
       "      <td>Andy</td>\n",
       "      <td>2014</td>\n",
       "      <td>1.7</td>\n",
       "      <td>0.2</td>\n",
       "    </tr>\n",
       "    <tr>\n",
       "      <th>three</th>\n",
       "      <td>Brad</td>\n",
       "      <td>2015</td>\n",
       "      <td>3.6</td>\n",
       "      <td>0.3</td>\n",
       "    </tr>\n",
       "    <tr>\n",
       "      <th>four</th>\n",
       "      <td>Kim</td>\n",
       "      <td>2016</td>\n",
       "      <td>2.4</td>\n",
       "      <td>0.4</td>\n",
       "    </tr>\n",
       "    <tr>\n",
       "      <th>five</th>\n",
       "      <td>Park</td>\n",
       "      <td>2015</td>\n",
       "      <td>2.9</td>\n",
       "      <td>0.5</td>\n",
       "    </tr>\n",
       "  </tbody>\n",
       "</table>\n",
       "</div>"
      ],
      "text/plain": [
       "         name  year  points  penalty\n",
       "one    Steven  2013     1.5      0.1\n",
       "two      Andy  2014     1.7      0.2\n",
       "three    Brad  2015     3.6      0.3\n",
       "four      Kim  2016     2.4      0.4\n",
       "five     Park  2015     2.9      0.5"
      ]
     },
     "execution_count": 150,
     "metadata": {},
     "output_type": "execute_result"
    }
   ],
   "source": [
    "data = {\n",
    "        'name': ['Steven', 'Andy', 'Brad', 'Kim', 'Park'],\n",
    "        'year': [2013, 2014, 2015, 2016, 2015],\n",
    "        'points': [1.5, 1.7, 3.6, 2.4, 2.9]\n",
    "        }\n",
    "df = pd.DataFrame(data)\n",
    "df['penalty'] = [0.1, 0.2, 0.3, 0.4,0.5]\n",
    "df.index = ['one', 'two', 'three', 'four', 'five']\n",
    "df"
   ]
  },
  {
   "cell_type": "code",
   "execution_count": 143,
   "id": "e7f5734d",
   "metadata": {
    "ExecuteTime": {
     "end_time": "2022-06-27T06:03:09.247644Z",
     "start_time": "2022-06-27T06:03:09.221709Z"
    },
    "scrolled": true
   },
   "outputs": [
    {
     "data": {
      "text/plain": [
       "name       Andy\n",
       "year       2014\n",
       "points      1.7\n",
       "penalty     0.2\n",
       "Name: two, dtype: object"
      ]
     },
     "execution_count": 143,
     "metadata": {},
     "output_type": "execute_result"
    }
   ],
   "source": [
    "# .loc 또는 .iloc 함수를 사용하는 방법.\n",
    "df.loc['two']"
   ]
  },
  {
   "cell_type": "code",
   "execution_count": 144,
   "id": "233a03de",
   "metadata": {
    "ExecuteTime": {
     "end_time": "2022-06-27T06:04:00.482778Z",
     "start_time": "2022-06-27T06:04:00.464444Z"
    }
   },
   "outputs": [
    {
     "data": {
      "text/html": [
       "<div>\n",
       "<style scoped>\n",
       "    .dataframe tbody tr th:only-of-type {\n",
       "        vertical-align: middle;\n",
       "    }\n",
       "\n",
       "    .dataframe tbody tr th {\n",
       "        vertical-align: top;\n",
       "    }\n",
       "\n",
       "    .dataframe thead th {\n",
       "        text-align: right;\n",
       "    }\n",
       "</style>\n",
       "<table border=\"1\" class=\"dataframe\">\n",
       "  <thead>\n",
       "    <tr style=\"text-align: right;\">\n",
       "      <th></th>\n",
       "      <th>points</th>\n",
       "      <th>penalty</th>\n",
       "    </tr>\n",
       "  </thead>\n",
       "  <tbody>\n",
       "    <tr>\n",
       "      <th>one</th>\n",
       "      <td>1.5</td>\n",
       "      <td>0.1</td>\n",
       "    </tr>\n",
       "    <tr>\n",
       "      <th>two</th>\n",
       "      <td>1.7</td>\n",
       "      <td>0.2</td>\n",
       "    </tr>\n",
       "    <tr>\n",
       "      <th>three</th>\n",
       "      <td>3.6</td>\n",
       "      <td>0.3</td>\n",
       "    </tr>\n",
       "    <tr>\n",
       "      <th>four</th>\n",
       "      <td>2.4</td>\n",
       "      <td>0.4</td>\n",
       "    </tr>\n",
       "    <tr>\n",
       "      <th>five</th>\n",
       "      <td>2.9</td>\n",
       "      <td>0.5</td>\n",
       "    </tr>\n",
       "  </tbody>\n",
       "</table>\n",
       "</div>"
      ],
      "text/plain": [
       "       points  penalty\n",
       "one       1.5      0.1\n",
       "two       1.7      0.2\n",
       "three     3.6      0.3\n",
       "four      2.4      0.4\n",
       "five      2.9      0.5"
      ]
     },
     "execution_count": 144,
     "metadata": {},
     "output_type": "execute_result"
    }
   ],
   "source": [
    "# two에서 four 까지의 point\n",
    "df.loc['two':'four', 'points':'penalty'] "
   ]
  },
  {
   "cell_type": "code",
   "execution_count": 145,
   "id": "41259cfd",
   "metadata": {
    "ExecuteTime": {
     "end_time": "2022-06-27T06:04:46.299288Z",
     "start_time": "2022-06-27T06:04:46.292483Z"
    }
   },
   "outputs": [
    {
     "data": {
      "text/plain": [
       "one      2013\n",
       "two      2014\n",
       "three    2015\n",
       "four     2016\n",
       "five     2015\n",
       "Name: year, dtype: int64"
      ]
     },
     "execution_count": 145,
     "metadata": {},
     "output_type": "execute_result"
    }
   ],
   "source": [
    "# df.loc[:,'year'] # == df['year']\n",
    "df['year']"
   ]
  },
  {
   "cell_type": "code",
   "execution_count": 60,
   "id": "a2740129",
   "metadata": {
    "ExecuteTime": {
     "end_time": "2022-06-27T06:06:25.326538Z",
     "start_time": "2022-06-27T06:06:25.293951Z"
    }
   },
   "outputs": [
    {
     "data": {
      "text/html": [
       "<div>\n",
       "<style scoped>\n",
       "    .dataframe tbody tr th:only-of-type {\n",
       "        vertical-align: middle;\n",
       "    }\n",
       "\n",
       "    .dataframe tbody tr th {\n",
       "        vertical-align: top;\n",
       "    }\n",
       "\n",
       "    .dataframe thead th {\n",
       "        text-align: right;\n",
       "    }\n",
       "</style>\n",
       "<table border=\"1\" class=\"dataframe\">\n",
       "  <thead>\n",
       "    <tr style=\"text-align: right;\">\n",
       "      <th></th>\n",
       "      <th>year</th>\n",
       "      <th>name</th>\n",
       "      <th>points</th>\n",
       "    </tr>\n",
       "  </thead>\n",
       "  <tbody>\n",
       "    <tr>\n",
       "      <th>one</th>\n",
       "      <td>2013</td>\n",
       "      <td>Steven</td>\n",
       "      <td>1.5</td>\n",
       "    </tr>\n",
       "    <tr>\n",
       "      <th>two</th>\n",
       "      <td>2014</td>\n",
       "      <td>Andy</td>\n",
       "      <td>1.7</td>\n",
       "    </tr>\n",
       "    <tr>\n",
       "      <th>three</th>\n",
       "      <td>2015</td>\n",
       "      <td>Brad</td>\n",
       "      <td>3.6</td>\n",
       "    </tr>\n",
       "    <tr>\n",
       "      <th>four</th>\n",
       "      <td>2016</td>\n",
       "      <td>Kim</td>\n",
       "      <td>2.4</td>\n",
       "    </tr>\n",
       "    <tr>\n",
       "      <th>five</th>\n",
       "      <td>2015</td>\n",
       "      <td>Park</td>\n",
       "      <td>2.9</td>\n",
       "    </tr>\n",
       "  </tbody>\n",
       "</table>\n",
       "</div>"
      ],
      "text/plain": [
       "       year    name  points\n",
       "one    2013  Steven     1.5\n",
       "two    2014    Andy     1.7\n",
       "three  2015    Brad     3.6\n",
       "four   2016     Kim     2.4\n",
       "five   2015    Park     2.9"
      ]
     },
     "execution_count": 60,
     "metadata": {},
     "output_type": "execute_result"
    }
   ],
   "source": [
    "df.loc[:,['year','name','points']]"
   ]
  },
  {
   "cell_type": "code",
   "execution_count": 76,
   "id": "a2f7960b",
   "metadata": {
    "ExecuteTime": {
     "end_time": "2022-06-19T04:25:57.038709Z",
     "start_time": "2022-06-19T04:25:57.022455Z"
    }
   },
   "outputs": [
    {
     "data": {
      "text/html": [
       "<div>\n",
       "<style scoped>\n",
       "    .dataframe tbody tr th:only-of-type {\n",
       "        vertical-align: middle;\n",
       "    }\n",
       "\n",
       "    .dataframe tbody tr th {\n",
       "        vertical-align: top;\n",
       "    }\n",
       "\n",
       "    .dataframe thead th {\n",
       "        text-align: right;\n",
       "    }\n",
       "</style>\n",
       "<table border=\"1\" class=\"dataframe\">\n",
       "  <thead>\n",
       "    <tr style=\"text-align: right;\">\n",
       "      <th></th>\n",
       "      <th>name</th>\n",
       "      <th>year</th>\n",
       "      <th>points</th>\n",
       "    </tr>\n",
       "  </thead>\n",
       "  <tbody>\n",
       "    <tr>\n",
       "      <th>three</th>\n",
       "      <td>Brad</td>\n",
       "      <td>2015</td>\n",
       "      <td>3.6</td>\n",
       "    </tr>\n",
       "    <tr>\n",
       "      <th>four</th>\n",
       "      <td>Kim</td>\n",
       "      <td>2016</td>\n",
       "      <td>2.4</td>\n",
       "    </tr>\n",
       "    <tr>\n",
       "      <th>five</th>\n",
       "      <td>Park</td>\n",
       "      <td>2015</td>\n",
       "      <td>2.9</td>\n",
       "    </tr>\n",
       "  </tbody>\n",
       "</table>\n",
       "</div>"
      ],
      "text/plain": [
       "       name  year  points\n",
       "three  Brad  2015     3.6\n",
       "four    Kim  2016     2.4\n",
       "five   Park  2015     2.9"
      ]
     },
     "execution_count": 76,
     "metadata": {},
     "output_type": "execute_result"
    }
   ],
   "source": [
    "df.loc['three':'five','name':'points']"
   ]
  },
  {
   "cell_type": "code",
   "execution_count": 146,
   "id": "9dfe18bb",
   "metadata": {
    "ExecuteTime": {
     "end_time": "2022-06-27T06:07:21.046298Z",
     "start_time": "2022-06-27T06:07:21.027049Z"
    }
   },
   "outputs": [
    {
     "data": {
      "text/plain": [
       "name        Kim\n",
       "year       2016\n",
       "points      2.4\n",
       "penalty     0.4\n",
       "Name: four, dtype: object"
      ]
     },
     "execution_count": 146,
     "metadata": {},
     "output_type": "execute_result"
    }
   ],
   "source": [
    "# .iloc 사용:: index 번호를 사용한다.\n",
    "df.iloc[3] # 4번째 행을 가져온다."
   ]
  },
  {
   "cell_type": "code",
   "execution_count": 62,
   "id": "03bd2eeb",
   "metadata": {
    "ExecuteTime": {
     "end_time": "2022-06-27T06:07:50.722549Z",
     "start_time": "2022-06-27T06:07:50.704163Z"
    }
   },
   "outputs": [
    {
     "data": {
      "text/html": [
       "<div>\n",
       "<style scoped>\n",
       "    .dataframe tbody tr th:only-of-type {\n",
       "        vertical-align: middle;\n",
       "    }\n",
       "\n",
       "    .dataframe tbody tr th {\n",
       "        vertical-align: top;\n",
       "    }\n",
       "\n",
       "    .dataframe thead th {\n",
       "        text-align: right;\n",
       "    }\n",
       "</style>\n",
       "<table border=\"1\" class=\"dataframe\">\n",
       "  <thead>\n",
       "    <tr style=\"text-align: right;\">\n",
       "      <th></th>\n",
       "      <th>name</th>\n",
       "      <th>year</th>\n",
       "    </tr>\n",
       "  </thead>\n",
       "  <tbody>\n",
       "    <tr>\n",
       "      <th>four</th>\n",
       "      <td>Kim</td>\n",
       "      <td>2016</td>\n",
       "    </tr>\n",
       "    <tr>\n",
       "      <th>five</th>\n",
       "      <td>Park</td>\n",
       "      <td>2015</td>\n",
       "    </tr>\n",
       "  </tbody>\n",
       "</table>\n",
       "</div>"
      ],
      "text/plain": [
       "      name  year\n",
       "four   Kim  2016\n",
       "five  Park  2015"
      ]
     },
     "execution_count": 62,
     "metadata": {},
     "output_type": "execute_result"
    }
   ],
   "source": [
    "df.iloc[3:5, 0:2] "
   ]
  },
  {
   "cell_type": "code",
   "execution_count": 63,
   "id": "7c7eae47",
   "metadata": {
    "ExecuteTime": {
     "end_time": "2022-06-27T06:08:09.663419Z",
     "start_time": "2022-06-27T06:08:09.649801Z"
    }
   },
   "outputs": [
    {
     "data": {
      "text/html": [
       "<div>\n",
       "<style scoped>\n",
       "    .dataframe tbody tr th:only-of-type {\n",
       "        vertical-align: middle;\n",
       "    }\n",
       "\n",
       "    .dataframe tbody tr th {\n",
       "        vertical-align: top;\n",
       "    }\n",
       "\n",
       "    .dataframe thead th {\n",
       "        text-align: right;\n",
       "    }\n",
       "</style>\n",
       "<table border=\"1\" class=\"dataframe\">\n",
       "  <thead>\n",
       "    <tr style=\"text-align: right;\">\n",
       "      <th></th>\n",
       "      <th>year</th>\n",
       "      <th>points</th>\n",
       "    </tr>\n",
       "  </thead>\n",
       "  <tbody>\n",
       "    <tr>\n",
       "      <th>one</th>\n",
       "      <td>2013</td>\n",
       "      <td>1.5</td>\n",
       "    </tr>\n",
       "    <tr>\n",
       "      <th>two</th>\n",
       "      <td>2014</td>\n",
       "      <td>1.7</td>\n",
       "    </tr>\n",
       "    <tr>\n",
       "      <th>four</th>\n",
       "      <td>2016</td>\n",
       "      <td>2.4</td>\n",
       "    </tr>\n",
       "  </tbody>\n",
       "</table>\n",
       "</div>"
      ],
      "text/plain": [
       "      year  points\n",
       "one   2013     1.5\n",
       "two   2014     1.7\n",
       "four  2016     2.4"
      ]
     },
     "execution_count": 63,
     "metadata": {},
     "output_type": "execute_result"
    }
   ],
   "source": [
    "df.iloc[[0,1,3], [1,2]]"
   ]
  },
  {
   "cell_type": "code",
   "execution_count": 97,
   "id": "de8d5993",
   "metadata": {
    "scrolled": false
   },
   "outputs": [
    {
     "data": {
      "text/plain": [
       "one      Steven\n",
       "two        Andy\n",
       "three      Brad\n",
       "four        Kim\n",
       "five       Park\n",
       "Name: name, dtype: object"
      ]
     },
     "execution_count": 97,
     "metadata": {},
     "output_type": "execute_result"
    }
   ],
   "source": [
    "df.iloc[:,0]"
   ]
  },
  {
   "cell_type": "code",
   "execution_count": 98,
   "id": "9ee82c1c",
   "metadata": {},
   "outputs": [
    {
     "data": {
      "text/html": [
       "<div>\n",
       "<style scoped>\n",
       "    .dataframe tbody tr th:only-of-type {\n",
       "        vertical-align: middle;\n",
       "    }\n",
       "\n",
       "    .dataframe tbody tr th {\n",
       "        vertical-align: top;\n",
       "    }\n",
       "\n",
       "    .dataframe thead th {\n",
       "        text-align: right;\n",
       "    }\n",
       "</style>\n",
       "<table border=\"1\" class=\"dataframe\">\n",
       "  <thead>\n",
       "    <tr style=\"text-align: right;\">\n",
       "      <th></th>\n",
       "      <th>name</th>\n",
       "      <th>year</th>\n",
       "      <th>points</th>\n",
       "      <th>penalty</th>\n",
       "    </tr>\n",
       "  </thead>\n",
       "  <tbody>\n",
       "    <tr>\n",
       "      <th>one</th>\n",
       "      <td>Steven</td>\n",
       "      <td>2013</td>\n",
       "      <td>1.5</td>\n",
       "      <td>0.1</td>\n",
       "    </tr>\n",
       "    <tr>\n",
       "      <th>two</th>\n",
       "      <td>Andy</td>\n",
       "      <td>2014</td>\n",
       "      <td>1.7</td>\n",
       "      <td>0.2</td>\n",
       "    </tr>\n",
       "    <tr>\n",
       "      <th>three</th>\n",
       "      <td>Brad</td>\n",
       "      <td>2015</td>\n",
       "      <td>3.6</td>\n",
       "      <td>0.3</td>\n",
       "    </tr>\n",
       "    <tr>\n",
       "      <th>four</th>\n",
       "      <td>Kim</td>\n",
       "      <td>2016</td>\n",
       "      <td>2.4</td>\n",
       "      <td>0.4</td>\n",
       "    </tr>\n",
       "    <tr>\n",
       "      <th>five</th>\n",
       "      <td>Park</td>\n",
       "      <td>2015</td>\n",
       "      <td>2.9</td>\n",
       "      <td>0.5</td>\n",
       "    </tr>\n",
       "  </tbody>\n",
       "</table>\n",
       "</div>"
      ],
      "text/plain": [
       "         name  year  points  penalty\n",
       "one    Steven  2013     1.5      0.1\n",
       "two      Andy  2014     1.7      0.2\n",
       "three    Brad  2015     3.6      0.3\n",
       "four      Kim  2016     2.4      0.4\n",
       "five     Park  2015     2.9      0.5"
      ]
     },
     "execution_count": 98,
     "metadata": {},
     "output_type": "execute_result"
    }
   ],
   "source": [
    "df"
   ]
  },
  {
   "cell_type": "markdown",
   "id": "6891f439",
   "metadata": {},
   "source": [
    "### 📑 3. 행 값 조작하기"
   ]
  },
  {
   "cell_type": "code",
   "execution_count": 147,
   "id": "5529d7ed",
   "metadata": {},
   "outputs": [
    {
     "data": {
      "text/html": [
       "<div>\n",
       "<style scoped>\n",
       "    .dataframe tbody tr th:only-of-type {\n",
       "        vertical-align: middle;\n",
       "    }\n",
       "\n",
       "    .dataframe tbody tr th {\n",
       "        vertical-align: top;\n",
       "    }\n",
       "\n",
       "    .dataframe thead th {\n",
       "        text-align: right;\n",
       "    }\n",
       "</style>\n",
       "<table border=\"1\" class=\"dataframe\">\n",
       "  <thead>\n",
       "    <tr style=\"text-align: right;\">\n",
       "      <th></th>\n",
       "      <th>name</th>\n",
       "      <th>year</th>\n",
       "      <th>points</th>\n",
       "      <th>penalty</th>\n",
       "    </tr>\n",
       "  </thead>\n",
       "  <tbody>\n",
       "    <tr>\n",
       "      <th>one</th>\n",
       "      <td>Steven</td>\n",
       "      <td>2013.0</td>\n",
       "      <td>1.5</td>\n",
       "      <td>0.1</td>\n",
       "    </tr>\n",
       "    <tr>\n",
       "      <th>two</th>\n",
       "      <td>Andy</td>\n",
       "      <td>2014.0</td>\n",
       "      <td>1.7</td>\n",
       "      <td>0.2</td>\n",
       "    </tr>\n",
       "    <tr>\n",
       "      <th>three</th>\n",
       "      <td>Brad</td>\n",
       "      <td>2015.0</td>\n",
       "      <td>3.6</td>\n",
       "      <td>0.3</td>\n",
       "    </tr>\n",
       "    <tr>\n",
       "      <th>four</th>\n",
       "      <td>Kim</td>\n",
       "      <td>2016.0</td>\n",
       "      <td>2.4</td>\n",
       "      <td>0.4</td>\n",
       "    </tr>\n",
       "    <tr>\n",
       "      <th>five</th>\n",
       "      <td>Park</td>\n",
       "      <td>2015.0</td>\n",
       "      <td>2.9</td>\n",
       "      <td>0.5</td>\n",
       "    </tr>\n",
       "    <tr>\n",
       "      <th>six</th>\n",
       "      <td>Jun</td>\n",
       "      <td>2013.0</td>\n",
       "      <td>4.0</td>\n",
       "      <td>0.1</td>\n",
       "    </tr>\n",
       "  </tbody>\n",
       "</table>\n",
       "</div>"
      ],
      "text/plain": [
       "         name    year  points  penalty\n",
       "one    Steven  2013.0     1.5      0.1\n",
       "two      Andy  2014.0     1.7      0.2\n",
       "three    Brad  2015.0     3.6      0.3\n",
       "four      Kim  2016.0     2.4      0.4\n",
       "five     Park  2015.0     2.9      0.5\n",
       "six       Jun  2013.0     4.0      0.1"
      ]
     },
     "execution_count": 147,
     "metadata": {},
     "output_type": "execute_result"
    }
   ],
   "source": [
    "# 새로운 행 삽입하기 df.index=['six'] ?!\n",
    "df.loc['six', :] = ['Jun', 2013, 4.0, 0.1]\n",
    "df"
   ]
  },
  {
   "cell_type": "code",
   "execution_count": 148,
   "id": "fb259963",
   "metadata": {},
   "outputs": [
    {
     "data": {
      "text/html": [
       "<div>\n",
       "<style scoped>\n",
       "    .dataframe tbody tr th:only-of-type {\n",
       "        vertical-align: middle;\n",
       "    }\n",
       "\n",
       "    .dataframe tbody tr th {\n",
       "        vertical-align: top;\n",
       "    }\n",
       "\n",
       "    .dataframe thead th {\n",
       "        text-align: right;\n",
       "    }\n",
       "</style>\n",
       "<table border=\"1\" class=\"dataframe\">\n",
       "  <thead>\n",
       "    <tr style=\"text-align: right;\">\n",
       "      <th></th>\n",
       "      <th>name</th>\n",
       "      <th>year</th>\n",
       "      <th>points</th>\n",
       "      <th>penalty</th>\n",
       "    </tr>\n",
       "  </thead>\n",
       "  <tbody>\n",
       "    <tr>\n",
       "      <th>one</th>\n",
       "      <td>Steven</td>\n",
       "      <td>2013.0</td>\n",
       "      <td>1.5</td>\n",
       "      <td>0.1</td>\n",
       "    </tr>\n",
       "    <tr>\n",
       "      <th>two</th>\n",
       "      <td>Andy</td>\n",
       "      <td>2014.0</td>\n",
       "      <td>1.7</td>\n",
       "      <td>0.2</td>\n",
       "    </tr>\n",
       "    <tr>\n",
       "      <th>three</th>\n",
       "      <td>Brad</td>\n",
       "      <td>2015.0</td>\n",
       "      <td>3.6</td>\n",
       "      <td>0.3</td>\n",
       "    </tr>\n",
       "    <tr>\n",
       "      <th>four</th>\n",
       "      <td>Kim</td>\n",
       "      <td>2016.0</td>\n",
       "      <td>2.4</td>\n",
       "      <td>0.4</td>\n",
       "    </tr>\n",
       "    <tr>\n",
       "      <th>five</th>\n",
       "      <td>Park</td>\n",
       "      <td>2015.0</td>\n",
       "      <td>2.9</td>\n",
       "      <td>0.5</td>\n",
       "    </tr>\n",
       "    <tr>\n",
       "      <th>six</th>\n",
       "      <td>Jun</td>\n",
       "      <td>2013.0</td>\n",
       "      <td>4.0</td>\n",
       "      <td>0.1</td>\n",
       "    </tr>\n",
       "    <tr>\n",
       "      <th>eig</th>\n",
       "      <td>xx</td>\n",
       "      <td>2022.0</td>\n",
       "      <td>3.0</td>\n",
       "      <td>0.1</td>\n",
       "    </tr>\n",
       "  </tbody>\n",
       "</table>\n",
       "</div>"
      ],
      "text/plain": [
       "         name    year  points  penalty\n",
       "one    Steven  2013.0     1.5      0.1\n",
       "two      Andy  2014.0     1.7      0.2\n",
       "three    Brad  2015.0     3.6      0.3\n",
       "four      Kim  2016.0     2.4      0.4\n",
       "five     Park  2015.0     2.9      0.5\n",
       "six       Jun  2013.0     4.0      0.1\n",
       "eig        xx  2022.0     3.0      0.1"
      ]
     },
     "execution_count": 148,
     "metadata": {},
     "output_type": "execute_result"
    }
   ],
   "source": [
    "df.loc['eig', :] = ['xx', 2022, 3.0, 0.1]\n",
    "df"
   ]
  },
  {
   "cell_type": "code",
   "execution_count": 149,
   "id": "e19edd45",
   "metadata": {
    "ExecuteTime": {
     "end_time": "2022-06-26T05:39:05.795111Z",
     "start_time": "2022-06-26T05:39:05.770294Z"
    }
   },
   "outputs": [
    {
     "data": {
      "text/html": [
       "<div>\n",
       "<style scoped>\n",
       "    .dataframe tbody tr th:only-of-type {\n",
       "        vertical-align: middle;\n",
       "    }\n",
       "\n",
       "    .dataframe tbody tr th {\n",
       "        vertical-align: top;\n",
       "    }\n",
       "\n",
       "    .dataframe thead th {\n",
       "        text-align: right;\n",
       "    }\n",
       "</style>\n",
       "<table border=\"1\" class=\"dataframe\">\n",
       "  <thead>\n",
       "    <tr style=\"text-align: right;\">\n",
       "      <th></th>\n",
       "      <th>name</th>\n",
       "      <th>year</th>\n",
       "      <th>points</th>\n",
       "      <th>penalty</th>\n",
       "    </tr>\n",
       "  </thead>\n",
       "  <tbody>\n",
       "    <tr>\n",
       "      <th>one</th>\n",
       "      <td>Steven</td>\n",
       "      <td>2013.0</td>\n",
       "      <td>1.5</td>\n",
       "      <td>0.1</td>\n",
       "    </tr>\n",
       "    <tr>\n",
       "      <th>two</th>\n",
       "      <td>Andy</td>\n",
       "      <td>2014.0</td>\n",
       "      <td>1.7</td>\n",
       "      <td>0.2</td>\n",
       "    </tr>\n",
       "    <tr>\n",
       "      <th>three</th>\n",
       "      <td>Brad</td>\n",
       "      <td>2015.0</td>\n",
       "      <td>3.6</td>\n",
       "      <td>0.3</td>\n",
       "    </tr>\n",
       "    <tr>\n",
       "      <th>four</th>\n",
       "      <td>Kim</td>\n",
       "      <td>2016.0</td>\n",
       "      <td>2.4</td>\n",
       "      <td>0.4</td>\n",
       "    </tr>\n",
       "    <tr>\n",
       "      <th>five</th>\n",
       "      <td>Park</td>\n",
       "      <td>2015.0</td>\n",
       "      <td>2.9</td>\n",
       "      <td>0.5</td>\n",
       "    </tr>\n",
       "    <tr>\n",
       "      <th>six</th>\n",
       "      <td>Jun</td>\n",
       "      <td>2013.0</td>\n",
       "      <td>4.0</td>\n",
       "      <td>0.1</td>\n",
       "    </tr>\n",
       "    <tr>\n",
       "      <th>eig</th>\n",
       "      <td>xx</td>\n",
       "      <td>2022.0</td>\n",
       "      <td>3.0</td>\n",
       "      <td>0.1</td>\n",
       "    </tr>\n",
       "  </tbody>\n",
       "</table>\n",
       "</div>"
      ],
      "text/plain": [
       "         name    year  points  penalty\n",
       "one    Steven  2013.0     1.5      0.1\n",
       "two      Andy  2014.0     1.7      0.2\n",
       "three    Brad  2015.0     3.6      0.3\n",
       "four      Kim  2016.0     2.4      0.4\n",
       "five     Park  2015.0     2.9      0.5\n",
       "six       Jun  2013.0     4.0      0.1\n",
       "eig        xx  2022.0     3.0      0.1"
      ]
     },
     "execution_count": 149,
     "metadata": {},
     "output_type": "execute_result"
    }
   ],
   "source": [
    "# 행 삭제하기 \n",
    "df.drop(['one','two'])\n",
    "df"
   ]
  },
  {
   "cell_type": "code",
   "execution_count": 64,
   "id": "e4b37824",
   "metadata": {
    "ExecuteTime": {
     "end_time": "2022-06-26T05:39:20.885441Z",
     "start_time": "2022-06-26T05:39:20.870881Z"
    }
   },
   "outputs": [
    {
     "data": {
      "text/html": [
       "<div>\n",
       "<style scoped>\n",
       "    .dataframe tbody tr th:only-of-type {\n",
       "        vertical-align: middle;\n",
       "    }\n",
       "\n",
       "    .dataframe tbody tr th {\n",
       "        vertical-align: top;\n",
       "    }\n",
       "\n",
       "    .dataframe thead th {\n",
       "        text-align: right;\n",
       "    }\n",
       "</style>\n",
       "<table border=\"1\" class=\"dataframe\">\n",
       "  <thead>\n",
       "    <tr style=\"text-align: right;\">\n",
       "      <th></th>\n",
       "      <th>name</th>\n",
       "      <th>year</th>\n",
       "      <th>points</th>\n",
       "      <th>penalty</th>\n",
       "    </tr>\n",
       "  </thead>\n",
       "  <tbody>\n",
       "    <tr>\n",
       "      <th>three</th>\n",
       "      <td>Brad</td>\n",
       "      <td>2015</td>\n",
       "      <td>3.6</td>\n",
       "      <td>0.3</td>\n",
       "    </tr>\n",
       "    <tr>\n",
       "      <th>four</th>\n",
       "      <td>Kim</td>\n",
       "      <td>2016</td>\n",
       "      <td>2.4</td>\n",
       "      <td>0.4</td>\n",
       "    </tr>\n",
       "    <tr>\n",
       "      <th>five</th>\n",
       "      <td>Park</td>\n",
       "      <td>2015</td>\n",
       "      <td>2.9</td>\n",
       "      <td>0.5</td>\n",
       "    </tr>\n",
       "  </tbody>\n",
       "</table>\n",
       "</div>"
      ],
      "text/plain": [
       "       name  year  points  penalty\n",
       "three  Brad  2015     3.6      0.3\n",
       "four    Kim  2016     2.4      0.4\n",
       "five   Park  2015     2.9      0.5"
      ]
     },
     "execution_count": 64,
     "metadata": {},
     "output_type": "execute_result"
    }
   ],
   "source": [
    "# 행 삭제하고 원 df에 바로 적용하기\n",
    "# inplace = True 인 경우 원본도 변경이 됩니다!\n",
    "copy_df = df\n",
    "copy_df\n",
    "copy_df.drop(['one', 'two'], inplace = True)\n",
    "copy_df"
   ]
  },
  {
   "attachments": {
    "image-2.png": {
     "image/png": "[encoded data removed]"
    },
    "image.png": {
     "image/png": "[encoded data removed]"
    }
   },
   "cell_type": "markdown",
   "id": "3c1ecfd8",
   "metadata": {},
   "source": [
    "## ⏺ 실습: 행 열 접근 조작하기\n",
    "\n",
    "- before 데이터\n",
    "![image.png](attachment:image.png)\n",
    "\n",
    "- after 데이터\n",
    "![image-2.png](attachment:image-2.png)"
   ]
  },
  {
   "cell_type": "code",
   "execution_count": 152,
   "id": "586015d3",
   "metadata": {
    "ExecuteTime": {
     "end_time": "2022-07-11T06:30:10.138871Z",
     "start_time": "2022-07-11T06:30:10.123734Z"
    },
    "code_folding": []
   },
   "outputs": [
    {
     "data": {
      "text/html": [
       "<div>\n",
       "<style scoped>\n",
       "    .dataframe tbody tr th:only-of-type {\n",
       "        vertical-align: middle;\n",
       "    }\n",
       "\n",
       "    .dataframe tbody tr th {\n",
       "        vertical-align: top;\n",
       "    }\n",
       "\n",
       "    .dataframe thead th {\n",
       "        text-align: right;\n",
       "    }\n",
       "</style>\n",
       "<table border=\"1\" class=\"dataframe\">\n",
       "  <thead>\n",
       "    <tr style=\"text-align: right;\">\n",
       "      <th></th>\n",
       "      <th>name</th>\n",
       "      <th>year</th>\n",
       "      <th>points</th>\n",
       "    </tr>\n",
       "  </thead>\n",
       "  <tbody>\n",
       "    <tr>\n",
       "      <th>one</th>\n",
       "      <td>Steven</td>\n",
       "      <td>2013</td>\n",
       "      <td>1.5</td>\n",
       "    </tr>\n",
       "    <tr>\n",
       "      <th>two</th>\n",
       "      <td>Andy</td>\n",
       "      <td>2014</td>\n",
       "      <td>1.7</td>\n",
       "    </tr>\n",
       "    <tr>\n",
       "      <th>three</th>\n",
       "      <td>Brad</td>\n",
       "      <td>2015</td>\n",
       "      <td>3.6</td>\n",
       "    </tr>\n",
       "  </tbody>\n",
       "</table>\n",
       "</div>"
      ],
      "text/plain": [
       "         name  year  points\n",
       "one    Steven  2013     1.5\n",
       "two      Andy  2014     1.7\n",
       "three    Brad  2015     3.6"
      ]
     },
     "execution_count": 152,
     "metadata": {},
     "output_type": "execute_result"
    }
   ],
   "source": [
    "# df 선언\n",
    "data = {\n",
    "        'name': ['Steven', 'Andy', 'Brad', 'Kim', 'Park'],\n",
    "        'year': [2013, 2014, 2015, 2016, 2015],\n",
    "        'points': [1.5, 1.7, 3.6, 2.4, 2.9],\n",
    "        'penalty' : [0.1, 0.2, 0.3, 0.4,0.5]\n",
    "        }\n",
    "df = pd.DataFrame(data)\n",
    "df.index = ['one', 'two', 'three', 'four', 'five']\n",
    "df\n",
    "\n",
    "# df 조작\n",
    "df.loc['one':'three', 'name':'points']\n"
   ]
  },
  {
   "cell_type": "code",
   "execution_count": 17,
   "id": "382aed80",
   "metadata": {
    "ExecuteTime": {
     "end_time": "2022-07-11T06:32:36.521331Z",
     "start_time": "2022-07-11T06:32:36.499086Z"
    }
   },
   "outputs": [
    {
     "data": {
      "text/html": [
       "<div>\n",
       "<style scoped>\n",
       "    .dataframe tbody tr th:only-of-type {\n",
       "        vertical-align: middle;\n",
       "    }\n",
       "\n",
       "    .dataframe tbody tr th {\n",
       "        vertical-align: top;\n",
       "    }\n",
       "\n",
       "    .dataframe thead th {\n",
       "        text-align: right;\n",
       "    }\n",
       "</style>\n",
       "<table border=\"1\" class=\"dataframe\">\n",
       "  <thead>\n",
       "    <tr style=\"text-align: right;\">\n",
       "      <th></th>\n",
       "      <th>name</th>\n",
       "      <th>year</th>\n",
       "    </tr>\n",
       "  </thead>\n",
       "  <tbody>\n",
       "    <tr>\n",
       "      <th>one</th>\n",
       "      <td>Steven</td>\n",
       "      <td>2013</td>\n",
       "    </tr>\n",
       "    <tr>\n",
       "      <th>two</th>\n",
       "      <td>Andy</td>\n",
       "      <td>2014</td>\n",
       "    </tr>\n",
       "    <tr>\n",
       "      <th>three</th>\n",
       "      <td>Brad</td>\n",
       "      <td>2015</td>\n",
       "    </tr>\n",
       "  </tbody>\n",
       "</table>\n",
       "</div>"
      ],
      "text/plain": [
       "         name  year\n",
       "one    Steven  2013\n",
       "two      Andy  2014\n",
       "three    Brad  2015"
      ]
     },
     "execution_count": 17,
     "metadata": {},
     "output_type": "execute_result"
    }
   ],
   "source": [
    "# df 선언\n",
    "data = {\n",
    "        'name': ['Steven', 'Andy', 'Brad', 'Kim', 'Park'],\n",
    "        'year': [2013, 2014, 2015, 2016, 2015],\n",
    "        'points': [1.5, 1.7, 3.6, 2.4, 2.9],\n",
    "        'penalty' : [0.1, 0.2, 0.3, 0.4,0.5]\n",
    "        }\n",
    "df = pd.DataFrame(data)\n",
    "df.index = ['one', 'two', 'three', 'four', 'five']\n",
    "df\n",
    "\n",
    "# df 조작\n",
    "df.drop(['four','five'], inplace=True)\n",
    "df.drop(['points', 'penalty'], axis=1, inplace=True)\n",
    "df"
   ]
  },
  {
   "cell_type": "markdown",
   "id": "563c79ca",
   "metadata": {},
   "source": [
    "## 🎯 행, 열 접근 응용"
   ]
  },
  {
   "cell_type": "markdown",
   "id": "fa198852",
   "metadata": {},
   "source": [
    "### 📑 여러 조건을 응용하여 행, 열 다루기"
   ]
  },
  {
   "cell_type": "markdown",
   "id": "0421b24b",
   "metadata": {},
   "source": [
    "👉 2014보다 큰 year 데이터만 가져오고 싶다면 어떻게 해야할까요?"
   ]
  },
  {
   "cell_type": "code",
   "execution_count": 153,
   "id": "f6f770c2",
   "metadata": {
    "ExecuteTime": {
     "end_time": "2022-06-30T05:20:32.720508Z",
     "start_time": "2022-06-30T05:20:32.691480Z"
    }
   },
   "outputs": [
    {
     "data": {
      "text/html": [
       "<div>\n",
       "<style scoped>\n",
       "    .dataframe tbody tr th:only-of-type {\n",
       "        vertical-align: middle;\n",
       "    }\n",
       "\n",
       "    .dataframe tbody tr th {\n",
       "        vertical-align: top;\n",
       "    }\n",
       "\n",
       "    .dataframe thead th {\n",
       "        text-align: right;\n",
       "    }\n",
       "</style>\n",
       "<table border=\"1\" class=\"dataframe\">\n",
       "  <thead>\n",
       "    <tr style=\"text-align: right;\">\n",
       "      <th></th>\n",
       "      <th>name</th>\n",
       "      <th>year</th>\n",
       "      <th>points</th>\n",
       "      <th>penalty</th>\n",
       "    </tr>\n",
       "  </thead>\n",
       "  <tbody>\n",
       "    <tr>\n",
       "      <th>one</th>\n",
       "      <td>Steven</td>\n",
       "      <td>2013</td>\n",
       "      <td>1.5</td>\n",
       "      <td>0.1</td>\n",
       "    </tr>\n",
       "    <tr>\n",
       "      <th>two</th>\n",
       "      <td>Andy</td>\n",
       "      <td>2014</td>\n",
       "      <td>1.7</td>\n",
       "      <td>0.2</td>\n",
       "    </tr>\n",
       "    <tr>\n",
       "      <th>three</th>\n",
       "      <td>Brad</td>\n",
       "      <td>2015</td>\n",
       "      <td>3.6</td>\n",
       "      <td>0.3</td>\n",
       "    </tr>\n",
       "    <tr>\n",
       "      <th>four</th>\n",
       "      <td>Kim</td>\n",
       "      <td>2016</td>\n",
       "      <td>2.4</td>\n",
       "      <td>0.4</td>\n",
       "    </tr>\n",
       "    <tr>\n",
       "      <th>five</th>\n",
       "      <td>Park</td>\n",
       "      <td>2015</td>\n",
       "      <td>2.9</td>\n",
       "      <td>0.5</td>\n",
       "    </tr>\n",
       "  </tbody>\n",
       "</table>\n",
       "</div>"
      ],
      "text/plain": [
       "         name  year  points  penalty\n",
       "one    Steven  2013     1.5      0.1\n",
       "two      Andy  2014     1.7      0.2\n",
       "three    Brad  2015     3.6      0.3\n",
       "four      Kim  2016     2.4      0.4\n",
       "five     Park  2015     2.9      0.5"
      ]
     },
     "execution_count": 153,
     "metadata": {},
     "output_type": "execute_result"
    }
   ],
   "source": [
    "data = {\n",
    "        'name': ['Steven', 'Andy', 'Brad', 'Kim', 'Park'],\n",
    "        'year': [2013, 2014, 2015, 2016, 2015],\n",
    "        'points': [1.5, 1.7, 3.6, 2.4, 2.9]\n",
    "        }\n",
    "df = pd.DataFrame(data)\n",
    "df['penalty'] = [0.1, 0.2, 0.3, 0.4,0.5]\n",
    "df.index = ['one', 'two', 'three', 'four', 'five']\n",
    "df"
   ]
  },
  {
   "cell_type": "code",
   "execution_count": 154,
   "id": "b021b073",
   "metadata": {
    "ExecuteTime": {
     "end_time": "2022-06-19T04:34:50.202833Z",
     "start_time": "2022-06-19T04:34:50.189268Z"
    }
   },
   "outputs": [
    {
     "data": {
      "text/plain": [
       "one      False\n",
       "two      False\n",
       "three     True\n",
       "four      True\n",
       "five      True\n",
       "Name: year, dtype: bool"
      ]
     },
     "execution_count": 154,
     "metadata": {},
     "output_type": "execute_result"
    }
   ],
   "source": [
    "# year가 2014보다 큰 boolean data\n",
    "temp = df['year'] > 2014\n",
    "temp"
   ]
  },
  {
   "cell_type": "code",
   "execution_count": 158,
   "id": "2d59fc34",
   "metadata": {
    "ExecuteTime": {
     "end_time": "2022-06-27T06:25:03.516498Z",
     "start_time": "2022-06-27T06:25:03.493268Z"
    }
   },
   "outputs": [
    {
     "data": {
      "text/html": [
       "<div>\n",
       "<style scoped>\n",
       "    .dataframe tbody tr th:only-of-type {\n",
       "        vertical-align: middle;\n",
       "    }\n",
       "\n",
       "    .dataframe tbody tr th {\n",
       "        vertical-align: top;\n",
       "    }\n",
       "\n",
       "    .dataframe thead th {\n",
       "        text-align: right;\n",
       "    }\n",
       "</style>\n",
       "<table border=\"1\" class=\"dataframe\">\n",
       "  <thead>\n",
       "    <tr style=\"text-align: right;\">\n",
       "      <th></th>\n",
       "      <th>name</th>\n",
       "      <th>year</th>\n",
       "      <th>points</th>\n",
       "      <th>penalty</th>\n",
       "    </tr>\n",
       "  </thead>\n",
       "  <tbody>\n",
       "    <tr>\n",
       "      <th>two</th>\n",
       "      <td>Andy</td>\n",
       "      <td>2014</td>\n",
       "      <td>1.7</td>\n",
       "      <td>0.2</td>\n",
       "    </tr>\n",
       "    <tr>\n",
       "      <th>three</th>\n",
       "      <td>Brad</td>\n",
       "      <td>2015</td>\n",
       "      <td>3.6</td>\n",
       "      <td>0.3</td>\n",
       "    </tr>\n",
       "    <tr>\n",
       "      <th>four</th>\n",
       "      <td>Kim</td>\n",
       "      <td>2016</td>\n",
       "      <td>2.4</td>\n",
       "      <td>0.4</td>\n",
       "    </tr>\n",
       "    <tr>\n",
       "      <th>five</th>\n",
       "      <td>Park</td>\n",
       "      <td>2015</td>\n",
       "      <td>2.9</td>\n",
       "      <td>0.5</td>\n",
       "    </tr>\n",
       "  </tbody>\n",
       "</table>\n",
       "</div>"
      ],
      "text/plain": [
       "       name  year  points  penalty\n",
       "two    Andy  2014     1.7      0.2\n",
       "three  Brad  2015     3.6      0.3\n",
       "four    Kim  2016     2.4      0.4\n",
       "five   Park  2015     2.9      0.5"
      ]
     },
     "execution_count": 158,
     "metadata": {},
     "output_type": "execute_result"
    }
   ],
   "source": [
    "# year가 2014보다 큰 모든 행의 값\n",
    "df.loc[df['year']>=2014, :]"
   ]
  },
  {
   "cell_type": "markdown",
   "id": "d8a26f31",
   "metadata": {},
   "source": [
    "<br>\n",
    "👉 name이 Andy인 행의 name, points 열을 가져오고 싶을때"
   ]
  },
  {
   "cell_type": "code",
   "execution_count": 83,
   "id": "1b5d937a",
   "metadata": {
    "ExecuteTime": {
     "end_time": "2022-06-19T04:36:32.523357Z",
     "start_time": "2022-06-19T04:36:32.507386Z"
    }
   },
   "outputs": [
    {
     "data": {
      "text/html": [
       "<div>\n",
       "<style scoped>\n",
       "    .dataframe tbody tr th:only-of-type {\n",
       "        vertical-align: middle;\n",
       "    }\n",
       "\n",
       "    .dataframe tbody tr th {\n",
       "        vertical-align: top;\n",
       "    }\n",
       "\n",
       "    .dataframe thead th {\n",
       "        text-align: right;\n",
       "    }\n",
       "</style>\n",
       "<table border=\"1\" class=\"dataframe\">\n",
       "  <thead>\n",
       "    <tr style=\"text-align: right;\">\n",
       "      <th></th>\n",
       "      <th>name</th>\n",
       "      <th>points</th>\n",
       "    </tr>\n",
       "  </thead>\n",
       "  <tbody>\n",
       "    <tr>\n",
       "      <th>two</th>\n",
       "      <td>Andy</td>\n",
       "      <td>1.7</td>\n",
       "    </tr>\n",
       "  </tbody>\n",
       "</table>\n",
       "</div>"
      ],
      "text/plain": [
       "     name  points\n",
       "two  Andy     1.7"
      ]
     },
     "execution_count": 83,
     "metadata": {},
     "output_type": "execute_result"
    }
   ],
   "source": [
    "# name이 Andy인 name,points값\n",
    "df.loc[df['name'] == 'Andy',['name','points']]"
   ]
  },
  {
   "cell_type": "code",
   "execution_count": 159,
   "id": "955863ad",
   "metadata": {
    "ExecuteTime": {
     "end_time": "2022-06-19T04:37:14.594740Z",
     "start_time": "2022-06-19T04:37:14.572605Z"
    }
   },
   "outputs": [
    {
     "data": {
      "text/html": [
       "<div>\n",
       "<style scoped>\n",
       "    .dataframe tbody tr th:only-of-type {\n",
       "        vertical-align: middle;\n",
       "    }\n",
       "\n",
       "    .dataframe tbody tr th {\n",
       "        vertical-align: top;\n",
       "    }\n",
       "\n",
       "    .dataframe thead th {\n",
       "        text-align: right;\n",
       "    }\n",
       "</style>\n",
       "<table border=\"1\" class=\"dataframe\">\n",
       "  <thead>\n",
       "    <tr style=\"text-align: right;\">\n",
       "      <th></th>\n",
       "      <th>name</th>\n",
       "      <th>year</th>\n",
       "      <th>points</th>\n",
       "      <th>penalty</th>\n",
       "    </tr>\n",
       "  </thead>\n",
       "  <tbody>\n",
       "    <tr>\n",
       "      <th>four</th>\n",
       "      <td>Kim</td>\n",
       "      <td>2016</td>\n",
       "      <td>2.4</td>\n",
       "      <td>0.4</td>\n",
       "    </tr>\n",
       "    <tr>\n",
       "      <th>five</th>\n",
       "      <td>Park</td>\n",
       "      <td>2015</td>\n",
       "      <td>2.9</td>\n",
       "      <td>0.5</td>\n",
       "    </tr>\n",
       "  </tbody>\n",
       "</table>\n",
       "</div>"
      ],
      "text/plain": [
       "      name  year  points  penalty\n",
       "four   Kim  2016     2.4      0.4\n",
       "five  Park  2015     2.9      0.5"
      ]
     },
     "execution_count": 159,
     "metadata": {},
     "output_type": "execute_result"
    }
   ],
   "source": [
    "# numpy에서와 같이 논리연산을 응용할 수 있다. \n",
    "# & and \n",
    "df\n",
    "df.loc[(df['points']>2)&(df['points']<3),:]"
   ]
  },
  {
   "cell_type": "code",
   "execution_count": 161,
   "id": "075e163a",
   "metadata": {
    "ExecuteTime": {
     "end_time": "2022-06-19T04:37:27.821538Z",
     "start_time": "2022-06-19T04:37:27.812245Z"
    },
    "scrolled": true
   },
   "outputs": [
    {
     "data": {
      "text/html": [
       "<div>\n",
       "<style scoped>\n",
       "    .dataframe tbody tr th:only-of-type {\n",
       "        vertical-align: middle;\n",
       "    }\n",
       "\n",
       "    .dataframe tbody tr th {\n",
       "        vertical-align: top;\n",
       "    }\n",
       "\n",
       "    .dataframe thead th {\n",
       "        text-align: right;\n",
       "    }\n",
       "</style>\n",
       "<table border=\"1\" class=\"dataframe\">\n",
       "  <thead>\n",
       "    <tr style=\"text-align: right;\">\n",
       "      <th></th>\n",
       "      <th>name</th>\n",
       "      <th>year</th>\n",
       "      <th>points</th>\n",
       "      <th>penalty</th>\n",
       "    </tr>\n",
       "  </thead>\n",
       "  <tbody>\n",
       "    <tr>\n",
       "      <th>one</th>\n",
       "      <td>Steven</td>\n",
       "      <td>2013</td>\n",
       "      <td>1.5</td>\n",
       "      <td>0.1</td>\n",
       "    </tr>\n",
       "    <tr>\n",
       "      <th>two</th>\n",
       "      <td>Andy</td>\n",
       "      <td>2014</td>\n",
       "      <td>1.7</td>\n",
       "      <td>0.2</td>\n",
       "    </tr>\n",
       "    <tr>\n",
       "      <th>three</th>\n",
       "      <td>Brad</td>\n",
       "      <td>2015</td>\n",
       "      <td>3.6</td>\n",
       "      <td>3.0</td>\n",
       "    </tr>\n",
       "    <tr>\n",
       "      <th>four</th>\n",
       "      <td>Kim</td>\n",
       "      <td>2016</td>\n",
       "      <td>2.4</td>\n",
       "      <td>3.0</td>\n",
       "    </tr>\n",
       "    <tr>\n",
       "      <th>five</th>\n",
       "      <td>Park</td>\n",
       "      <td>2015</td>\n",
       "      <td>2.9</td>\n",
       "      <td>3.0</td>\n",
       "    </tr>\n",
       "  </tbody>\n",
       "</table>\n",
       "</div>"
      ],
      "text/plain": [
       "         name  year  points  penalty\n",
       "one    Steven  2013     1.5      0.1\n",
       "two      Andy  2014     1.7      0.2\n",
       "three    Brad  2015     3.6      3.0\n",
       "four      Kim  2016     2.4      3.0\n",
       "five     Park  2015     2.9      3.0"
      ]
     },
     "execution_count": 161,
     "metadata": {},
     "output_type": "execute_result"
    }
   ],
   "source": [
    "# 새로운 값을 대입할 수도 있다.\n",
    "df.loc[df['points'] > 2, 'penalty'] = 3\n",
    "df"
   ]
  },
  {
   "cell_type": "markdown",
   "id": "ab2da389",
   "metadata": {},
   "source": [
    "## 🎯 FOR문 해보기\n",
    "\n",
    "- 열에 대한 반복이 필요한 경우 LIST를 순회 하듯이 CODE를 작성 해 봅시다."
   ]
  },
  {
   "cell_type": "code",
   "execution_count": 163,
   "id": "f0184c4d",
   "metadata": {
    "ExecuteTime": {
     "end_time": "2022-07-11T06:42:37.854453Z",
     "start_time": "2022-07-11T06:42:37.837892Z"
    },
    "scrolled": false
   },
   "outputs": [
    {
     "data": {
      "text/html": [
       "<div>\n",
       "<style scoped>\n",
       "    .dataframe tbody tr th:only-of-type {\n",
       "        vertical-align: middle;\n",
       "    }\n",
       "\n",
       "    .dataframe tbody tr th {\n",
       "        vertical-align: top;\n",
       "    }\n",
       "\n",
       "    .dataframe thead th {\n",
       "        text-align: right;\n",
       "    }\n",
       "</style>\n",
       "<table border=\"1\" class=\"dataframe\">\n",
       "  <thead>\n",
       "    <tr style=\"text-align: right;\">\n",
       "      <th></th>\n",
       "      <th>name</th>\n",
       "      <th>year</th>\n",
       "      <th>points</th>\n",
       "    </tr>\n",
       "  </thead>\n",
       "  <tbody>\n",
       "    <tr>\n",
       "      <th>0</th>\n",
       "      <td>Steven</td>\n",
       "      <td>2013</td>\n",
       "      <td>1.5</td>\n",
       "    </tr>\n",
       "    <tr>\n",
       "      <th>1</th>\n",
       "      <td>Andy</td>\n",
       "      <td>2014</td>\n",
       "      <td>3.7</td>\n",
       "    </tr>\n",
       "    <tr>\n",
       "      <th>2</th>\n",
       "      <td>Brad</td>\n",
       "      <td>2015</td>\n",
       "      <td>3.6</td>\n",
       "    </tr>\n",
       "    <tr>\n",
       "      <th>3</th>\n",
       "      <td>Kim</td>\n",
       "      <td>2016</td>\n",
       "      <td>2.4</td>\n",
       "    </tr>\n",
       "    <tr>\n",
       "      <th>4</th>\n",
       "      <td>Park</td>\n",
       "      <td>2015</td>\n",
       "      <td>2.9</td>\n",
       "    </tr>\n",
       "  </tbody>\n",
       "</table>\n",
       "</div>"
      ],
      "text/plain": [
       "     name  year  points\n",
       "0  Steven  2013     1.5\n",
       "1    Andy  2014     3.7\n",
       "2    Brad  2015     3.6\n",
       "3     Kim  2016     2.4\n",
       "4    Park  2015     2.9"
      ]
     },
     "execution_count": 163,
     "metadata": {},
     "output_type": "execute_result"
    }
   ],
   "source": [
    "import pandas as pd\n",
    "data = {\n",
    "        'name': ['Steven', 'Andy', 'Brad', 'Kim', 'Park'],\n",
    "        'year': [2013, 2014, 2015, 2016, 2015],\n",
    "        'points': [1.5, 3.7, 3.6, 2.4, 2.9]\n",
    "        }\n",
    "df = pd.DataFrame(data)\n",
    "df"
   ]
  },
  {
   "cell_type": "code",
   "execution_count": 20,
   "id": "c04cec48",
   "metadata": {
    "ExecuteTime": {
     "end_time": "2022-07-11T06:43:23.775535Z",
     "start_time": "2022-07-11T06:43:23.764764Z"
    }
   },
   "outputs": [
    {
     "data": {
      "text/html": [
       "<div>\n",
       "<style scoped>\n",
       "    .dataframe tbody tr th:only-of-type {\n",
       "        vertical-align: middle;\n",
       "    }\n",
       "\n",
       "    .dataframe tbody tr th {\n",
       "        vertical-align: top;\n",
       "    }\n",
       "\n",
       "    .dataframe thead th {\n",
       "        text-align: right;\n",
       "    }\n",
       "</style>\n",
       "<table border=\"1\" class=\"dataframe\">\n",
       "  <thead>\n",
       "    <tr style=\"text-align: right;\">\n",
       "      <th></th>\n",
       "      <th>name</th>\n",
       "      <th>year</th>\n",
       "      <th>points</th>\n",
       "    </tr>\n",
       "  </thead>\n",
       "  <tbody>\n",
       "    <tr>\n",
       "      <th>0</th>\n",
       "      <td>Steven</td>\n",
       "      <td>2013</td>\n",
       "      <td>1.5</td>\n",
       "    </tr>\n",
       "    <tr>\n",
       "      <th>1</th>\n",
       "      <td>Andy</td>\n",
       "      <td>2014</td>\n",
       "      <td>3.7</td>\n",
       "    </tr>\n",
       "    <tr>\n",
       "      <th>2</th>\n",
       "      <td>Brad</td>\n",
       "      <td>2015</td>\n",
       "      <td>3.6</td>\n",
       "    </tr>\n",
       "    <tr>\n",
       "      <th>3</th>\n",
       "      <td>Kim</td>\n",
       "      <td>2016</td>\n",
       "      <td>2.4</td>\n",
       "    </tr>\n",
       "    <tr>\n",
       "      <th>4</th>\n",
       "      <td>Park</td>\n",
       "      <td>2015</td>\n",
       "      <td>2.9</td>\n",
       "    </tr>\n",
       "  </tbody>\n",
       "</table>\n",
       "</div>"
      ],
      "text/plain": [
       "     name  year  points\n",
       "0  Steven  2013     1.5\n",
       "1    Andy  2014     3.7\n",
       "2    Brad  2015     3.6\n",
       "3     Kim  2016     2.4\n",
       "4    Park  2015     2.9"
      ]
     },
     "execution_count": 20,
     "metadata": {},
     "output_type": "execute_result"
    }
   ],
   "source": [
    "df[]"
   ]
  },
  {
   "cell_type": "code",
   "execution_count": 167,
   "id": "219d8986",
   "metadata": {},
   "outputs": [
    {
     "name": "stdout",
     "output_type": "stream",
     "text": [
      "Steven\n",
      "Andy\n",
      "Brad\n",
      "Kim\n",
      "Park\n"
     ]
    }
   ],
   "source": [
    "for 변수명 in df['name'] :\n",
    "    print(변수명)"
   ]
  },
  {
   "cell_type": "code",
   "execution_count": 166,
   "id": "bc7216b9",
   "metadata": {
    "ExecuteTime": {
     "end_time": "2022-07-11T06:44:35.050337Z",
     "start_time": "2022-07-11T06:44:35.033012Z"
    }
   },
   "outputs": [
    {
     "name": "stdout",
     "output_type": "stream",
     "text": [
      "Steven\n",
      "2014\n",
      "3.6\n"
     ]
    }
   ],
   "source": [
    "index = 0\n",
    "for temp in df:\n",
    "#     print('---')\n",
    "#    print(df[temp])\n",
    "#     print('---')\n",
    "    print(df[temp][index])\n",
    "    index = index+1"
   ]
  },
  {
   "cell_type": "code",
   "execution_count": 12,
   "id": "a4afbf78",
   "metadata": {
    "ExecuteTime": {
     "end_time": "2022-06-30T05:30:06.107734Z",
     "start_time": "2022-06-30T05:30:06.092350Z"
    }
   },
   "outputs": [
    {
     "name": "stdout",
     "output_type": "stream",
     "text": [
      "Steven\n",
      "Andy\n",
      "Brad\n",
      "Kim\n",
      "Park\n"
     ]
    }
   ],
   "source": [
    "for t in df['name']:\n",
    "    print(t)"
   ]
  },
  {
   "cell_type": "code",
   "execution_count": null,
   "id": "ce5e5ceb",
   "metadata": {},
   "outputs": [],
   "source": []
  },
  {
   "cell_type": "markdown",
   "id": "0ae6124a",
   "metadata": {},
   "source": [
    "### ⏺ 실습: FOR문과 조건문 맛보기\n",
    "\n",
    "- 위 생성된 데이터 프레임이 grades라는 header를 추가 합니다.\n",
    "- 그리고 해당 header의 값에는 아래의 조건이 부합하는 결과를 넣어 줍시다.\n",
    "- points 의 필드가\n",
    "    - 4.0 보다 크거나 같은 경우 A\n",
    "    - 3.0 보다 크거나 같은 경우 B\n",
    "    - 2.0 보다 크거나 같은 경우 C\n",
    "    - 그 미만 전부 F\n",
    "\n",
    "- 최종 결과는 B 이상만 출력 해 주세요!\n",
    "- hint : df의 열을 FOR문 돌면서 조건문을 이용 해 주시면 됩니다.\n",
    "\n",
    "-- 예상되는 결과 --                       "
   ]
  },
  {
   "cell_type": "code",
   "execution_count": 29,
   "id": "3b85b4ab",
   "metadata": {
    "ExecuteTime": {
     "end_time": "2022-07-11T06:53:50.663885Z",
     "start_time": "2022-07-11T06:53:50.639378Z"
    },
    "code_folding": []
   },
   "outputs": [
    {
     "data": {
      "text/html": [
       "<div>\n",
       "<style scoped>\n",
       "    .dataframe tbody tr th:only-of-type {\n",
       "        vertical-align: middle;\n",
       "    }\n",
       "\n",
       "    .dataframe tbody tr th {\n",
       "        vertical-align: top;\n",
       "    }\n",
       "\n",
       "    .dataframe thead th {\n",
       "        text-align: right;\n",
       "    }\n",
       "</style>\n",
       "<table border=\"1\" class=\"dataframe\">\n",
       "  <thead>\n",
       "    <tr style=\"text-align: right;\">\n",
       "      <th></th>\n",
       "      <th>name</th>\n",
       "      <th>year</th>\n",
       "      <th>points</th>\n",
       "    </tr>\n",
       "  </thead>\n",
       "  <tbody>\n",
       "    <tr>\n",
       "      <th>0</th>\n",
       "      <td>Steven</td>\n",
       "      <td>2013</td>\n",
       "      <td>1.5</td>\n",
       "    </tr>\n",
       "    <tr>\n",
       "      <th>1</th>\n",
       "      <td>Andy</td>\n",
       "      <td>2014</td>\n",
       "      <td>3.7</td>\n",
       "    </tr>\n",
       "    <tr>\n",
       "      <th>2</th>\n",
       "      <td>Brad</td>\n",
       "      <td>2015</td>\n",
       "      <td>3.6</td>\n",
       "    </tr>\n",
       "    <tr>\n",
       "      <th>3</th>\n",
       "      <td>Kim</td>\n",
       "      <td>2016</td>\n",
       "      <td>2.4</td>\n",
       "    </tr>\n",
       "    <tr>\n",
       "      <th>4</th>\n",
       "      <td>Park</td>\n",
       "      <td>2015</td>\n",
       "      <td>2.9</td>\n",
       "    </tr>\n",
       "  </tbody>\n",
       "</table>\n",
       "</div>"
      ],
      "text/plain": [
       "     name  year  points\n",
       "0  Steven  2013     1.5\n",
       "1    Andy  2014     3.7\n",
       "2    Brad  2015     3.6\n",
       "3     Kim  2016     2.4\n",
       "4    Park  2015     2.9"
      ]
     },
     "execution_count": 29,
     "metadata": {},
     "output_type": "execute_result"
    }
   ],
   "source": [
    "import pandas as pd\n",
    "data = {\n",
    "        'name': ['Steven', 'Andy', 'Brad', 'Kim', 'Park'],\n",
    "        'year': [2013, 2014, 2015, 2016, 2015],\n",
    "        'points': [1.5, 3.7, 3.6, 2.4, 2.9]\n",
    "        }\n",
    "df = pd.DataFrame(data)\n",
    "df"
   ]
  },
  {
   "cell_type": "code",
   "execution_count": 18,
   "id": "5de77b09",
   "metadata": {
    "ExecuteTime": {
     "end_time": "2022-06-26T05:49:03.716254Z",
     "start_time": "2022-06-26T05:49:03.710182Z"
    },
    "code_folding": []
   },
   "outputs": [
    {
     "data": {
      "text/html": [
       "<div>\n",
       "<style scoped>\n",
       "    .dataframe tbody tr th:only-of-type {\n",
       "        vertical-align: middle;\n",
       "    }\n",
       "\n",
       "    .dataframe tbody tr th {\n",
       "        vertical-align: top;\n",
       "    }\n",
       "\n",
       "    .dataframe thead th {\n",
       "        text-align: right;\n",
       "    }\n",
       "</style>\n",
       "<table border=\"1\" class=\"dataframe\">\n",
       "  <thead>\n",
       "    <tr style=\"text-align: right;\">\n",
       "      <th></th>\n",
       "      <th>name</th>\n",
       "      <th>year</th>\n",
       "      <th>points</th>\n",
       "    </tr>\n",
       "  </thead>\n",
       "  <tbody>\n",
       "    <tr>\n",
       "      <th>0</th>\n",
       "      <td>Steven</td>\n",
       "      <td>2013</td>\n",
       "      <td>1.5</td>\n",
       "    </tr>\n",
       "    <tr>\n",
       "      <th>1</th>\n",
       "      <td>Andy</td>\n",
       "      <td>2014</td>\n",
       "      <td>1.7</td>\n",
       "    </tr>\n",
       "    <tr>\n",
       "      <th>2</th>\n",
       "      <td>Brad</td>\n",
       "      <td>2015</td>\n",
       "      <td>3.6</td>\n",
       "    </tr>\n",
       "    <tr>\n",
       "      <th>3</th>\n",
       "      <td>Kim</td>\n",
       "      <td>2016</td>\n",
       "      <td>2.4</td>\n",
       "    </tr>\n",
       "    <tr>\n",
       "      <th>4</th>\n",
       "      <td>Park</td>\n",
       "      <td>2015</td>\n",
       "      <td>2.9</td>\n",
       "    </tr>\n",
       "  </tbody>\n",
       "</table>\n",
       "</div>"
      ],
      "text/plain": [
       "     name  year  points\n",
       "0  Steven  2013     1.5\n",
       "1    Andy  2014     1.7\n",
       "2    Brad  2015     3.6\n",
       "3     Kim  2016     2.4\n",
       "4    Park  2015     2.9"
      ]
     },
     "execution_count": 18,
     "metadata": {},
     "output_type": "execute_result"
    }
   ],
   "source": [
    "#\n",
    "data = {\n",
    "        'name': ['Steven', 'Andy', 'Brad', 'Kim', 'Park'],\n",
    "        'year': [2013, 2014, 2015, 2016, 2015],\n",
    "        'points': [1.5, 1.7, 3.6, 2.4, 2.9]\n",
    "        }\n",
    "df = pd.DataFrame(data)\n",
    "\n",
    "# grades = []\n",
    "# for xx in df['points']:\n",
    "#     print(xx)\n",
    "#     if xx >= 4.0: grades.append('A')\n",
    "#     elif 조건2: grades.append(xx)\n",
    "#     else 조건3: \n",
    "df"
   ]
  },
  {
   "cell_type": "code",
   "execution_count": 30,
   "id": "a4d3b6ee",
   "metadata": {
    "ExecuteTime": {
     "end_time": "2022-07-11T06:53:29.649944Z",
     "start_time": "2022-07-11T06:53:29.626764Z"
    },
    "code_folding": []
   },
   "outputs": [
    {
     "name": "stdout",
     "output_type": "stream",
     "text": [
      "1.5\n",
      "3.7\n",
      "3.6\n",
      "2.4\n",
      "2.9\n",
      "['F', 'B', 'B', 'C', 'C']\n"
     ]
    },
    {
     "data": {
      "text/html": [
       "<div>\n",
       "<style scoped>\n",
       "    .dataframe tbody tr th:only-of-type {\n",
       "        vertical-align: middle;\n",
       "    }\n",
       "\n",
       "    .dataframe tbody tr th {\n",
       "        vertical-align: top;\n",
       "    }\n",
       "\n",
       "    .dataframe thead th {\n",
       "        text-align: right;\n",
       "    }\n",
       "</style>\n",
       "<table border=\"1\" class=\"dataframe\">\n",
       "  <thead>\n",
       "    <tr style=\"text-align: right;\">\n",
       "      <th></th>\n",
       "      <th>name</th>\n",
       "      <th>year</th>\n",
       "      <th>points</th>\n",
       "      <th>grade</th>\n",
       "    </tr>\n",
       "  </thead>\n",
       "  <tbody>\n",
       "    <tr>\n",
       "      <th>0</th>\n",
       "      <td>Steven</td>\n",
       "      <td>2013</td>\n",
       "      <td>1.5</td>\n",
       "      <td>F</td>\n",
       "    </tr>\n",
       "    <tr>\n",
       "      <th>1</th>\n",
       "      <td>Andy</td>\n",
       "      <td>2014</td>\n",
       "      <td>3.7</td>\n",
       "      <td>B</td>\n",
       "    </tr>\n",
       "    <tr>\n",
       "      <th>2</th>\n",
       "      <td>Brad</td>\n",
       "      <td>2015</td>\n",
       "      <td>3.6</td>\n",
       "      <td>B</td>\n",
       "    </tr>\n",
       "    <tr>\n",
       "      <th>3</th>\n",
       "      <td>Kim</td>\n",
       "      <td>2016</td>\n",
       "      <td>2.4</td>\n",
       "      <td>C</td>\n",
       "    </tr>\n",
       "    <tr>\n",
       "      <th>4</th>\n",
       "      <td>Park</td>\n",
       "      <td>2015</td>\n",
       "      <td>2.9</td>\n",
       "      <td>C</td>\n",
       "    </tr>\n",
       "  </tbody>\n",
       "</table>\n",
       "</div>"
      ],
      "text/plain": [
       "     name  year  points grade\n",
       "0  Steven  2013     1.5     F\n",
       "1    Andy  2014     3.7     B\n",
       "2    Brad  2015     3.6     B\n",
       "3     Kim  2016     2.4     C\n",
       "4    Park  2015     2.9     C"
      ]
     },
     "execution_count": 30,
     "metadata": {},
     "output_type": "execute_result"
    }
   ],
   "source": [
    "# for문과 조건문을 이용하여 column 생성하기\n",
    "grades = list()\n",
    "for row in df['points']:\n",
    "    print(row)\n",
    "    if row >= 4.0:\n",
    "        grades.append('A')\n",
    "    elif row >= 3.0:\n",
    "        grades.append('B')\n",
    "    elif row >= 2.0:\n",
    "        grades.append('C')\n",
    "    else:\n",
    "        grades.append('F')\n",
    "        \n",
    "print(grades)\n",
    "df['grade'] = grades\n",
    "df[df['points'] >= 3.0]\n",
    "df\n",
    "# df[df['grade'] == 'B']"
   ]
  },
  {
   "cell_type": "code",
   "execution_count": 171,
   "id": "16071bae",
   "metadata": {
    "ExecuteTime": {
     "end_time": "2022-07-11T07:24:24.110015Z",
     "start_time": "2022-07-11T07:24:24.095695Z"
    },
    "code_folding": []
   },
   "outputs": [
    {
     "name": "stdout",
     "output_type": "stream",
     "text": [
      "     name  year  points grade\n",
      "0  Steven  2013     1.5     F\n",
      "1    Andy  2014     3.7     B\n",
      "2    Brad  2015     3.6     B\n",
      "3     Kim  2016     2.4     C\n",
      "4    Park  2015     2.9     C\n"
     ]
    },
    {
     "data": {
      "text/html": [
       "<div>\n",
       "<style scoped>\n",
       "    .dataframe tbody tr th:only-of-type {\n",
       "        vertical-align: middle;\n",
       "    }\n",
       "\n",
       "    .dataframe tbody tr th {\n",
       "        vertical-align: top;\n",
       "    }\n",
       "\n",
       "    .dataframe thead th {\n",
       "        text-align: right;\n",
       "    }\n",
       "</style>\n",
       "<table border=\"1\" class=\"dataframe\">\n",
       "  <thead>\n",
       "    <tr style=\"text-align: right;\">\n",
       "      <th></th>\n",
       "      <th>name</th>\n",
       "      <th>year</th>\n",
       "      <th>points</th>\n",
       "      <th>grade</th>\n",
       "    </tr>\n",
       "  </thead>\n",
       "  <tbody>\n",
       "    <tr>\n",
       "      <th>1</th>\n",
       "      <td>Andy</td>\n",
       "      <td>2014</td>\n",
       "      <td>3.7</td>\n",
       "      <td>B</td>\n",
       "    </tr>\n",
       "    <tr>\n",
       "      <th>2</th>\n",
       "      <td>Brad</td>\n",
       "      <td>2015</td>\n",
       "      <td>3.6</td>\n",
       "      <td>B</td>\n",
       "    </tr>\n",
       "  </tbody>\n",
       "</table>\n",
       "</div>"
      ],
      "text/plain": [
       "   name  year  points grade\n",
       "1  Andy  2014     3.7     B\n",
       "2  Brad  2015     3.6     B"
      ]
     },
     "execution_count": 171,
     "metadata": {},
     "output_type": "execute_result"
    }
   ],
   "source": [
    "df['grade'] = [\n",
    "    'A' if pts >= 4 else\n",
    "    'B' if pts >= 3 else\n",
    "    'C' if pts >= 2 else\n",
    "    'F' for pts in df['points']]\n",
    "\n",
    "print(df)\n",
    "df[df['points'] >= 3.0]"
   ]
  },
  {
   "cell_type": "markdown",
   "id": "d8f4dc6f",
   "metadata": {},
   "source": [
    "### 📑 apply function 사용하기\n",
    "DF에 함수를 적용할 수 있는 명령어"
   ]
  },
  {
   "cell_type": "code",
   "execution_count": null,
   "id": "50887bf2",
   "metadata": {},
   "outputs": [],
   "source": [
    "for xx in df['key']:\n",
    "    xx"
   ]
  },
  {
   "cell_type": "code",
   "execution_count": 33,
   "id": "adbaff60",
   "metadata": {
    "ExecuteTime": {
     "end_time": "2022-07-11T07:24:27.363008Z",
     "start_time": "2022-07-11T07:24:27.346360Z"
    }
   },
   "outputs": [],
   "source": [
    "def pass_or_fail(row):\n",
    "    if row != \"F\":\n",
    "        return 'Pass'\n",
    "    else:\n",
    "        return 'Fail'"
   ]
  },
  {
   "cell_type": "code",
   "execution_count": 12,
   "id": "45aa9608",
   "metadata": {},
   "outputs": [],
   "source": []
  },
  {
   "cell_type": "code",
   "execution_count": 34,
   "id": "0ab02360",
   "metadata": {
    "ExecuteTime": {
     "end_time": "2022-07-11T07:24:43.341574Z",
     "start_time": "2022-07-11T07:24:43.322080Z"
    }
   },
   "outputs": [
    {
     "data": {
      "text/html": [
       "<div>\n",
       "<style scoped>\n",
       "    .dataframe tbody tr th:only-of-type {\n",
       "        vertical-align: middle;\n",
       "    }\n",
       "\n",
       "    .dataframe tbody tr th {\n",
       "        vertical-align: top;\n",
       "    }\n",
       "\n",
       "    .dataframe thead th {\n",
       "        text-align: right;\n",
       "    }\n",
       "</style>\n",
       "<table border=\"1\" class=\"dataframe\">\n",
       "  <thead>\n",
       "    <tr style=\"text-align: right;\">\n",
       "      <th></th>\n",
       "      <th>name</th>\n",
       "      <th>year</th>\n",
       "      <th>points</th>\n",
       "      <th>grade</th>\n",
       "      <th>결과</th>\n",
       "    </tr>\n",
       "  </thead>\n",
       "  <tbody>\n",
       "    <tr>\n",
       "      <th>0</th>\n",
       "      <td>Steven</td>\n",
       "      <td>2013</td>\n",
       "      <td>1.5</td>\n",
       "      <td>F</td>\n",
       "      <td>Fail</td>\n",
       "    </tr>\n",
       "    <tr>\n",
       "      <th>1</th>\n",
       "      <td>Andy</td>\n",
       "      <td>2014</td>\n",
       "      <td>3.7</td>\n",
       "      <td>B</td>\n",
       "      <td>Pass</td>\n",
       "    </tr>\n",
       "    <tr>\n",
       "      <th>2</th>\n",
       "      <td>Brad</td>\n",
       "      <td>2015</td>\n",
       "      <td>3.6</td>\n",
       "      <td>B</td>\n",
       "      <td>Pass</td>\n",
       "    </tr>\n",
       "    <tr>\n",
       "      <th>3</th>\n",
       "      <td>Kim</td>\n",
       "      <td>2016</td>\n",
       "      <td>2.4</td>\n",
       "      <td>C</td>\n",
       "      <td>Pass</td>\n",
       "    </tr>\n",
       "    <tr>\n",
       "      <th>4</th>\n",
       "      <td>Park</td>\n",
       "      <td>2015</td>\n",
       "      <td>2.9</td>\n",
       "      <td>C</td>\n",
       "      <td>Pass</td>\n",
       "    </tr>\n",
       "  </tbody>\n",
       "</table>\n",
       "</div>"
      ],
      "text/plain": [
       "     name  year  points grade    결과\n",
       "0  Steven  2013     1.5     F  Fail\n",
       "1    Andy  2014     3.7     B  Pass\n",
       "2    Brad  2015     3.6     B  Pass\n",
       "3     Kim  2016     2.4     C  Pass\n",
       "4    Park  2015     2.9     C  Pass"
      ]
     },
     "execution_count": 34,
     "metadata": {},
     "output_type": "execute_result"
    }
   ],
   "source": [
    "\n",
    "df['결과'] = df.grade.apply(pass_or_fail)\n",
    "df"
   ]
  },
  {
   "cell_type": "markdown",
   "id": "e8dd3c94",
   "metadata": {},
   "source": [
    "### ⏺ 실습: apply 함수 심층 활용"
   ]
  },
  {
   "cell_type": "code",
   "execution_count": 35,
   "id": "0bc35aa8",
   "metadata": {
    "ExecuteTime": {
     "end_time": "2022-06-27T06:49:57.551918Z",
     "start_time": "2022-06-27T06:49:57.528832Z"
    },
    "code_folding": []
   },
   "outputs": [
    {
     "data": {
      "text/html": [
       "<div>\n",
       "<style scoped>\n",
       "    .dataframe tbody tr th:only-of-type {\n",
       "        vertical-align: middle;\n",
       "    }\n",
       "\n",
       "    .dataframe tbody tr th {\n",
       "        vertical-align: top;\n",
       "    }\n",
       "\n",
       "    .dataframe thead th {\n",
       "        text-align: right;\n",
       "    }\n",
       "</style>\n",
       "<table border=\"1\" class=\"dataframe\">\n",
       "  <thead>\n",
       "    <tr style=\"text-align: right;\">\n",
       "      <th></th>\n",
       "      <th>year</th>\n",
       "    </tr>\n",
       "  </thead>\n",
       "  <tbody>\n",
       "    <tr>\n",
       "      <th>0</th>\n",
       "      <td>1998-01-10</td>\n",
       "    </tr>\n",
       "    <tr>\n",
       "      <th>1</th>\n",
       "      <td>2000-12-12</td>\n",
       "    </tr>\n",
       "    <tr>\n",
       "      <th>2</th>\n",
       "      <td>2002-08-06</td>\n",
       "    </tr>\n",
       "    <tr>\n",
       "      <th>3</th>\n",
       "      <td>2003-07-08</td>\n",
       "    </tr>\n",
       "  </tbody>\n",
       "</table>\n",
       "</div>"
      ],
      "text/plain": [
       "         year\n",
       "0  1998-01-10\n",
       "1  2000-12-12\n",
       "2  2002-08-06\n",
       "3  2003-07-08"
      ]
     },
     "execution_count": 35,
     "metadata": {},
     "output_type": "execute_result"
    }
   ],
   "source": [
    "import pandas as pd\n",
    "data = {\n",
    "            'year' : ['1998-01-10', '2000-12-12', '2002-08-06', '2003-07-08']\n",
    "}\n",
    "\n",
    "df = pd.DataFrame(data)\n",
    "df\n",
    "\n",
    "#텍스트.split('-') 👉 문자열 '-'기준으로 텍스트 잘라준다."
   ]
  },
  {
   "cell_type": "markdown",
   "id": "64684493",
   "metadata": {},
   "source": [
    "👉 이와 같은 형태의 년(yyyy)-월(mm)-일(dd) 형식으로 이루어진 데이터프레임을 년도(yyyy)만 떼서 보려면 어떻게 해야할까요?"
   ]
  },
  {
   "cell_type": "code",
   "execution_count": 39,
   "id": "50c818cd",
   "metadata": {},
   "outputs": [
    {
     "data": {
      "text/plain": [
       "'1998'"
      ]
     },
     "execution_count": 39,
     "metadata": {},
     "output_type": "execute_result"
    }
   ],
   "source": [
    "splitdate = '1998-01-10'\n",
    "a = splitdate.split('-')\n",
    "a[0]"
   ]
  },
  {
   "cell_type": "code",
   "execution_count": 36,
   "id": "639ae6d4",
   "metadata": {
    "code_folding": []
   },
   "outputs": [],
   "source": [
    "#함수 선언\n",
    "def split_year(value):\n",
    "    return value.split('-')[0] # [1998, 01, 10] "
   ]
  },
  {
   "cell_type": "code",
   "execution_count": 37,
   "id": "3aea6f6f",
   "metadata": {
    "code_folding": []
   },
   "outputs": [
    {
     "data": {
      "text/html": [
       "<div>\n",
       "<style scoped>\n",
       "    .dataframe tbody tr th:only-of-type {\n",
       "        vertical-align: middle;\n",
       "    }\n",
       "\n",
       "    .dataframe tbody tr th {\n",
       "        vertical-align: top;\n",
       "    }\n",
       "\n",
       "    .dataframe thead th {\n",
       "        text-align: right;\n",
       "    }\n",
       "</style>\n",
       "<table border=\"1\" class=\"dataframe\">\n",
       "  <thead>\n",
       "    <tr style=\"text-align: right;\">\n",
       "      <th></th>\n",
       "      <th>year</th>\n",
       "      <th>only_year</th>\n",
       "    </tr>\n",
       "  </thead>\n",
       "  <tbody>\n",
       "    <tr>\n",
       "      <th>0</th>\n",
       "      <td>1998-01-10</td>\n",
       "      <td>1998</td>\n",
       "    </tr>\n",
       "    <tr>\n",
       "      <th>1</th>\n",
       "      <td>2000-12-12</td>\n",
       "      <td>2000</td>\n",
       "    </tr>\n",
       "    <tr>\n",
       "      <th>2</th>\n",
       "      <td>2002-08-06</td>\n",
       "      <td>2002</td>\n",
       "    </tr>\n",
       "    <tr>\n",
       "      <th>3</th>\n",
       "      <td>2003-07-08</td>\n",
       "      <td>2003</td>\n",
       "    </tr>\n",
       "  </tbody>\n",
       "</table>\n",
       "</div>"
      ],
      "text/plain": [
       "         year only_year\n",
       "0  1998-01-10      1998\n",
       "1  2000-12-12      2000\n",
       "2  2002-08-06      2002\n",
       "3  2003-07-08      2003"
      ]
     },
     "execution_count": 37,
     "metadata": {},
     "output_type": "execute_result"
    }
   ],
   "source": [
    "#apply 적용해서 새로운 열 만들기\n",
    "df['only_year'] = df['year'].apply(split_year)\n",
    "df"
   ]
  },
  {
   "cell_type": "markdown",
   "id": "f9525993",
   "metadata": {},
   "source": [
    "👉 동일하게 apply와 함수를 적용하여 only_year 열을 현재 년도에서 빼주어 age 열을 구해봅시다."
   ]
  },
  {
   "cell_type": "code",
   "execution_count": 11,
   "id": "1704790f",
   "metadata": {
    "code_folding": []
   },
   "outputs": [],
   "source": [
    "#\n",
    "def getAge(value) : \n",
    "    return 2022 - int(value)"
   ]
  },
  {
   "cell_type": "code",
   "execution_count": 12,
   "id": "b950d25d",
   "metadata": {
    "code_folding": []
   },
   "outputs": [
    {
     "data": {
      "text/html": [
       "<div>\n",
       "<style scoped>\n",
       "    .dataframe tbody tr th:only-of-type {\n",
       "        vertical-align: middle;\n",
       "    }\n",
       "\n",
       "    .dataframe tbody tr th {\n",
       "        vertical-align: top;\n",
       "    }\n",
       "\n",
       "    .dataframe thead th {\n",
       "        text-align: right;\n",
       "    }\n",
       "</style>\n",
       "<table border=\"1\" class=\"dataframe\">\n",
       "  <thead>\n",
       "    <tr style=\"text-align: right;\">\n",
       "      <th></th>\n",
       "      <th>year</th>\n",
       "      <th>only_year</th>\n",
       "      <th>age</th>\n",
       "    </tr>\n",
       "  </thead>\n",
       "  <tbody>\n",
       "    <tr>\n",
       "      <th>0</th>\n",
       "      <td>1998-01-10</td>\n",
       "      <td>1998</td>\n",
       "      <td>24</td>\n",
       "    </tr>\n",
       "    <tr>\n",
       "      <th>1</th>\n",
       "      <td>2000-12-12</td>\n",
       "      <td>2000</td>\n",
       "      <td>22</td>\n",
       "    </tr>\n",
       "    <tr>\n",
       "      <th>2</th>\n",
       "      <td>2002-08-06</td>\n",
       "      <td>2002</td>\n",
       "      <td>20</td>\n",
       "    </tr>\n",
       "    <tr>\n",
       "      <th>3</th>\n",
       "      <td>2003-07-08</td>\n",
       "      <td>2003</td>\n",
       "      <td>19</td>\n",
       "    </tr>\n",
       "  </tbody>\n",
       "</table>\n",
       "</div>"
      ],
      "text/plain": [
       "         year only_year  age\n",
       "0  1998-01-10      1998   24\n",
       "1  2000-12-12      2000   22\n",
       "2  2002-08-06      2002   20\n",
       "3  2003-07-08      2003   19"
      ]
     },
     "execution_count": 12,
     "metadata": {},
     "output_type": "execute_result"
    }
   ],
   "source": [
    "#\n",
    "df['age'] = df['only_year'].apply(getAge)\n",
    "df"
   ]
  },
  {
   "cell_type": "markdown",
   "id": "1f43e876",
   "metadata": {},
   "source": [
    "---\n",
    "# ✅ 데이터프레임 병합 (concat, append) "
   ]
  },
  {
   "cell_type": "markdown",
   "id": "aa52fca0",
   "metadata": {},
   "source": [
    "## 🎯 행 방향 병합"
   ]
  },
  {
   "cell_type": "code",
   "execution_count": 40,
   "id": "81b9296c",
   "metadata": {
    "ExecuteTime": {
     "end_time": "2022-06-27T07:00:17.215020Z",
     "start_time": "2022-06-27T07:00:17.190100Z"
    }
   },
   "outputs": [
    {
     "name": "stdout",
     "output_type": "stream",
     "text": [
      "     name department\n",
      "0  Steven         IT\n",
      "1    Andy         QA\n",
      "2    Brad         IT\n",
      "   name department\n",
      "0  Kate        PCS\n",
      "1  Park        PCS\n",
      "2  Kale         HR\n"
     ]
    }
   ],
   "source": [
    "import pandas as pd\n",
    "\n",
    "data1 = {\n",
    "        'name': ['Steven', 'Andy', 'Brad'],\n",
    "        'department': ['IT', 'QA', 'IT']\n",
    "        }\n",
    "\n",
    "data2 = {\n",
    "        'name': ['Kate', 'Park', 'Kale'],\n",
    "        'department': ['PCS', 'PCS', 'HR']\n",
    "    \n",
    "}\n",
    "df1 = pd.DataFrame(data1)\n",
    "print(df1)\n",
    "\n",
    "df2 = pd.DataFrame(data2)\n",
    "print(df2)"
   ]
  },
  {
   "cell_type": "markdown",
   "id": "2e672f9d",
   "metadata": {},
   "source": [
    "👉 이 두개의 데이터 프레임을 하나로 합치려면 어떻게 해야할까요?"
   ]
  },
  {
   "cell_type": "code",
   "execution_count": 42,
   "id": "46a2152d",
   "metadata": {
    "ExecuteTime": {
     "end_time": "2022-06-27T07:00:41.941679Z",
     "start_time": "2022-06-27T07:00:41.920380Z"
    }
   },
   "outputs": [
    {
     "data": {
      "text/html": [
       "<div>\n",
       "<style scoped>\n",
       "    .dataframe tbody tr th:only-of-type {\n",
       "        vertical-align: middle;\n",
       "    }\n",
       "\n",
       "    .dataframe tbody tr th {\n",
       "        vertical-align: top;\n",
       "    }\n",
       "\n",
       "    .dataframe thead th {\n",
       "        text-align: right;\n",
       "    }\n",
       "</style>\n",
       "<table border=\"1\" class=\"dataframe\">\n",
       "  <thead>\n",
       "    <tr style=\"text-align: right;\">\n",
       "      <th></th>\n",
       "      <th>name</th>\n",
       "      <th>department</th>\n",
       "    </tr>\n",
       "  </thead>\n",
       "  <tbody>\n",
       "    <tr>\n",
       "      <th>0</th>\n",
       "      <td>Steven</td>\n",
       "      <td>IT</td>\n",
       "    </tr>\n",
       "    <tr>\n",
       "      <th>1</th>\n",
       "      <td>Andy</td>\n",
       "      <td>QA</td>\n",
       "    </tr>\n",
       "    <tr>\n",
       "      <th>2</th>\n",
       "      <td>Brad</td>\n",
       "      <td>IT</td>\n",
       "    </tr>\n",
       "    <tr>\n",
       "      <th>0</th>\n",
       "      <td>Kate</td>\n",
       "      <td>PCS</td>\n",
       "    </tr>\n",
       "    <tr>\n",
       "      <th>1</th>\n",
       "      <td>Park</td>\n",
       "      <td>PCS</td>\n",
       "    </tr>\n",
       "    <tr>\n",
       "      <th>2</th>\n",
       "      <td>Kale</td>\n",
       "      <td>HR</td>\n",
       "    </tr>\n",
       "    <tr>\n",
       "      <th>0</th>\n",
       "      <td>Steven</td>\n",
       "      <td>IT</td>\n",
       "    </tr>\n",
       "    <tr>\n",
       "      <th>1</th>\n",
       "      <td>Andy</td>\n",
       "      <td>QA</td>\n",
       "    </tr>\n",
       "    <tr>\n",
       "      <th>2</th>\n",
       "      <td>Brad</td>\n",
       "      <td>IT</td>\n",
       "    </tr>\n",
       "  </tbody>\n",
       "</table>\n",
       "</div>"
      ],
      "text/plain": [
       "     name department\n",
       "0  Steven         IT\n",
       "1    Andy         QA\n",
       "2    Brad         IT\n",
       "0    Kate        PCS\n",
       "1    Park        PCS\n",
       "2    Kale         HR\n",
       "0  Steven         IT\n",
       "1    Andy         QA\n",
       "2    Brad         IT"
      ]
     },
     "execution_count": 42,
     "metadata": {},
     "output_type": "execute_result"
    }
   ],
   "source": [
    "#concat 행으로 붙이기 = 위/아래로 붙이기\n",
    "result_df = pd.concat([df1, df2, df1])\n",
    "result_df"
   ]
  },
  {
   "cell_type": "markdown",
   "id": "aa447359",
   "metadata": {},
   "source": [
    "👉 index 0 1 2 0 1 2가 아니라 0 1 2 3 4 5로 만드는 방법"
   ]
  },
  {
   "cell_type": "code",
   "execution_count": 156,
   "id": "d0bf14c5",
   "metadata": {},
   "outputs": [
    {
     "data": {
      "text/html": [
       "<div>\n",
       "<style scoped>\n",
       "    .dataframe tbody tr th:only-of-type {\n",
       "        vertical-align: middle;\n",
       "    }\n",
       "\n",
       "    .dataframe tbody tr th {\n",
       "        vertical-align: top;\n",
       "    }\n",
       "\n",
       "    .dataframe thead th {\n",
       "        text-align: right;\n",
       "    }\n",
       "</style>\n",
       "<table border=\"1\" class=\"dataframe\">\n",
       "  <thead>\n",
       "    <tr style=\"text-align: right;\">\n",
       "      <th></th>\n",
       "      <th>name</th>\n",
       "      <th>department</th>\n",
       "    </tr>\n",
       "  </thead>\n",
       "  <tbody>\n",
       "    <tr>\n",
       "      <th>0</th>\n",
       "      <td>Steven</td>\n",
       "      <td>IT</td>\n",
       "    </tr>\n",
       "    <tr>\n",
       "      <th>1</th>\n",
       "      <td>Andy</td>\n",
       "      <td>QA</td>\n",
       "    </tr>\n",
       "    <tr>\n",
       "      <th>2</th>\n",
       "      <td>Brad</td>\n",
       "      <td>IT</td>\n",
       "    </tr>\n",
       "    <tr>\n",
       "      <th>3</th>\n",
       "      <td>Kate</td>\n",
       "      <td>PCS</td>\n",
       "    </tr>\n",
       "    <tr>\n",
       "      <th>4</th>\n",
       "      <td>Park</td>\n",
       "      <td>PCS</td>\n",
       "    </tr>\n",
       "    <tr>\n",
       "      <th>5</th>\n",
       "      <td>Kale</td>\n",
       "      <td>HR</td>\n",
       "    </tr>\n",
       "  </tbody>\n",
       "</table>\n",
       "</div>"
      ],
      "text/plain": [
       "     name department\n",
       "0  Steven         IT\n",
       "1    Andy         QA\n",
       "2    Brad         IT\n",
       "3    Kate        PCS\n",
       "4    Park        PCS\n",
       "5    Kale         HR"
      ]
     },
     "execution_count": 156,
     "metadata": {},
     "output_type": "execute_result"
    }
   ],
   "source": [
    "#index 정렬\n",
    "result_df = pd.concat([df1, df2], ignore_index=True)\n",
    "result_df"
   ]
  },
  {
   "cell_type": "markdown",
   "id": "6ddc4b26",
   "metadata": {},
   "source": [
    "👉 concat과 동일한 기능을 하는 append"
   ]
  },
  {
   "cell_type": "code",
   "execution_count": 158,
   "id": "e7690e22",
   "metadata": {},
   "outputs": [
    {
     "data": {
      "text/html": [
       "<div>\n",
       "<style scoped>\n",
       "    .dataframe tbody tr th:only-of-type {\n",
       "        vertical-align: middle;\n",
       "    }\n",
       "\n",
       "    .dataframe tbody tr th {\n",
       "        vertical-align: top;\n",
       "    }\n",
       "\n",
       "    .dataframe thead th {\n",
       "        text-align: right;\n",
       "    }\n",
       "</style>\n",
       "<table border=\"1\" class=\"dataframe\">\n",
       "  <thead>\n",
       "    <tr style=\"text-align: right;\">\n",
       "      <th></th>\n",
       "      <th>name</th>\n",
       "      <th>department</th>\n",
       "    </tr>\n",
       "  </thead>\n",
       "  <tbody>\n",
       "    <tr>\n",
       "      <th>0</th>\n",
       "      <td>Steven</td>\n",
       "      <td>IT</td>\n",
       "    </tr>\n",
       "    <tr>\n",
       "      <th>1</th>\n",
       "      <td>Andy</td>\n",
       "      <td>QA</td>\n",
       "    </tr>\n",
       "    <tr>\n",
       "      <th>2</th>\n",
       "      <td>Brad</td>\n",
       "      <td>IT</td>\n",
       "    </tr>\n",
       "    <tr>\n",
       "      <th>3</th>\n",
       "      <td>Kate</td>\n",
       "      <td>PCS</td>\n",
       "    </tr>\n",
       "    <tr>\n",
       "      <th>4</th>\n",
       "      <td>Park</td>\n",
       "      <td>PCS</td>\n",
       "    </tr>\n",
       "    <tr>\n",
       "      <th>5</th>\n",
       "      <td>Kale</td>\n",
       "      <td>HR</td>\n",
       "    </tr>\n",
       "  </tbody>\n",
       "</table>\n",
       "</div>"
      ],
      "text/plain": [
       "     name department\n",
       "0  Steven         IT\n",
       "1    Andy         QA\n",
       "2    Brad         IT\n",
       "3    Kate        PCS\n",
       "4    Park        PCS\n",
       "5    Kale         HR"
      ]
     },
     "execution_count": 158,
     "metadata": {},
     "output_type": "execute_result"
    }
   ],
   "source": [
    "#append\n",
    "result_df = df1.append(df2, ignore_index=True)\n",
    "result_df"
   ]
  },
  {
   "cell_type": "markdown",
   "id": "2593972c",
   "metadata": {},
   "source": [
    "## 🎯 열 방향 병합"
   ]
  },
  {
   "cell_type": "code",
   "execution_count": 43,
   "id": "b92dd558",
   "metadata": {
    "ExecuteTime": {
     "end_time": "2022-06-26T05:56:14.698495Z",
     "start_time": "2022-06-26T05:56:14.674795Z"
    },
    "scrolled": true
   },
   "outputs": [
    {
     "name": "stdout",
     "output_type": "stream",
     "text": [
      "     name department\n",
      "0  Steven         IT\n",
      "1    Andy         QA\n",
      "2    Brad         IT\n",
      "   age     sex\n",
      "0   40    male\n",
      "1   25  female\n",
      "2   30    male\n"
     ]
    }
   ],
   "source": [
    "import pandas as pd\n",
    "\n",
    "data1 = {\n",
    "        'name': ['Steven', 'Andy', 'Brad'],\n",
    "        'department': ['IT', 'QA', 'IT']\n",
    "        }\n",
    "\n",
    "data2 = {\n",
    "        'age': [40, 25, 30],\n",
    "        'sex': ['male', 'female', 'male']\n",
    "    \n",
    "}\n",
    "df1 = pd.DataFrame(data1)\n",
    "print(df1)\n",
    "\n",
    "df2 = pd.DataFrame(data2)\n",
    "print(df2)"
   ]
  },
  {
   "cell_type": "markdown",
   "id": "6ba66698",
   "metadata": {},
   "source": [
    "👉 이전 예제는 행방향으로 붙였지만 이번에는 열방향으로 붙이려고 한다 어떻게 해야할까?"
   ]
  },
  {
   "cell_type": "code",
   "execution_count": 44,
   "id": "546bd54c",
   "metadata": {
    "ExecuteTime": {
     "end_time": "2022-06-26T06:01:22.423609Z",
     "start_time": "2022-06-26T06:01:22.412104Z"
    }
   },
   "outputs": [
    {
     "data": {
      "text/html": [
       "<div>\n",
       "<style scoped>\n",
       "    .dataframe tbody tr th:only-of-type {\n",
       "        vertical-align: middle;\n",
       "    }\n",
       "\n",
       "    .dataframe tbody tr th {\n",
       "        vertical-align: top;\n",
       "    }\n",
       "\n",
       "    .dataframe thead th {\n",
       "        text-align: right;\n",
       "    }\n",
       "</style>\n",
       "<table border=\"1\" class=\"dataframe\">\n",
       "  <thead>\n",
       "    <tr style=\"text-align: right;\">\n",
       "      <th></th>\n",
       "      <th>0</th>\n",
       "      <th>1</th>\n",
       "      <th>2</th>\n",
       "      <th>3</th>\n",
       "    </tr>\n",
       "  </thead>\n",
       "  <tbody>\n",
       "    <tr>\n",
       "      <th>0</th>\n",
       "      <td>Steven</td>\n",
       "      <td>IT</td>\n",
       "      <td>40</td>\n",
       "      <td>male</td>\n",
       "    </tr>\n",
       "    <tr>\n",
       "      <th>1</th>\n",
       "      <td>Andy</td>\n",
       "      <td>QA</td>\n",
       "      <td>25</td>\n",
       "      <td>female</td>\n",
       "    </tr>\n",
       "    <tr>\n",
       "      <th>2</th>\n",
       "      <td>Brad</td>\n",
       "      <td>IT</td>\n",
       "      <td>30</td>\n",
       "      <td>male</td>\n",
       "    </tr>\n",
       "  </tbody>\n",
       "</table>\n",
       "</div>"
      ],
      "text/plain": [
       "        0   1   2       3\n",
       "0  Steven  IT  40    male\n",
       "1    Andy  QA  25  female\n",
       "2    Brad  IT  30    male"
      ]
     },
     "execution_count": 44,
     "metadata": {},
     "output_type": "execute_result"
    }
   ],
   "source": [
    "result_df = pd.concat([df1,df2], axis=1, ignore_index = True)\n",
    "result_df"
   ]
  },
  {
   "cell_type": "markdown",
   "id": "9d49d35b",
   "metadata": {},
   "source": [
    "👉 column의 이름들이 사라졌습니다.. 다시 설정"
   ]
  },
  {
   "cell_type": "code",
   "execution_count": 45,
   "id": "c6417e0d",
   "metadata": {
    "ExecuteTime": {
     "end_time": "2022-06-26T06:01:05.473489Z",
     "start_time": "2022-06-26T06:01:05.458723Z"
    }
   },
   "outputs": [
    {
     "data": {
      "text/html": [
       "<div>\n",
       "<style scoped>\n",
       "    .dataframe tbody tr th:only-of-type {\n",
       "        vertical-align: middle;\n",
       "    }\n",
       "\n",
       "    .dataframe tbody tr th {\n",
       "        vertical-align: top;\n",
       "    }\n",
       "\n",
       "    .dataframe thead th {\n",
       "        text-align: right;\n",
       "    }\n",
       "</style>\n",
       "<table border=\"1\" class=\"dataframe\">\n",
       "  <thead>\n",
       "    <tr style=\"text-align: right;\">\n",
       "      <th></th>\n",
       "      <th>name</th>\n",
       "      <th>dept</th>\n",
       "      <th>age</th>\n",
       "      <th>sex</th>\n",
       "    </tr>\n",
       "  </thead>\n",
       "  <tbody>\n",
       "    <tr>\n",
       "      <th>0</th>\n",
       "      <td>Steven</td>\n",
       "      <td>IT</td>\n",
       "      <td>40</td>\n",
       "      <td>male</td>\n",
       "    </tr>\n",
       "    <tr>\n",
       "      <th>1</th>\n",
       "      <td>Andy</td>\n",
       "      <td>QA</td>\n",
       "      <td>25</td>\n",
       "      <td>female</td>\n",
       "    </tr>\n",
       "    <tr>\n",
       "      <th>2</th>\n",
       "      <td>Brad</td>\n",
       "      <td>IT</td>\n",
       "      <td>30</td>\n",
       "      <td>male</td>\n",
       "    </tr>\n",
       "  </tbody>\n",
       "</table>\n",
       "</div>"
      ],
      "text/plain": [
       "     name dept  age     sex\n",
       "0  Steven   IT   40    male\n",
       "1    Andy   QA   25  female\n",
       "2    Brad   IT   30    male"
      ]
     },
     "execution_count": 45,
     "metadata": {},
     "output_type": "execute_result"
    }
   ],
   "source": [
    "result_df.columns = ['name', 'dept', 'age', 'sex']\n",
    "result_df"
   ]
  },
  {
   "cell_type": "markdown",
   "id": "8f032cc6",
   "metadata": {},
   "source": [
    "# ⏺ 실습\n",
    "\n",
    "## 1️⃣ 실습.txt 파일을 읽어 옵니다.\n",
    "1. 해당 파일에서 구분자는 ,으로 되어 데이터가 있습니다.\n",
    "순서대로 항목, 개수, 가격 입니다.\n",
    "2. LIST, COUNT, PRICE header를 추가하여 넣어 줍니다.\n",
    "3. 개수가 10개 이상인 항목은 비고 탭을 만들어 '초과' 적은 것은 '적절'\n",
    "이라는 결과를 추가 해 줍니다.\n",
    "예상되는 결과"
   ]
  },
  {
   "attachments": {
    "image.png": {
     "image/png": "[encoded data removed]"
    }
   },
   "cell_type": "markdown",
   "id": "cc5be1b2",
   "metadata": {},
   "source": [
    "![image.png](attachment:image.png)"
   ]
  },
  {
   "cell_type": "code",
   "execution_count": 46,
   "id": "778eba40",
   "metadata": {
    "ExecuteTime": {
     "end_time": "2022-07-12T05:07:08.275100Z",
     "start_time": "2022-07-12T05:07:08.259871Z"
    },
    "code_folding": []
   },
   "outputs": [
    {
     "data": {
      "text/html": [
       "<div>\n",
       "<style scoped>\n",
       "    .dataframe tbody tr th:only-of-type {\n",
       "        vertical-align: middle;\n",
       "    }\n",
       "\n",
       "    .dataframe tbody tr th {\n",
       "        vertical-align: top;\n",
       "    }\n",
       "\n",
       "    .dataframe thead th {\n",
       "        text-align: right;\n",
       "    }\n",
       "</style>\n",
       "<table border=\"1\" class=\"dataframe\">\n",
       "  <thead>\n",
       "    <tr style=\"text-align: right;\">\n",
       "      <th></th>\n",
       "      <th>LIST</th>\n",
       "      <th>COUNT</th>\n",
       "      <th>PRICE</th>\n",
       "      <th>비고</th>\n",
       "    </tr>\n",
       "  </thead>\n",
       "  <tbody>\n",
       "    <tr>\n",
       "      <th>0</th>\n",
       "      <td>색연필</td>\n",
       "      <td>10</td>\n",
       "      <td>50000</td>\n",
       "      <td>초과</td>\n",
       "    </tr>\n",
       "    <tr>\n",
       "      <th>1</th>\n",
       "      <td>지우개</td>\n",
       "      <td>5</td>\n",
       "      <td>40000</td>\n",
       "      <td>적절</td>\n",
       "    </tr>\n",
       "    <tr>\n",
       "      <th>2</th>\n",
       "      <td>공책</td>\n",
       "      <td>3</td>\n",
       "      <td>20000</td>\n",
       "      <td>적절</td>\n",
       "    </tr>\n",
       "    <tr>\n",
       "      <th>3</th>\n",
       "      <td>연습장</td>\n",
       "      <td>1</td>\n",
       "      <td>1000</td>\n",
       "      <td>적절</td>\n",
       "    </tr>\n",
       "    <tr>\n",
       "      <th>4</th>\n",
       "      <td>비트코인</td>\n",
       "      <td>10</td>\n",
       "      <td>5400000</td>\n",
       "      <td>초과</td>\n",
       "    </tr>\n",
       "  </tbody>\n",
       "</table>\n",
       "</div>"
      ],
      "text/plain": [
       "   LIST  COUNT    PRICE  비고\n",
       "0   색연필     10    50000  초과\n",
       "1   지우개      5    40000  적절\n",
       "2    공책      3    20000  적절\n",
       "3   연습장      1     1000  적절\n",
       "4  비트코인     10  5400000  초과"
      ]
     },
     "execution_count": 46,
     "metadata": {},
     "output_type": "execute_result"
    }
   ],
   "source": [
    "#\n",
    "import pandas as pd\n",
    "\n",
    "def underPass(row):\n",
    "    if row>=10:\n",
    "        return '초과'\n",
    "    elif row<10:\n",
    "        return '적절'\n",
    "\n",
    "silsoup = pd.read_csv(\"data/실습.txt\", delimiter = ',', header = None, names=['LIST', 'COUNT', 'PRICE'])\n",
    "\n",
    "# silsoup['비고'] = silsoup['COUNT']\n",
    "silsoup['비고'] = silsoup.COUNT.apply(underPass)\n",
    "silsoup"
   ]
  },
  {
   "cell_type": "markdown",
   "id": "f75d2391",
   "metadata": {},
   "source": [
    "## 2️⃣ For문을 이용한 실습해보기\n",
    "1. iterrows() --> index , row [행에 대한 순환 반복]\n",
    "    index와 row를 둘 다 가져올 수 있습니다. 단점 : 느립니다.\n",
    "2. iteritems() --> col, item [열에 대한 순환 반복]\n",
    "3. index() --> index로만 순회"
   ]
  },
  {
   "cell_type": "code",
   "execution_count": 45,
   "id": "ce33be35",
   "metadata": {
    "ExecuteTime": {
     "end_time": "2022-07-12T04:53:54.287160Z",
     "start_time": "2022-07-12T04:53:54.264568Z"
    }
   },
   "outputs": [
    {
     "data": {
      "text/html": [
       "<div>\n",
       "<style scoped>\n",
       "    .dataframe tbody tr th:only-of-type {\n",
       "        vertical-align: middle;\n",
       "    }\n",
       "\n",
       "    .dataframe tbody tr th {\n",
       "        vertical-align: top;\n",
       "    }\n",
       "\n",
       "    .dataframe thead th {\n",
       "        text-align: right;\n",
       "    }\n",
       "</style>\n",
       "<table border=\"1\" class=\"dataframe\">\n",
       "  <thead>\n",
       "    <tr style=\"text-align: right;\">\n",
       "      <th></th>\n",
       "      <th>LIST</th>\n",
       "      <th>COUNT</th>\n",
       "      <th>PRICE</th>\n",
       "      <th>비고</th>\n",
       "    </tr>\n",
       "  </thead>\n",
       "  <tbody>\n",
       "    <tr>\n",
       "      <th>0</th>\n",
       "      <td>색연필</td>\n",
       "      <td>10</td>\n",
       "      <td>50000</td>\n",
       "      <td>초과</td>\n",
       "    </tr>\n",
       "    <tr>\n",
       "      <th>1</th>\n",
       "      <td>지우개</td>\n",
       "      <td>5</td>\n",
       "      <td>40000</td>\n",
       "      <td>적절</td>\n",
       "    </tr>\n",
       "    <tr>\n",
       "      <th>2</th>\n",
       "      <td>공책</td>\n",
       "      <td>3</td>\n",
       "      <td>20000</td>\n",
       "      <td>적절</td>\n",
       "    </tr>\n",
       "    <tr>\n",
       "      <th>3</th>\n",
       "      <td>연습장</td>\n",
       "      <td>1</td>\n",
       "      <td>1000</td>\n",
       "      <td>적절</td>\n",
       "    </tr>\n",
       "    <tr>\n",
       "      <th>4</th>\n",
       "      <td>비트코인</td>\n",
       "      <td>10</td>\n",
       "      <td>5400000</td>\n",
       "      <td>초과</td>\n",
       "    </tr>\n",
       "  </tbody>\n",
       "</table>\n",
       "</div>"
      ],
      "text/plain": [
       "   LIST  COUNT    PRICE  비고\n",
       "0   색연필     10    50000  초과\n",
       "1   지우개      5    40000  적절\n",
       "2    공책      3    20000  적절\n",
       "3   연습장      1     1000  적절\n",
       "4  비트코인     10  5400000  초과"
      ]
     },
     "execution_count": 45,
     "metadata": {},
     "output_type": "execute_result"
    }
   ],
   "source": [
    "silsoup"
   ]
  },
  {
   "cell_type": "code",
   "execution_count": 48,
   "id": "90cdca22",
   "metadata": {
    "ExecuteTime": {
     "end_time": "2022-07-12T05:10:08.968025Z",
     "start_time": "2022-07-12T05:10:08.949238Z"
    },
    "scrolled": false
   },
   "outputs": [
    {
     "name": "stdout",
     "output_type": "stream",
     "text": [
      "1000\n"
     ]
    }
   ],
   "source": [
    "for idex, row in silsoup.iterrows():\n",
    "     #print(idex)\n",
    "     #print(row)\n",
    "    if row['LIST']=='연습장':\n",
    "        print(silsoup['PRICE'][idex])"
   ]
  },
  {
   "cell_type": "code",
   "execution_count": 50,
   "id": "0b8ad65a",
   "metadata": {
    "ExecuteTime": {
     "end_time": "2022-07-12T05:10:35.627096Z",
     "start_time": "2022-07-12T05:10:35.616837Z"
    }
   },
   "outputs": [
    {
     "name": "stdout",
     "output_type": "stream",
     "text": [
      "0     색연필\n",
      "1     지우개\n",
      "2      공책\n",
      "3     연습장\n",
      "4    비트코인\n",
      "Name: LIST, dtype: object\n",
      "0    10\n",
      "1     5\n",
      "2     3\n",
      "3     1\n",
      "4    10\n",
      "Name: COUNT, dtype: int64\n",
      "0      50000\n",
      "1      40000\n",
      "2      20000\n",
      "3       1000\n",
      "4    5400000\n",
      "Name: PRICE, dtype: int64\n",
      "0    초과\n",
      "1    적절\n",
      "2    적절\n",
      "3    적절\n",
      "4    초과\n",
      "Name: 비고, dtype: object\n"
     ]
    }
   ],
   "source": [
    "for i, j in silsoup.iteritems():\n",
    "    print(j)"
   ]
  },
  {
   "cell_type": "code",
   "execution_count": 12,
   "id": "e70144b7",
   "metadata": {},
   "outputs": [
    {
     "name": "stdout",
     "output_type": "stream",
     "text": [
      "색연필\n",
      "10\n",
      "50000\n",
      "초과\n"
     ]
    }
   ],
   "source": [
    "for col, item in silsoup.iteritems():\n",
    "    #print(item)\n",
    "    print(silsoup[col][0])\n",
    "    #print(item[0])"
   ]
  },
  {
   "cell_type": "code",
   "execution_count": 20,
   "id": "cd1d94f1",
   "metadata": {},
   "outputs": [
    {
     "name": "stdout",
     "output_type": "stream",
     "text": [
      "0\n",
      "1\n",
      "2\n",
      "3\n",
      "4\n"
     ]
    }
   ],
   "source": [
    "for i in range(len(silsoup)):\n",
    "    print(i)\n",
    "    #print(silsoup.loc[i,'LIST'])"
   ]
  },
  {
   "cell_type": "code",
   "execution_count": 52,
   "id": "aefc2402",
   "metadata": {
    "ExecuteTime": {
     "end_time": "2022-06-27T07:25:30.715238Z",
     "start_time": "2022-06-27T07:25:30.696641Z"
    }
   },
   "outputs": [
    {
     "name": "stdout",
     "output_type": "stream",
     "text": [
      "RangeIndex(start=0, stop=5, step=1)\n",
      "색연필\n",
      "지우개\n",
      "공책\n",
      "연습장\n",
      "비트코인\n"
     ]
    }
   ],
   "source": [
    "print(silsoup.index)\n",
    "for idx in silsoup.index: #[0,1,2,3,4]\n",
    "    #print(idx)\n",
    "    print(silsoup['LIST'][idx])"
   ]
  },
  {
   "cell_type": "code",
   "execution_count": 15,
   "id": "92ca0e9e",
   "metadata": {
    "scrolled": true
   },
   "outputs": [
    {
     "name": "stdout",
     "output_type": "stream",
     "text": [
      "색연필\n",
      "지우개\n",
      "공책\n",
      "연습장\n",
      "비트코인\n"
     ]
    }
   ],
   "source": [
    "for 열 in silsoup['LIST']:\n",
    "    print(열)"
   ]
  },
  {
   "cell_type": "markdown",
   "id": "fb8eea3c",
   "metadata": {},
   "source": [
    "## 3️⃣ openpyxl 라이브러리 활용 - 배경색상이 있는 cell 잡아내기\n",
    "https://openpyxl.readthedocs.io/en/stable/"
   ]
  },
  {
   "attachments": {
    "image-2.png": {
     "image/png": "[encoded data removed]"
    },
    "image-3.png": {
     "image/png": "[encoded data removed]"
    },
    "image-4.png": {
     "image/png": "[encoded data removed]"
    },
    "image-6.png": {
     "image/png": "[encoded data removed]"
    },
    "image-7.png": {
     "image/png": "[encoded data removed]"
    },
    "image-8.png": {
     "image/png": "[encoded data removed]"
    },
    "image.png": {
     "image/png": "[encoded data removed]"
    }
   },
   "cell_type": "markdown",
   "id": "44afbe08",
   "metadata": {},
   "source": [
    "### 👀 알아내는 과정은 다음과 같습니다. (※꼭 이대로 안하셔도 됩니다!)\n",
    "\n",
    "#### ① openpyxl 라이브러리 사용할 생각하기\n",
    "\n",
    "- 배경색상을 가져와야 하기 때문에 셀의 정보를 가져올 수 있는 명령어를 찾습니다.(기존 pandas `read_excel`로는 셀정보까진 못불러온다)\n",
    "- 👉 파이썬 엑셀 불러오기로 read_excel 외에 명령어를 검색하여 찾아봅니다.\n",
    "- 👉 openpyxl에서 load_workbook이라는 명령어를 사용합니다.\n",
    "\n",
    "#### ② Python excel cell color 키워드로 google 검색\n",
    "\n",
    "- 엑셀의 셀 색깔에 대해 알아내야 하기때문에 Python excell cell color로 검색\n",
    "- (보통 한글보다 영어로 검색했을때 더 많은 정보가 나옵니다!)\n",
    "\n",
    "![image.png](attachment:image.png)\n",
    "\n",
    "#### ③ openpyxl의 fill이라는 함수로 값을 넣을 수 있음을 알아냄\n",
    "- 그렇다면 반대로 값을 조건문을 통해 찾을 수 있다는 걸 인지\n",
    "![image-2.png](attachment:image-2.png)\n",
    "\n",
    "#### ④ openpyxl 문서에 들어가 cell이 가지는 특징을 알아봅니다. \n",
    "- 👉 `cell.coordinate` 해당 셀에 위치를 의미합니다. ex) A1, B2...\n",
    "- \n",
    "![image-8.png](attachment:image-8.png)\n",
    "\n",
    "\n",
    "#### ⑤ print(ws[cell.coordinate].fill) 를 통해 오브젝트의 특징을 찾음\n",
    "![image-3.png](attachment:image-3.png)\n",
    "<br>\n",
    "\n",
    "#### ⑥. print문을 통해 fgColor 부분에 색상의 값이 들어갔음을 알 수 있었고<br>\n",
    "이를 통하면 값을 조건 줄 수 있을거라고 유추 가능\n",
    "\n",
    "#### ⑦. 색상에 대한 값이 어떤 encoding 인지 일부러 엉뚱한 값을 내본 후\n",
    "aRGB hex라는 것을 알아냄\n",
    "![image-4.png](attachment:image-4.png)\n",
    "\n",
    "#### ⑧. 엑셀에서 rgb 값을 숫자로 확인 후 해당 값의 컨버팅 <br> 가능 한 사이트를 찾음\n",
    "![image-7.png](attachment:image-7.png)\n",
    "![image-6.png](attachment:image-6.png)\n",
    "\n",
    "#### ⑨. CODE에 조건을 넣어 완성"
   ]
  },
  {
   "cell_type": "code",
   "execution_count": 2,
   "id": "46e8e477",
   "metadata": {
    "ExecuteTime": {
     "end_time": "2022-07-12T04:36:06.475662Z",
     "start_time": "2022-07-12T04:36:06.451808Z"
    },
    "code_folding": []
   },
   "outputs": [
    {
     "name": "stdout",
     "output_type": "stream",
     "text": [
      "<Cell 'Sheet1'.B4>은 빨간색 입니다.\n",
      "<Cell 'Sheet1'.A5>은 노란색 입니다.\n",
      "<Cell 'Sheet1'.B5>은 노란색 입니다.\n",
      "<Cell 'Sheet1'.C5>은 노란색 입니다.\n",
      "<Cell 'Sheet1'.D5>은 노란색 입니다.\n"
     ]
    }
   ],
   "source": [
    "#\n",
    "from openpyxl import Workbook\n",
    "from openpyxl import load_workbook\n",
    "from openpyxl.styles import PatternFill\n",
    "\n",
    "wb = load_workbook(\"data/openpyxl_color_sample.xlsx\")\n",
    "ws = wb.active\n",
    "\n",
    "#ws.iter_rows/cols를 통해 특정범위의 셀 접근 가능\n",
    "for row in ws.iter_rows():\n",
    "#     print(row)\n",
    "    for cell in row:\n",
    "#         print(cell.coordinate)\n",
    "#         print(ws[cell.coordinate])\n",
    "#         print(ws[cell.coordinate].fill)\n",
    "#         print(ws[cell.coordinate].fill.fgColor.rgb)\n",
    "#         ws[cell.coordinate].fill.fgColor.rgb = 'XX'\n",
    "#         print(cell.coordinate)\n",
    "#         print(ws[cell.coordinate].fill.fgColor.rgb)\n",
    "        if ws[cell.coordinate].fill.fgColor.rgb == 'FFFF0000' :\n",
    "            print(str(ws[cell.coordinate])+\"은 빨간색 입니다.\")\n",
    "        elif ws[cell.coordinate].fill.fgColor.rgb == 'FFFFFF00' :\n",
    "            print(str(ws[cell.coordinate])+\"은 노란색 입니다.\")"
   ]
  }
 ],
 "metadata": {
  "kernelspec": {
   "display_name": "Python 3 (ipykernel)",
   "language": "python",
   "name": "python3"
  },
  "language_info": {
   "codemirror_mode": {
    "name": "ipython",
    "version": 3
   },
   "file_extension": ".py",
   "mimetype": "text/x-python",
   "name": "python",
   "nbconvert_exporter": "python",
   "pygments_lexer": "ipython3",
   "version": "3.9.13"
  },
  "toc": {
   "base_numbering": 1,
   "nav_menu": {},
   "number_sections": true,
   "sideBar": true,
   "skip_h1_title": false,
   "title_cell": "Table of Contents",
   "title_sidebar": "Contents",
   "toc_cell": false,
   "toc_position": {
    "height": "calc(100% - 180px)",
    "left": "10px",
    "top": "150px",
    "width": "291px"
   },
   "toc_section_display": true,
   "toc_window_display": true
  },
  "varInspector": {
   "cols": {
    "lenName": 16,
    "lenType": 16,
    "lenVar": 40
   },
   "kernels_config": {
    "python": {
     "delete_cmd_postfix": "",
     "delete_cmd_prefix": "del ",
     "library": "var_list.py",
     "varRefreshCmd": "print(var_dic_list())"
    },
    "r": {
     "delete_cmd_postfix": ") ",
     "delete_cmd_prefix": "rm(",
     "library": "var_list.r",
     "varRefreshCmd": "cat(var_dic_list()) "
    }
   },
   "types_to_exclude": [
    "module",
    "function",
    "builtin_function_or_method",
    "instance",
    "_Feature"
   ],
   "window_display": false
  }
 },
 "nbformat": 4,
 "nbformat_minor": 5
}
